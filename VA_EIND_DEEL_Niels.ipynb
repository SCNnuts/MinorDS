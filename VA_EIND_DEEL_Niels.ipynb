{
 "cells": [
  {
   "cell_type": "markdown",
   "id": "40298492",
   "metadata": {},
   "source": [
    "# Sentiment analysis on AIRBNB reviews"
   ]
  },
  {
   "cell_type": "code",
   "execution_count": 2,
   "id": "42935208",
   "metadata": {},
   "outputs": [],
   "source": [
    "import numpy as np\n",
    "import pandas as pd\n",
    "import matplotlib.pyplot as plt\n",
    "import spacy\n",
    "from langdetect import detect\n",
    "from spacytextblob.spacytextblob import SpacyTextBlob as stb\n",
    "import seaborn as sns\n",
    "import streamlit as st\n",
    "from sklearn.metrics import r2_score"
   ]
  },
  {
   "cell_type": "code",
   "execution_count": 2,
   "id": "b6ce6677",
   "metadata": {},
   "outputs": [
    {
     "name": "stderr",
     "output_type": "stream",
     "text": [
      "C:\\Users\\nijo0\\AppData\\Local\\Temp\\ipykernel_14504\\1658831969.py:2: DtypeWarning: Columns (87) have mixed types. Specify dtype option on import or set low_memory=False.\n",
      "  df2 = pd.read_csv('listings_details.csv')\n",
      "C:\\Users\\nijo0\\AppData\\Local\\Temp\\ipykernel_14504\\1658831969.py:3: DtypeWarning: Columns (87) have mixed types. Specify dtype option on import or set low_memory=False.\n",
      "  df3 = pd.read_csv('listings_details_full.csv')\n"
     ]
    }
   ],
   "source": [
    "df1 = pd.read_csv('listings.csv')\n",
    "df2 = pd.read_csv('listings_details.csv')\n",
    "df3 = pd.read_csv('listings_details_full.csv')"
   ]
  },
  {
   "cell_type": "code",
   "execution_count": 3,
   "id": "45c18dff",
   "metadata": {},
   "outputs": [
    {
     "data": {
      "text/html": [
       "<div>\n",
       "<style scoped>\n",
       "    .dataframe tbody tr th:only-of-type {\n",
       "        vertical-align: middle;\n",
       "    }\n",
       "\n",
       "    .dataframe tbody tr th {\n",
       "        vertical-align: top;\n",
       "    }\n",
       "\n",
       "    .dataframe thead th {\n",
       "        text-align: right;\n",
       "    }\n",
       "</style>\n",
       "<table border=\"1\" class=\"dataframe\">\n",
       "  <thead>\n",
       "    <tr style=\"text-align: right;\">\n",
       "      <th></th>\n",
       "      <th>id</th>\n",
       "      <th>name</th>\n",
       "      <th>host_id</th>\n",
       "      <th>host_name</th>\n",
       "      <th>neighbourhood_group</th>\n",
       "      <th>neighbourhood</th>\n",
       "      <th>latitude</th>\n",
       "      <th>longitude</th>\n",
       "      <th>room_type</th>\n",
       "      <th>price</th>\n",
       "      <th>minimum_nights</th>\n",
       "      <th>number_of_reviews</th>\n",
       "      <th>last_review</th>\n",
       "      <th>reviews_per_month</th>\n",
       "      <th>calculated_host_listings_count</th>\n",
       "      <th>availability_365</th>\n",
       "    </tr>\n",
       "  </thead>\n",
       "  <tbody>\n",
       "    <tr>\n",
       "      <th>0</th>\n",
       "      <td>2818</td>\n",
       "      <td>Quiet Garden View Room &amp; Super Fast WiFi</td>\n",
       "      <td>3159</td>\n",
       "      <td>Daniel</td>\n",
       "      <td>NaN</td>\n",
       "      <td>Oostelijk Havengebied - Indische Buurt</td>\n",
       "      <td>52.365755</td>\n",
       "      <td>4.941419</td>\n",
       "      <td>Private room</td>\n",
       "      <td>59</td>\n",
       "      <td>3</td>\n",
       "      <td>248</td>\n",
       "      <td>2018-11-28</td>\n",
       "      <td>2.10</td>\n",
       "      <td>1</td>\n",
       "      <td>44</td>\n",
       "    </tr>\n",
       "    <tr>\n",
       "      <th>1</th>\n",
       "      <td>3209</td>\n",
       "      <td>Quiet apt near center, great view</td>\n",
       "      <td>3806</td>\n",
       "      <td>Maartje</td>\n",
       "      <td>NaN</td>\n",
       "      <td>Westerpark</td>\n",
       "      <td>52.390225</td>\n",
       "      <td>4.873924</td>\n",
       "      <td>Entire home/apt</td>\n",
       "      <td>160</td>\n",
       "      <td>4</td>\n",
       "      <td>42</td>\n",
       "      <td>2018-08-29</td>\n",
       "      <td>1.03</td>\n",
       "      <td>1</td>\n",
       "      <td>47</td>\n",
       "    </tr>\n",
       "    <tr>\n",
       "      <th>2</th>\n",
       "      <td>20168</td>\n",
       "      <td>100%Centre-Studio 1 Private Floor/Bathroom</td>\n",
       "      <td>59484</td>\n",
       "      <td>Alex</td>\n",
       "      <td>NaN</td>\n",
       "      <td>Centrum-Oost</td>\n",
       "      <td>52.365087</td>\n",
       "      <td>4.893541</td>\n",
       "      <td>Entire home/apt</td>\n",
       "      <td>80</td>\n",
       "      <td>1</td>\n",
       "      <td>233</td>\n",
       "      <td>2018-11-30</td>\n",
       "      <td>2.18</td>\n",
       "      <td>2</td>\n",
       "      <td>198</td>\n",
       "    </tr>\n",
       "    <tr>\n",
       "      <th>3</th>\n",
       "      <td>25428</td>\n",
       "      <td>Lovely apt in City Centre (Jordaan)</td>\n",
       "      <td>56142</td>\n",
       "      <td>Joan</td>\n",
       "      <td>NaN</td>\n",
       "      <td>Centrum-West</td>\n",
       "      <td>52.373114</td>\n",
       "      <td>4.883668</td>\n",
       "      <td>Entire home/apt</td>\n",
       "      <td>125</td>\n",
       "      <td>14</td>\n",
       "      <td>1</td>\n",
       "      <td>2018-01-21</td>\n",
       "      <td>0.09</td>\n",
       "      <td>2</td>\n",
       "      <td>141</td>\n",
       "    </tr>\n",
       "    <tr>\n",
       "      <th>4</th>\n",
       "      <td>27886</td>\n",
       "      <td>Romantic, stylish B&amp;B houseboat in canal district</td>\n",
       "      <td>97647</td>\n",
       "      <td>Flip</td>\n",
       "      <td>NaN</td>\n",
       "      <td>Centrum-West</td>\n",
       "      <td>52.386727</td>\n",
       "      <td>4.892078</td>\n",
       "      <td>Private room</td>\n",
       "      <td>150</td>\n",
       "      <td>2</td>\n",
       "      <td>171</td>\n",
       "      <td>2018-11-25</td>\n",
       "      <td>2.03</td>\n",
       "      <td>1</td>\n",
       "      <td>199</td>\n",
       "    </tr>\n",
       "  </tbody>\n",
       "</table>\n",
       "</div>"
      ],
      "text/plain": [
       "      id                                               name  host_id  \\\n",
       "0   2818           Quiet Garden View Room & Super Fast WiFi     3159   \n",
       "1   3209                  Quiet apt near center, great view     3806   \n",
       "2  20168         100%Centre-Studio 1 Private Floor/Bathroom    59484   \n",
       "3  25428                Lovely apt in City Centre (Jordaan)    56142   \n",
       "4  27886  Romantic, stylish B&B houseboat in canal district    97647   \n",
       "\n",
       "  host_name  neighbourhood_group                           neighbourhood  \\\n",
       "0    Daniel                  NaN  Oostelijk Havengebied - Indische Buurt   \n",
       "1   Maartje                  NaN                              Westerpark   \n",
       "2      Alex                  NaN                            Centrum-Oost   \n",
       "3      Joan                  NaN                            Centrum-West   \n",
       "4      Flip                  NaN                            Centrum-West   \n",
       "\n",
       "    latitude  longitude        room_type  price  minimum_nights  \\\n",
       "0  52.365755   4.941419     Private room     59               3   \n",
       "1  52.390225   4.873924  Entire home/apt    160               4   \n",
       "2  52.365087   4.893541  Entire home/apt     80               1   \n",
       "3  52.373114   4.883668  Entire home/apt    125              14   \n",
       "4  52.386727   4.892078     Private room    150               2   \n",
       "\n",
       "   number_of_reviews last_review  reviews_per_month  \\\n",
       "0                248  2018-11-28               2.10   \n",
       "1                 42  2018-08-29               1.03   \n",
       "2                233  2018-11-30               2.18   \n",
       "3                  1  2018-01-21               0.09   \n",
       "4                171  2018-11-25               2.03   \n",
       "\n",
       "   calculated_host_listings_count  availability_365  \n",
       "0                               1                44  \n",
       "1                               1                47  \n",
       "2                               2               198  \n",
       "3                               2               141  \n",
       "4                               1               199  "
      ]
     },
     "execution_count": 3,
     "metadata": {},
     "output_type": "execute_result"
    }
   ],
   "source": [
    "df1.head()"
   ]
  },
  {
   "cell_type": "code",
   "execution_count": 4,
   "id": "70799c34",
   "metadata": {},
   "outputs": [
    {
     "data": {
      "text/html": [
       "<div>\n",
       "<style scoped>\n",
       "    .dataframe tbody tr th:only-of-type {\n",
       "        vertical-align: middle;\n",
       "    }\n",
       "\n",
       "    .dataframe tbody tr th {\n",
       "        vertical-align: top;\n",
       "    }\n",
       "\n",
       "    .dataframe thead th {\n",
       "        text-align: right;\n",
       "    }\n",
       "</style>\n",
       "<table border=\"1\" class=\"dataframe\">\n",
       "  <thead>\n",
       "    <tr style=\"text-align: right;\">\n",
       "      <th></th>\n",
       "      <th>id</th>\n",
       "      <th>listing_url</th>\n",
       "      <th>scrape_id</th>\n",
       "      <th>last_scraped</th>\n",
       "      <th>name</th>\n",
       "      <th>summary</th>\n",
       "      <th>space</th>\n",
       "      <th>description</th>\n",
       "      <th>experiences_offered</th>\n",
       "      <th>neighborhood_overview</th>\n",
       "      <th>...</th>\n",
       "      <th>requires_license</th>\n",
       "      <th>license</th>\n",
       "      <th>jurisdiction_names</th>\n",
       "      <th>instant_bookable</th>\n",
       "      <th>is_business_travel_ready</th>\n",
       "      <th>cancellation_policy</th>\n",
       "      <th>require_guest_profile_picture</th>\n",
       "      <th>require_guest_phone_verification</th>\n",
       "      <th>calculated_host_listings_count</th>\n",
       "      <th>reviews_per_month</th>\n",
       "    </tr>\n",
       "  </thead>\n",
       "  <tbody>\n",
       "    <tr>\n",
       "      <th>0</th>\n",
       "      <td>2818</td>\n",
       "      <td>https://www.airbnb.com/rooms/2818</td>\n",
       "      <td>20181206172549</td>\n",
       "      <td>2018-12-06</td>\n",
       "      <td>Quiet Garden View Room &amp; Super Fast WiFi</td>\n",
       "      <td>Quiet Garden View Room &amp; Super Fast WiFi</td>\n",
       "      <td>I'm renting a bedroom (room overlooking the ga...</td>\n",
       "      <td>Quiet Garden View Room &amp; Super Fast WiFi I'm r...</td>\n",
       "      <td>none</td>\n",
       "      <td>Indische Buurt (\"Indies Neighborhood\") is a ne...</td>\n",
       "      <td>...</td>\n",
       "      <td>f</td>\n",
       "      <td>NaN</td>\n",
       "      <td>{Amsterdam}</td>\n",
       "      <td>t</td>\n",
       "      <td>f</td>\n",
       "      <td>strict_14_with_grace_period</td>\n",
       "      <td>f</td>\n",
       "      <td>f</td>\n",
       "      <td>1</td>\n",
       "      <td>2.10</td>\n",
       "    </tr>\n",
       "    <tr>\n",
       "      <th>1</th>\n",
       "      <td>3209</td>\n",
       "      <td>https://www.airbnb.com/rooms/3209</td>\n",
       "      <td>20181206172549</td>\n",
       "      <td>2018-12-06</td>\n",
       "      <td>Quiet apt near center, great view</td>\n",
       "      <td>You will love our spacious (90 m2) bright apar...</td>\n",
       "      <td>Our apartment has lots of light, a balcony and...</td>\n",
       "      <td>You will love our spacious (90 m2) bright apar...</td>\n",
       "      <td>none</td>\n",
       "      <td>Welcome to the Spaarndammerbuurt! From the beg...</td>\n",
       "      <td>...</td>\n",
       "      <td>f</td>\n",
       "      <td>NaN</td>\n",
       "      <td>{Amsterdam}</td>\n",
       "      <td>f</td>\n",
       "      <td>f</td>\n",
       "      <td>moderate</td>\n",
       "      <td>f</td>\n",
       "      <td>f</td>\n",
       "      <td>1</td>\n",
       "      <td>1.03</td>\n",
       "    </tr>\n",
       "    <tr>\n",
       "      <th>2</th>\n",
       "      <td>20168</td>\n",
       "      <td>https://www.airbnb.com/rooms/20168</td>\n",
       "      <td>20181206172549</td>\n",
       "      <td>2018-12-06</td>\n",
       "      <td>100%Centre-Studio 1 Private Floor/Bathroom</td>\n",
       "      <td>Cozy studio on your own private floor, 100% in...</td>\n",
       "      <td>For those who like all facets of city life. In...</td>\n",
       "      <td>Cozy studio on your own private floor, 100% in...</td>\n",
       "      <td>none</td>\n",
       "      <td>Located just in between famous central canals....</td>\n",
       "      <td>...</td>\n",
       "      <td>f</td>\n",
       "      <td>NaN</td>\n",
       "      <td>{Amsterdam}</td>\n",
       "      <td>f</td>\n",
       "      <td>f</td>\n",
       "      <td>strict_14_with_grace_period</td>\n",
       "      <td>f</td>\n",
       "      <td>f</td>\n",
       "      <td>2</td>\n",
       "      <td>2.18</td>\n",
       "    </tr>\n",
       "    <tr>\n",
       "      <th>3</th>\n",
       "      <td>25428</td>\n",
       "      <td>https://www.airbnb.com/rooms/25428</td>\n",
       "      <td>20181206172549</td>\n",
       "      <td>2018-12-06</td>\n",
       "      <td>Lovely apt in City Centre (Jordaan)</td>\n",
       "      <td>NaN</td>\n",
       "      <td>This nicely furnished, newly renovated apt  is...</td>\n",
       "      <td>This nicely furnished, newly renovated apt  is...</td>\n",
       "      <td>none</td>\n",
       "      <td>NaN</td>\n",
       "      <td>...</td>\n",
       "      <td>f</td>\n",
       "      <td>NaN</td>\n",
       "      <td>{Amsterdam}</td>\n",
       "      <td>f</td>\n",
       "      <td>f</td>\n",
       "      <td>strict_14_with_grace_period</td>\n",
       "      <td>f</td>\n",
       "      <td>f</td>\n",
       "      <td>2</td>\n",
       "      <td>0.09</td>\n",
       "    </tr>\n",
       "    <tr>\n",
       "      <th>4</th>\n",
       "      <td>27886</td>\n",
       "      <td>https://www.airbnb.com/rooms/27886</td>\n",
       "      <td>20181206172549</td>\n",
       "      <td>2018-12-06</td>\n",
       "      <td>Romantic, stylish B&amp;B houseboat in canal district</td>\n",
       "      <td>Stylish and romantic houseboat on fantastic hi...</td>\n",
       "      <td>For a romantic couple: A beautifully restored ...</td>\n",
       "      <td>Stylish and romantic houseboat on fantastic hi...</td>\n",
       "      <td>none</td>\n",
       "      <td>Central, quiet, safe, clean and beautiful.</td>\n",
       "      <td>...</td>\n",
       "      <td>f</td>\n",
       "      <td>NaN</td>\n",
       "      <td>{Amsterdam}</td>\n",
       "      <td>t</td>\n",
       "      <td>f</td>\n",
       "      <td>strict_14_with_grace_period</td>\n",
       "      <td>f</td>\n",
       "      <td>f</td>\n",
       "      <td>1</td>\n",
       "      <td>2.03</td>\n",
       "    </tr>\n",
       "  </tbody>\n",
       "</table>\n",
       "<p>5 rows × 96 columns</p>\n",
       "</div>"
      ],
      "text/plain": [
       "      id                         listing_url       scrape_id last_scraped  \\\n",
       "0   2818   https://www.airbnb.com/rooms/2818  20181206172549   2018-12-06   \n",
       "1   3209   https://www.airbnb.com/rooms/3209  20181206172549   2018-12-06   \n",
       "2  20168  https://www.airbnb.com/rooms/20168  20181206172549   2018-12-06   \n",
       "3  25428  https://www.airbnb.com/rooms/25428  20181206172549   2018-12-06   \n",
       "4  27886  https://www.airbnb.com/rooms/27886  20181206172549   2018-12-06   \n",
       "\n",
       "                                                name  \\\n",
       "0           Quiet Garden View Room & Super Fast WiFi   \n",
       "1                  Quiet apt near center, great view   \n",
       "2         100%Centre-Studio 1 Private Floor/Bathroom   \n",
       "3                Lovely apt in City Centre (Jordaan)   \n",
       "4  Romantic, stylish B&B houseboat in canal district   \n",
       "\n",
       "                                             summary  \\\n",
       "0           Quiet Garden View Room & Super Fast WiFi   \n",
       "1  You will love our spacious (90 m2) bright apar...   \n",
       "2  Cozy studio on your own private floor, 100% in...   \n",
       "3                                                NaN   \n",
       "4  Stylish and romantic houseboat on fantastic hi...   \n",
       "\n",
       "                                               space  \\\n",
       "0  I'm renting a bedroom (room overlooking the ga...   \n",
       "1  Our apartment has lots of light, a balcony and...   \n",
       "2  For those who like all facets of city life. In...   \n",
       "3  This nicely furnished, newly renovated apt  is...   \n",
       "4  For a romantic couple: A beautifully restored ...   \n",
       "\n",
       "                                         description experiences_offered  \\\n",
       "0  Quiet Garden View Room & Super Fast WiFi I'm r...                none   \n",
       "1  You will love our spacious (90 m2) bright apar...                none   \n",
       "2  Cozy studio on your own private floor, 100% in...                none   \n",
       "3  This nicely furnished, newly renovated apt  is...                none   \n",
       "4  Stylish and romantic houseboat on fantastic hi...                none   \n",
       "\n",
       "                               neighborhood_overview  ... requires_license  \\\n",
       "0  Indische Buurt (\"Indies Neighborhood\") is a ne...  ...                f   \n",
       "1  Welcome to the Spaarndammerbuurt! From the beg...  ...                f   \n",
       "2  Located just in between famous central canals....  ...                f   \n",
       "3                                                NaN  ...                f   \n",
       "4         Central, quiet, safe, clean and beautiful.  ...                f   \n",
       "\n",
       "  license jurisdiction_names instant_bookable is_business_travel_ready  \\\n",
       "0     NaN        {Amsterdam}                t                        f   \n",
       "1     NaN        {Amsterdam}                f                        f   \n",
       "2     NaN        {Amsterdam}                f                        f   \n",
       "3     NaN        {Amsterdam}                f                        f   \n",
       "4     NaN        {Amsterdam}                t                        f   \n",
       "\n",
       "           cancellation_policy  require_guest_profile_picture  \\\n",
       "0  strict_14_with_grace_period                              f   \n",
       "1                     moderate                              f   \n",
       "2  strict_14_with_grace_period                              f   \n",
       "3  strict_14_with_grace_period                              f   \n",
       "4  strict_14_with_grace_period                              f   \n",
       "\n",
       "  require_guest_phone_verification  calculated_host_listings_count  \\\n",
       "0                                f                               1   \n",
       "1                                f                               1   \n",
       "2                                f                               2   \n",
       "3                                f                               2   \n",
       "4                                f                               1   \n",
       "\n",
       "   reviews_per_month  \n",
       "0               2.10  \n",
       "1               1.03  \n",
       "2               2.18  \n",
       "3               0.09  \n",
       "4               2.03  \n",
       "\n",
       "[5 rows x 96 columns]"
      ]
     },
     "execution_count": 4,
     "metadata": {},
     "output_type": "execute_result"
    }
   ],
   "source": [
    "df2.head()"
   ]
  },
  {
   "cell_type": "code",
   "execution_count": 5,
   "id": "e32b6b1a",
   "metadata": {},
   "outputs": [],
   "source": [
    "reviews_df = pd.read_csv('reviews.csv')\n",
    "reviews_df2 = pd.read_csv('reviews_details.csv')"
   ]
  },
  {
   "cell_type": "code",
   "execution_count": 6,
   "id": "8e3713c9",
   "metadata": {},
   "outputs": [
    {
     "data": {
      "text/html": [
       "<div>\n",
       "<style scoped>\n",
       "    .dataframe tbody tr th:only-of-type {\n",
       "        vertical-align: middle;\n",
       "    }\n",
       "\n",
       "    .dataframe tbody tr th {\n",
       "        vertical-align: top;\n",
       "    }\n",
       "\n",
       "    .dataframe thead th {\n",
       "        text-align: right;\n",
       "    }\n",
       "</style>\n",
       "<table border=\"1\" class=\"dataframe\">\n",
       "  <thead>\n",
       "    <tr style=\"text-align: right;\">\n",
       "      <th></th>\n",
       "      <th>listing_id</th>\n",
       "      <th>date</th>\n",
       "    </tr>\n",
       "  </thead>\n",
       "  <tbody>\n",
       "    <tr>\n",
       "      <th>0</th>\n",
       "      <td>2818</td>\n",
       "      <td>2009-03-30</td>\n",
       "    </tr>\n",
       "    <tr>\n",
       "      <th>1</th>\n",
       "      <td>2818</td>\n",
       "      <td>2009-04-24</td>\n",
       "    </tr>\n",
       "    <tr>\n",
       "      <th>2</th>\n",
       "      <td>2818</td>\n",
       "      <td>2009-05-03</td>\n",
       "    </tr>\n",
       "    <tr>\n",
       "      <th>3</th>\n",
       "      <td>2818</td>\n",
       "      <td>2009-05-18</td>\n",
       "    </tr>\n",
       "    <tr>\n",
       "      <th>4</th>\n",
       "      <td>2818</td>\n",
       "      <td>2009-05-25</td>\n",
       "    </tr>\n",
       "  </tbody>\n",
       "</table>\n",
       "</div>"
      ],
      "text/plain": [
       "   listing_id        date\n",
       "0        2818  2009-03-30\n",
       "1        2818  2009-04-24\n",
       "2        2818  2009-05-03\n",
       "3        2818  2009-05-18\n",
       "4        2818  2009-05-25"
      ]
     },
     "execution_count": 6,
     "metadata": {},
     "output_type": "execute_result"
    }
   ],
   "source": [
    "reviews_df.head()"
   ]
  },
  {
   "cell_type": "code",
   "execution_count": 7,
   "id": "4edc3398",
   "metadata": {},
   "outputs": [
    {
     "data": {
      "text/plain": [
       "(431830, 2)"
      ]
     },
     "execution_count": 7,
     "metadata": {},
     "output_type": "execute_result"
    }
   ],
   "source": [
    "reviews_df.shape"
   ]
  },
  {
   "cell_type": "code",
   "execution_count": 8,
   "id": "acbf9797",
   "metadata": {},
   "outputs": [
    {
     "data": {
      "text/html": [
       "<div>\n",
       "<style scoped>\n",
       "    .dataframe tbody tr th:only-of-type {\n",
       "        vertical-align: middle;\n",
       "    }\n",
       "\n",
       "    .dataframe tbody tr th {\n",
       "        vertical-align: top;\n",
       "    }\n",
       "\n",
       "    .dataframe thead th {\n",
       "        text-align: right;\n",
       "    }\n",
       "</style>\n",
       "<table border=\"1\" class=\"dataframe\">\n",
       "  <thead>\n",
       "    <tr style=\"text-align: right;\">\n",
       "      <th></th>\n",
       "      <th>listing_id</th>\n",
       "      <th>id</th>\n",
       "      <th>date</th>\n",
       "      <th>reviewer_id</th>\n",
       "      <th>reviewer_name</th>\n",
       "      <th>comments</th>\n",
       "    </tr>\n",
       "  </thead>\n",
       "  <tbody>\n",
       "    <tr>\n",
       "      <th>0</th>\n",
       "      <td>2818</td>\n",
       "      <td>1191</td>\n",
       "      <td>2009-03-30</td>\n",
       "      <td>10952</td>\n",
       "      <td>Lam</td>\n",
       "      <td>Daniel is really cool. The place was nice and ...</td>\n",
       "    </tr>\n",
       "    <tr>\n",
       "      <th>1</th>\n",
       "      <td>2818</td>\n",
       "      <td>1771</td>\n",
       "      <td>2009-04-24</td>\n",
       "      <td>12798</td>\n",
       "      <td>Alice</td>\n",
       "      <td>Daniel is the most amazing host! His place is ...</td>\n",
       "    </tr>\n",
       "    <tr>\n",
       "      <th>2</th>\n",
       "      <td>2818</td>\n",
       "      <td>1989</td>\n",
       "      <td>2009-05-03</td>\n",
       "      <td>11869</td>\n",
       "      <td>Natalja</td>\n",
       "      <td>We had such a great time in Amsterdam. Daniel ...</td>\n",
       "    </tr>\n",
       "    <tr>\n",
       "      <th>3</th>\n",
       "      <td>2818</td>\n",
       "      <td>2797</td>\n",
       "      <td>2009-05-18</td>\n",
       "      <td>14064</td>\n",
       "      <td>Enrique</td>\n",
       "      <td>Very professional operation. Room is very clea...</td>\n",
       "    </tr>\n",
       "    <tr>\n",
       "      <th>4</th>\n",
       "      <td>2818</td>\n",
       "      <td>3151</td>\n",
       "      <td>2009-05-25</td>\n",
       "      <td>17977</td>\n",
       "      <td>Sherwin</td>\n",
       "      <td>Daniel is highly recommended.  He provided all...</td>\n",
       "    </tr>\n",
       "  </tbody>\n",
       "</table>\n",
       "</div>"
      ],
      "text/plain": [
       "   listing_id    id        date  reviewer_id reviewer_name  \\\n",
       "0        2818  1191  2009-03-30        10952           Lam   \n",
       "1        2818  1771  2009-04-24        12798         Alice   \n",
       "2        2818  1989  2009-05-03        11869       Natalja   \n",
       "3        2818  2797  2009-05-18        14064       Enrique   \n",
       "4        2818  3151  2009-05-25        17977       Sherwin   \n",
       "\n",
       "                                            comments  \n",
       "0  Daniel is really cool. The place was nice and ...  \n",
       "1  Daniel is the most amazing host! His place is ...  \n",
       "2  We had such a great time in Amsterdam. Daniel ...  \n",
       "3  Very professional operation. Room is very clea...  \n",
       "4  Daniel is highly recommended.  He provided all...  "
      ]
     },
     "execution_count": 8,
     "metadata": {},
     "output_type": "execute_result"
    }
   ],
   "source": [
    "reviews_df2.head()"
   ]
  },
  {
   "cell_type": "code",
   "execution_count": 9,
   "id": "a44f41b1",
   "metadata": {},
   "outputs": [
    {
     "data": {
      "text/plain": [
       "(431830, 6)"
      ]
     },
     "execution_count": 9,
     "metadata": {},
     "output_type": "execute_result"
    }
   ],
   "source": [
    "reviews_df2.shape"
   ]
  },
  {
   "cell_type": "code",
   "execution_count": 10,
   "id": "c6bf24aa",
   "metadata": {},
   "outputs": [
    {
     "data": {
      "text/plain": [
       "dtype('O')"
      ]
     },
     "execution_count": 10,
     "metadata": {},
     "output_type": "execute_result"
    }
   ],
   "source": [
    "reviews_df2['comments'].dtype"
   ]
  },
  {
   "cell_type": "code",
   "execution_count": 11,
   "id": "97928959",
   "metadata": {},
   "outputs": [
    {
     "data": {
      "text/html": [
       "<div>\n",
       "<style scoped>\n",
       "    .dataframe tbody tr th:only-of-type {\n",
       "        vertical-align: middle;\n",
       "    }\n",
       "\n",
       "    .dataframe tbody tr th {\n",
       "        vertical-align: top;\n",
       "    }\n",
       "\n",
       "    .dataframe thead th {\n",
       "        text-align: right;\n",
       "    }\n",
       "</style>\n",
       "<table border=\"1\" class=\"dataframe\">\n",
       "  <thead>\n",
       "    <tr style=\"text-align: right;\">\n",
       "      <th></th>\n",
       "      <th>listing_id</th>\n",
       "      <th>id</th>\n",
       "      <th>date</th>\n",
       "      <th>reviewer_id</th>\n",
       "      <th>reviewer_name</th>\n",
       "      <th>comments</th>\n",
       "      <th>comments_string</th>\n",
       "    </tr>\n",
       "  </thead>\n",
       "  <tbody>\n",
       "    <tr>\n",
       "      <th>0</th>\n",
       "      <td>2818</td>\n",
       "      <td>1191</td>\n",
       "      <td>2009-03-30</td>\n",
       "      <td>10952</td>\n",
       "      <td>Lam</td>\n",
       "      <td>Daniel is really cool. The place was nice and ...</td>\n",
       "      <td>Daniel is really cool. The place was nice and ...</td>\n",
       "    </tr>\n",
       "    <tr>\n",
       "      <th>1</th>\n",
       "      <td>2818</td>\n",
       "      <td>1771</td>\n",
       "      <td>2009-04-24</td>\n",
       "      <td>12798</td>\n",
       "      <td>Alice</td>\n",
       "      <td>Daniel is the most amazing host! His place is ...</td>\n",
       "      <td>Daniel is the most amazing host! His place is ...</td>\n",
       "    </tr>\n",
       "    <tr>\n",
       "      <th>2</th>\n",
       "      <td>2818</td>\n",
       "      <td>1989</td>\n",
       "      <td>2009-05-03</td>\n",
       "      <td>11869</td>\n",
       "      <td>Natalja</td>\n",
       "      <td>We had such a great time in Amsterdam. Daniel ...</td>\n",
       "      <td>We had such a great time in Amsterdam. Daniel ...</td>\n",
       "    </tr>\n",
       "    <tr>\n",
       "      <th>3</th>\n",
       "      <td>2818</td>\n",
       "      <td>2797</td>\n",
       "      <td>2009-05-18</td>\n",
       "      <td>14064</td>\n",
       "      <td>Enrique</td>\n",
       "      <td>Very professional operation. Room is very clea...</td>\n",
       "      <td>Very professional operation. Room is very clea...</td>\n",
       "    </tr>\n",
       "    <tr>\n",
       "      <th>4</th>\n",
       "      <td>2818</td>\n",
       "      <td>3151</td>\n",
       "      <td>2009-05-25</td>\n",
       "      <td>17977</td>\n",
       "      <td>Sherwin</td>\n",
       "      <td>Daniel is highly recommended.  He provided all...</td>\n",
       "      <td>Daniel is highly recommended.  He provided all...</td>\n",
       "    </tr>\n",
       "  </tbody>\n",
       "</table>\n",
       "</div>"
      ],
      "text/plain": [
       "   listing_id    id        date  reviewer_id reviewer_name  \\\n",
       "0        2818  1191  2009-03-30        10952           Lam   \n",
       "1        2818  1771  2009-04-24        12798         Alice   \n",
       "2        2818  1989  2009-05-03        11869       Natalja   \n",
       "3        2818  2797  2009-05-18        14064       Enrique   \n",
       "4        2818  3151  2009-05-25        17977       Sherwin   \n",
       "\n",
       "                                            comments  \\\n",
       "0  Daniel is really cool. The place was nice and ...   \n",
       "1  Daniel is the most amazing host! His place is ...   \n",
       "2  We had such a great time in Amsterdam. Daniel ...   \n",
       "3  Very professional operation. Room is very clea...   \n",
       "4  Daniel is highly recommended.  He provided all...   \n",
       "\n",
       "                                     comments_string  \n",
       "0  Daniel is really cool. The place was nice and ...  \n",
       "1  Daniel is the most amazing host! His place is ...  \n",
       "2  We had such a great time in Amsterdam. Daniel ...  \n",
       "3  Very professional operation. Room is very clea...  \n",
       "4  Daniel is highly recommended.  He provided all...  "
      ]
     },
     "execution_count": 11,
     "metadata": {},
     "output_type": "execute_result"
    }
   ],
   "source": [
    "reviews_df2['comments_string']=reviews_df2['comments'].str[0:]\n",
    "reviews_df2.head()"
   ]
  },
  {
   "cell_type": "markdown",
   "id": "ae3943c1",
   "metadata": {},
   "source": [
    "### Langdetect"
   ]
  },
  {
   "cell_type": "code",
   "execution_count": 12,
   "id": "a002e283",
   "metadata": {},
   "outputs": [
    {
     "data": {
      "text/plain": [
       "(431830, 7)"
      ]
     },
     "execution_count": 12,
     "metadata": {},
     "output_type": "execute_result"
    }
   ],
   "source": [
    "reviews_df2['comments']=reviews_df2['comments'].dropna()\n",
    "reviews_df2.shape"
   ]
  },
  {
   "cell_type": "code",
   "execution_count": 13,
   "id": "27ed15ac",
   "metadata": {},
   "outputs": [
    {
     "data": {
      "text/plain": [
       "(431300, 7)"
      ]
     },
     "execution_count": 13,
     "metadata": {},
     "output_type": "execute_result"
    }
   ],
   "source": [
    "reviews_df3=reviews_df2.dropna()\n",
    "reviews_df3.shape"
   ]
  },
  {
   "cell_type": "code",
   "execution_count": 14,
   "id": "45af4a68",
   "metadata": {},
   "outputs": [
    {
     "data": {
      "text/html": [
       "<div>\n",
       "<style scoped>\n",
       "    .dataframe tbody tr th:only-of-type {\n",
       "        vertical-align: middle;\n",
       "    }\n",
       "\n",
       "    .dataframe tbody tr th {\n",
       "        vertical-align: top;\n",
       "    }\n",
       "\n",
       "    .dataframe thead th {\n",
       "        text-align: right;\n",
       "    }\n",
       "</style>\n",
       "<table border=\"1\" class=\"dataframe\">\n",
       "  <thead>\n",
       "    <tr style=\"text-align: right;\">\n",
       "      <th></th>\n",
       "      <th>listing_id</th>\n",
       "      <th>id</th>\n",
       "      <th>date</th>\n",
       "      <th>reviewer_id</th>\n",
       "      <th>reviewer_name</th>\n",
       "      <th>comments</th>\n",
       "      <th>comments_string</th>\n",
       "    </tr>\n",
       "  </thead>\n",
       "  <tbody>\n",
       "    <tr>\n",
       "      <th>0</th>\n",
       "      <td>2818</td>\n",
       "      <td>1191</td>\n",
       "      <td>2009-03-30</td>\n",
       "      <td>10952</td>\n",
       "      <td>Lam</td>\n",
       "      <td>Daniel is really cool. The place was nice and ...</td>\n",
       "      <td>Daniel is really cool. The place was nice and ...</td>\n",
       "    </tr>\n",
       "    <tr>\n",
       "      <th>1</th>\n",
       "      <td>2818</td>\n",
       "      <td>1771</td>\n",
       "      <td>2009-04-24</td>\n",
       "      <td>12798</td>\n",
       "      <td>Alice</td>\n",
       "      <td>Daniel is the most amazing host! His place is ...</td>\n",
       "      <td>Daniel is the most amazing host! His place is ...</td>\n",
       "    </tr>\n",
       "    <tr>\n",
       "      <th>2</th>\n",
       "      <td>2818</td>\n",
       "      <td>1989</td>\n",
       "      <td>2009-05-03</td>\n",
       "      <td>11869</td>\n",
       "      <td>Natalja</td>\n",
       "      <td>We had such a great time in Amsterdam. Daniel ...</td>\n",
       "      <td>We had such a great time in Amsterdam. Daniel ...</td>\n",
       "    </tr>\n",
       "    <tr>\n",
       "      <th>3</th>\n",
       "      <td>2818</td>\n",
       "      <td>2797</td>\n",
       "      <td>2009-05-18</td>\n",
       "      <td>14064</td>\n",
       "      <td>Enrique</td>\n",
       "      <td>Very professional operation. Room is very clea...</td>\n",
       "      <td>Very professional operation. Room is very clea...</td>\n",
       "    </tr>\n",
       "    <tr>\n",
       "      <th>4</th>\n",
       "      <td>2818</td>\n",
       "      <td>3151</td>\n",
       "      <td>2009-05-25</td>\n",
       "      <td>17977</td>\n",
       "      <td>Sherwin</td>\n",
       "      <td>Daniel is highly recommended.  He provided all...</td>\n",
       "      <td>Daniel is highly recommended.  He provided all...</td>\n",
       "    </tr>\n",
       "  </tbody>\n",
       "</table>\n",
       "</div>"
      ],
      "text/plain": [
       "   listing_id    id        date  reviewer_id reviewer_name  \\\n",
       "0        2818  1191  2009-03-30        10952           Lam   \n",
       "1        2818  1771  2009-04-24        12798         Alice   \n",
       "2        2818  1989  2009-05-03        11869       Natalja   \n",
       "3        2818  2797  2009-05-18        14064       Enrique   \n",
       "4        2818  3151  2009-05-25        17977       Sherwin   \n",
       "\n",
       "                                            comments  \\\n",
       "0  Daniel is really cool. The place was nice and ...   \n",
       "1  Daniel is the most amazing host! His place is ...   \n",
       "2  We had such a great time in Amsterdam. Daniel ...   \n",
       "3  Very professional operation. Room is very clea...   \n",
       "4  Daniel is highly recommended.  He provided all...   \n",
       "\n",
       "                                     comments_string  \n",
       "0  Daniel is really cool. The place was nice and ...  \n",
       "1  Daniel is the most amazing host! His place is ...  \n",
       "2  We had such a great time in Amsterdam. Daniel ...  \n",
       "3  Very professional operation. Room is very clea...  \n",
       "4  Daniel is highly recommended.  He provided all...  "
      ]
     },
     "execution_count": 14,
     "metadata": {},
     "output_type": "execute_result"
    }
   ],
   "source": [
    "reviews_df4=reviews_df3.reset_index(drop=True)\n",
    "reviews_df4.head()"
   ]
  },
  {
   "cell_type": "code",
   "execution_count": 15,
   "id": "a83c3f9f",
   "metadata": {},
   "outputs": [
    {
     "name": "stdout",
     "output_type": "stream",
     "text": [
      "1069    Unfortunately we travel on holidays season and...\n",
      "1070    Apartment was very clean, nicely decorated and...\n",
      "1071                                                    .\n",
      "1072    Michele est très accueillant. Il est toujours ...\n",
      "1073    Michele is a great host, good location, very q...\n",
      "1074    Everything went fine, from the beginning to th...\n",
      "Name: comments, dtype: object\n"
     ]
    },
    {
     "data": {
      "text/plain": [
       "'.'"
      ]
     },
     "execution_count": 15,
     "metadata": {},
     "output_type": "execute_result"
    }
   ],
   "source": [
    "print(reviews_df4.comments[1069:1075])\n",
    "reviews_df4.comments[1071]"
   ]
  },
  {
   "cell_type": "code",
   "execution_count": 16,
   "id": "30e6f742",
   "metadata": {},
   "outputs": [
    {
     "name": "stderr",
     "output_type": "stream",
     "text": [
      "C:\\Users\\nijo0\\AppData\\Local\\Temp\\ipykernel_17332\\2640529666.py:1: FutureWarning: The default value of regex will change from True to False in a future version.\n",
      "  reviews_df4['comments']=reviews_df4['comments'].str.replace('[^\\w\\s]', \" \")\n",
      "C:\\Users\\nijo0\\AppData\\Local\\Temp\\ipykernel_17332\\2640529666.py:2: FutureWarning: The default value of regex will change from True to False in a future version.\n",
      "  reviews_df4['comments']=reviews_df4['comments'].str.replace('\\d+', '')\n",
      "C:\\Users\\nijo0\\AppData\\Local\\Temp\\ipykernel_17332\\2640529666.py:5: FutureWarning: The default value of regex will change from True to False in a future version.\n",
      "  reviews_df4['comments']=reviews_df4['comments'].str.replace('\\s+', ' ')\n"
     ]
    }
   ],
   "source": [
    "reviews_df4['comments']=reviews_df4['comments'].str.replace('[^\\w\\s]', \" \")\n",
    "reviews_df4['comments']=reviews_df4['comments'].str.replace('\\d+', '') \n",
    "reviews_df4['comments']=reviews_df4['comments'].str.lower()\n",
    "reviews_df4['comments']=reviews_df4['comments'].str.replace('\\r\\n', \" \")\n",
    "reviews_df4['comments']=reviews_df4['comments'].str.replace('\\s+', ' ')\n",
    "#reviews_df4=reviews_df4[reviews_df4['comments'].notnull()]"
   ]
  },
  {
   "cell_type": "code",
   "execution_count": 17,
   "id": "bc8ece37",
   "metadata": {},
   "outputs": [
    {
     "name": "stdout",
     "output_type": "stream",
     "text": [
      "1069    unfortunately we travel on holidays season and...\n",
      "1070    apartment was very clean nicely decorated and ...\n",
      "1071                                                     \n",
      "1072    michele est très accueillant il est toujours à...\n",
      "1073     michele is a great host good location very quiet\n",
      "1074    everything went fine from the beginning to the...\n",
      "Name: comments, dtype: object\n"
     ]
    },
    {
     "data": {
      "text/plain": [
       "' '"
      ]
     },
     "execution_count": 17,
     "metadata": {},
     "output_type": "execute_result"
    }
   ],
   "source": [
    "print(reviews_df4.comments[1069:1075])\n",
    "reviews_df4.comments[1071]"
   ]
  },
  {
   "cell_type": "code",
   "execution_count": 18,
   "id": "58987fad",
   "metadata": {},
   "outputs": [
    {
     "data": {
      "text/plain": [
       "0"
      ]
     },
     "execution_count": 18,
     "metadata": {},
     "output_type": "execute_result"
    }
   ],
   "source": [
    "reviews_df4.comments[1069:1075].isna().sum()"
   ]
  },
  {
   "cell_type": "code",
   "execution_count": 19,
   "id": "e35ea07a",
   "metadata": {},
   "outputs": [],
   "source": [
    "reviews_df5=reviews_df4.reset_index(drop=True)"
   ]
  },
  {
   "cell_type": "code",
   "execution_count": 21,
   "id": "023a37b5",
   "metadata": {},
   "outputs": [
    {
     "name": "stderr",
     "output_type": "stream",
     "text": [
      "C:\\Users\\nijo0\\AppData\\Local\\Temp\\ipykernel_17332\\4010455983.py:4: SettingWithCopyWarning: \n",
      "A value is trying to be set on a copy of a slice from a DataFrame\n",
      "\n",
      "See the caveats in the documentation: https://pandas.pydata.org/pandas-docs/stable/user_guide/indexing.html#returning-a-view-versus-a-copy\n",
      "  reviews_df5.str_length.iloc[i]=1\n"
     ]
    }
   ],
   "source": [
    "reviews_df5['str_length']=0\n",
    "for i in range(len(reviews_df5)):\n",
    "    if (len(reviews_df5.comments[i])<20):\n",
    "        reviews_df5.str_length.iloc[i]=1\n",
    "        "
   ]
  },
  {
   "cell_type": "code",
   "execution_count": 22,
   "id": "ae0c099b",
   "metadata": {},
   "outputs": [
    {
     "data": {
      "text/plain": [
       "7658"
      ]
     },
     "execution_count": 22,
     "metadata": {},
     "output_type": "execute_result"
    }
   ],
   "source": [
    "reviews_df5.str_length.sum()"
   ]
  },
  {
   "cell_type": "code",
   "execution_count": 23,
   "id": "703f2c6f",
   "metadata": {},
   "outputs": [
    {
     "data": {
      "text/html": [
       "<div>\n",
       "<style scoped>\n",
       "    .dataframe tbody tr th:only-of-type {\n",
       "        vertical-align: middle;\n",
       "    }\n",
       "\n",
       "    .dataframe tbody tr th {\n",
       "        vertical-align: top;\n",
       "    }\n",
       "\n",
       "    .dataframe thead th {\n",
       "        text-align: right;\n",
       "    }\n",
       "</style>\n",
       "<table border=\"1\" class=\"dataframe\">\n",
       "  <thead>\n",
       "    <tr style=\"text-align: right;\">\n",
       "      <th></th>\n",
       "      <th>listing_id</th>\n",
       "      <th>id</th>\n",
       "      <th>date</th>\n",
       "      <th>reviewer_id</th>\n",
       "      <th>reviewer_name</th>\n",
       "      <th>comments</th>\n",
       "      <th>comments_string</th>\n",
       "      <th>str_length</th>\n",
       "    </tr>\n",
       "  </thead>\n",
       "  <tbody>\n",
       "    <tr>\n",
       "      <th>0</th>\n",
       "      <td>2818</td>\n",
       "      <td>1191</td>\n",
       "      <td>2009-03-30</td>\n",
       "      <td>10952</td>\n",
       "      <td>Lam</td>\n",
       "      <td>daniel is really cool the place was nice and c...</td>\n",
       "      <td>Daniel is really cool. The place was nice and ...</td>\n",
       "      <td>0</td>\n",
       "    </tr>\n",
       "    <tr>\n",
       "      <th>1</th>\n",
       "      <td>2818</td>\n",
       "      <td>1771</td>\n",
       "      <td>2009-04-24</td>\n",
       "      <td>12798</td>\n",
       "      <td>Alice</td>\n",
       "      <td>daniel is the most amazing host his place is e...</td>\n",
       "      <td>Daniel is the most amazing host! His place is ...</td>\n",
       "      <td>0</td>\n",
       "    </tr>\n",
       "    <tr>\n",
       "      <th>2</th>\n",
       "      <td>2818</td>\n",
       "      <td>1989</td>\n",
       "      <td>2009-05-03</td>\n",
       "      <td>11869</td>\n",
       "      <td>Natalja</td>\n",
       "      <td>we had such a great time in amsterdam daniel i...</td>\n",
       "      <td>We had such a great time in Amsterdam. Daniel ...</td>\n",
       "      <td>0</td>\n",
       "    </tr>\n",
       "    <tr>\n",
       "      <th>3</th>\n",
       "      <td>2818</td>\n",
       "      <td>2797</td>\n",
       "      <td>2009-05-18</td>\n",
       "      <td>14064</td>\n",
       "      <td>Enrique</td>\n",
       "      <td>very professional operation room is very clean...</td>\n",
       "      <td>Very professional operation. Room is very clea...</td>\n",
       "      <td>0</td>\n",
       "    </tr>\n",
       "    <tr>\n",
       "      <th>4</th>\n",
       "      <td>2818</td>\n",
       "      <td>3151</td>\n",
       "      <td>2009-05-25</td>\n",
       "      <td>17977</td>\n",
       "      <td>Sherwin</td>\n",
       "      <td>daniel is highly recommended he provided all n...</td>\n",
       "      <td>Daniel is highly recommended.  He provided all...</td>\n",
       "      <td>0</td>\n",
       "    </tr>\n",
       "    <tr>\n",
       "      <th>...</th>\n",
       "      <td>...</td>\n",
       "      <td>...</td>\n",
       "      <td>...</td>\n",
       "      <td>...</td>\n",
       "      <td>...</td>\n",
       "      <td>...</td>\n",
       "      <td>...</td>\n",
       "      <td>...</td>\n",
       "    </tr>\n",
       "    <tr>\n",
       "      <th>1069</th>\n",
       "      <td>28658</td>\n",
       "      <td>221359389</td>\n",
       "      <td>2017-12-26</td>\n",
       "      <td>26267155</td>\n",
       "      <td>Eder</td>\n",
       "      <td>unfortunately we travel on holidays season and...</td>\n",
       "      <td>Unfortunately we travel on holidays season and...</td>\n",
       "      <td>0</td>\n",
       "    </tr>\n",
       "    <tr>\n",
       "      <th>1070</th>\n",
       "      <td>28658</td>\n",
       "      <td>224089321</td>\n",
       "      <td>2018-01-02</td>\n",
       "      <td>44334965</td>\n",
       "      <td>Zeynep</td>\n",
       "      <td>apartment was very clean nicely decorated and ...</td>\n",
       "      <td>Apartment was very clean, nicely decorated and...</td>\n",
       "      <td>0</td>\n",
       "    </tr>\n",
       "    <tr>\n",
       "      <th>1071</th>\n",
       "      <td>28658</td>\n",
       "      <td>225376074</td>\n",
       "      <td>2018-01-06</td>\n",
       "      <td>156519085</td>\n",
       "      <td>Yelena Levy</td>\n",
       "      <td></td>\n",
       "      <td>.</td>\n",
       "      <td>1</td>\n",
       "    </tr>\n",
       "    <tr>\n",
       "      <th>1072</th>\n",
       "      <td>28658</td>\n",
       "      <td>229159362</td>\n",
       "      <td>2018-01-22</td>\n",
       "      <td>165762822</td>\n",
       "      <td>Gaëtan</td>\n",
       "      <td>michele est très accueillant il est toujours à...</td>\n",
       "      <td>Michele est très accueillant. Il est toujours ...</td>\n",
       "      <td>0</td>\n",
       "    </tr>\n",
       "    <tr>\n",
       "      <th>1073</th>\n",
       "      <td>28658</td>\n",
       "      <td>230853948</td>\n",
       "      <td>2018-01-29</td>\n",
       "      <td>90689203</td>\n",
       "      <td>Spencer</td>\n",
       "      <td>michele is a great host good location very quiet</td>\n",
       "      <td>Michele is a great host, good location, very q...</td>\n",
       "      <td>0</td>\n",
       "    </tr>\n",
       "  </tbody>\n",
       "</table>\n",
       "<p>1074 rows × 8 columns</p>\n",
       "</div>"
      ],
      "text/plain": [
       "      listing_id         id        date  reviewer_id reviewer_name  \\\n",
       "0           2818       1191  2009-03-30        10952           Lam   \n",
       "1           2818       1771  2009-04-24        12798         Alice   \n",
       "2           2818       1989  2009-05-03        11869       Natalja   \n",
       "3           2818       2797  2009-05-18        14064       Enrique   \n",
       "4           2818       3151  2009-05-25        17977       Sherwin   \n",
       "...          ...        ...         ...          ...           ...   \n",
       "1069       28658  221359389  2017-12-26     26267155          Eder   \n",
       "1070       28658  224089321  2018-01-02     44334965        Zeynep   \n",
       "1071       28658  225376074  2018-01-06    156519085   Yelena Levy   \n",
       "1072       28658  229159362  2018-01-22    165762822        Gaëtan   \n",
       "1073       28658  230853948  2018-01-29     90689203       Spencer   \n",
       "\n",
       "                                               comments  \\\n",
       "0     daniel is really cool the place was nice and c...   \n",
       "1     daniel is the most amazing host his place is e...   \n",
       "2     we had such a great time in amsterdam daniel i...   \n",
       "3     very professional operation room is very clean...   \n",
       "4     daniel is highly recommended he provided all n...   \n",
       "...                                                 ...   \n",
       "1069  unfortunately we travel on holidays season and...   \n",
       "1070  apartment was very clean nicely decorated and ...   \n",
       "1071                                                      \n",
       "1072  michele est très accueillant il est toujours à...   \n",
       "1073   michele is a great host good location very quiet   \n",
       "\n",
       "                                        comments_string  str_length  \n",
       "0     Daniel is really cool. The place was nice and ...           0  \n",
       "1     Daniel is the most amazing host! His place is ...           0  \n",
       "2     We had such a great time in Amsterdam. Daniel ...           0  \n",
       "3     Very professional operation. Room is very clea...           0  \n",
       "4     Daniel is highly recommended.  He provided all...           0  \n",
       "...                                                 ...         ...  \n",
       "1069  Unfortunately we travel on holidays season and...           0  \n",
       "1070  Apartment was very clean, nicely decorated and...           0  \n",
       "1071                                                  .           1  \n",
       "1072  Michele est très accueillant. Il est toujours ...           0  \n",
       "1073  Michele is a great host, good location, very q...           0  \n",
       "\n",
       "[1074 rows x 8 columns]"
      ]
     },
     "execution_count": 23,
     "metadata": {},
     "output_type": "execute_result"
    }
   ],
   "source": [
    "#reviews_df6=reviews_df5.reset_index(drop=True)\n",
    "reviews_df5.head(1074)"
   ]
  },
  {
   "cell_type": "code",
   "execution_count": 24,
   "id": "f9e7914a",
   "metadata": {},
   "outputs": [],
   "source": [
    "reviews_df6= reviews_df5.drop(reviews_df5[reviews_df5.str_length == 1].index)"
   ]
  },
  {
   "cell_type": "code",
   "execution_count": 25,
   "id": "0fb50a29",
   "metadata": {},
   "outputs": [
    {
     "data": {
      "text/plain": [
       "(431300, 8)"
      ]
     },
     "execution_count": 25,
     "metadata": {},
     "output_type": "execute_result"
    }
   ],
   "source": [
    "reviews_df5.shape"
   ]
  },
  {
   "cell_type": "code",
   "execution_count": 26,
   "id": "5094d0d6",
   "metadata": {},
   "outputs": [
    {
     "data": {
      "text/html": [
       "<div>\n",
       "<style scoped>\n",
       "    .dataframe tbody tr th:only-of-type {\n",
       "        vertical-align: middle;\n",
       "    }\n",
       "\n",
       "    .dataframe tbody tr th {\n",
       "        vertical-align: top;\n",
       "    }\n",
       "\n",
       "    .dataframe thead th {\n",
       "        text-align: right;\n",
       "    }\n",
       "</style>\n",
       "<table border=\"1\" class=\"dataframe\">\n",
       "  <thead>\n",
       "    <tr style=\"text-align: right;\">\n",
       "      <th></th>\n",
       "      <th>listing_id</th>\n",
       "      <th>id</th>\n",
       "      <th>date</th>\n",
       "      <th>reviewer_id</th>\n",
       "      <th>reviewer_name</th>\n",
       "      <th>comments</th>\n",
       "      <th>comments_string</th>\n",
       "      <th>str_length</th>\n",
       "    </tr>\n",
       "  </thead>\n",
       "  <tbody>\n",
       "    <tr>\n",
       "      <th>0</th>\n",
       "      <td>2818</td>\n",
       "      <td>1191</td>\n",
       "      <td>2009-03-30</td>\n",
       "      <td>10952</td>\n",
       "      <td>Lam</td>\n",
       "      <td>daniel is really cool the place was nice and c...</td>\n",
       "      <td>Daniel is really cool. The place was nice and ...</td>\n",
       "      <td>0</td>\n",
       "    </tr>\n",
       "    <tr>\n",
       "      <th>1</th>\n",
       "      <td>2818</td>\n",
       "      <td>1771</td>\n",
       "      <td>2009-04-24</td>\n",
       "      <td>12798</td>\n",
       "      <td>Alice</td>\n",
       "      <td>daniel is the most amazing host his place is e...</td>\n",
       "      <td>Daniel is the most amazing host! His place is ...</td>\n",
       "      <td>0</td>\n",
       "    </tr>\n",
       "    <tr>\n",
       "      <th>2</th>\n",
       "      <td>2818</td>\n",
       "      <td>1989</td>\n",
       "      <td>2009-05-03</td>\n",
       "      <td>11869</td>\n",
       "      <td>Natalja</td>\n",
       "      <td>we had such a great time in amsterdam daniel i...</td>\n",
       "      <td>We had such a great time in Amsterdam. Daniel ...</td>\n",
       "      <td>0</td>\n",
       "    </tr>\n",
       "    <tr>\n",
       "      <th>3</th>\n",
       "      <td>2818</td>\n",
       "      <td>2797</td>\n",
       "      <td>2009-05-18</td>\n",
       "      <td>14064</td>\n",
       "      <td>Enrique</td>\n",
       "      <td>very professional operation room is very clean...</td>\n",
       "      <td>Very professional operation. Room is very clea...</td>\n",
       "      <td>0</td>\n",
       "    </tr>\n",
       "    <tr>\n",
       "      <th>4</th>\n",
       "      <td>2818</td>\n",
       "      <td>3151</td>\n",
       "      <td>2009-05-25</td>\n",
       "      <td>17977</td>\n",
       "      <td>Sherwin</td>\n",
       "      <td>daniel is highly recommended he provided all n...</td>\n",
       "      <td>Daniel is highly recommended.  He provided all...</td>\n",
       "      <td>0</td>\n",
       "    </tr>\n",
       "    <tr>\n",
       "      <th>...</th>\n",
       "      <td>...</td>\n",
       "      <td>...</td>\n",
       "      <td>...</td>\n",
       "      <td>...</td>\n",
       "      <td>...</td>\n",
       "      <td>...</td>\n",
       "      <td>...</td>\n",
       "      <td>...</td>\n",
       "    </tr>\n",
       "    <tr>\n",
       "      <th>1091</th>\n",
       "      <td>28658</td>\n",
       "      <td>263443522</td>\n",
       "      <td>2018-05-12</td>\n",
       "      <td>165892365</td>\n",
       "      <td>Karen</td>\n",
       "      <td>michele nos recebeu muito bem em sua casa tend...</td>\n",
       "      <td>Michele nos recebeu muito bem em sua casa, ten...</td>\n",
       "      <td>0</td>\n",
       "    </tr>\n",
       "    <tr>\n",
       "      <th>1092</th>\n",
       "      <td>28658</td>\n",
       "      <td>266433689</td>\n",
       "      <td>2018-05-20</td>\n",
       "      <td>44147666</td>\n",
       "      <td>Serge</td>\n",
       "      <td>logement bien situé par rapport aux transports...</td>\n",
       "      <td>Logement bien situé par rapport aux transports...</td>\n",
       "      <td>0</td>\n",
       "    </tr>\n",
       "    <tr>\n",
       "      <th>1093</th>\n",
       "      <td>28658</td>\n",
       "      <td>268448852</td>\n",
       "      <td>2018-05-25</td>\n",
       "      <td>170770092</td>\n",
       "      <td>Alexandra</td>\n",
       "      <td>michele was an excellent host he was available...</td>\n",
       "      <td>Michele was an excellent host! He was availabl...</td>\n",
       "      <td>0</td>\n",
       "    </tr>\n",
       "    <tr>\n",
       "      <th>1094</th>\n",
       "      <td>28658</td>\n",
       "      <td>270519441</td>\n",
       "      <td>2018-05-29</td>\n",
       "      <td>41644510</td>\n",
       "      <td>Irene</td>\n",
       "      <td>luogo raggiungibile facilmente con i mezzi di ...</td>\n",
       "      <td>Luogo raggiungibile facilmente con i mezzi di ...</td>\n",
       "      <td>0</td>\n",
       "    </tr>\n",
       "    <tr>\n",
       "      <th>1095</th>\n",
       "      <td>28658</td>\n",
       "      <td>271690997</td>\n",
       "      <td>2018-06-02</td>\n",
       "      <td>23499309</td>\n",
       "      <td>Tiago</td>\n",
       "      <td>perfect location easy to get to central clean ...</td>\n",
       "      <td>Perfect location, easy to get to central. Clea...</td>\n",
       "      <td>0</td>\n",
       "    </tr>\n",
       "  </tbody>\n",
       "</table>\n",
       "<p>1080 rows × 8 columns</p>\n",
       "</div>"
      ],
      "text/plain": [
       "      listing_id         id        date  reviewer_id reviewer_name  \\\n",
       "0           2818       1191  2009-03-30        10952           Lam   \n",
       "1           2818       1771  2009-04-24        12798         Alice   \n",
       "2           2818       1989  2009-05-03        11869       Natalja   \n",
       "3           2818       2797  2009-05-18        14064       Enrique   \n",
       "4           2818       3151  2009-05-25        17977       Sherwin   \n",
       "...          ...        ...         ...          ...           ...   \n",
       "1091       28658  263443522  2018-05-12    165892365         Karen   \n",
       "1092       28658  266433689  2018-05-20     44147666         Serge   \n",
       "1093       28658  268448852  2018-05-25    170770092     Alexandra   \n",
       "1094       28658  270519441  2018-05-29     41644510         Irene   \n",
       "1095       28658  271690997  2018-06-02     23499309         Tiago   \n",
       "\n",
       "                                               comments  \\\n",
       "0     daniel is really cool the place was nice and c...   \n",
       "1     daniel is the most amazing host his place is e...   \n",
       "2     we had such a great time in amsterdam daniel i...   \n",
       "3     very professional operation room is very clean...   \n",
       "4     daniel is highly recommended he provided all n...   \n",
       "...                                                 ...   \n",
       "1091  michele nos recebeu muito bem em sua casa tend...   \n",
       "1092  logement bien situé par rapport aux transports...   \n",
       "1093  michele was an excellent host he was available...   \n",
       "1094  luogo raggiungibile facilmente con i mezzi di ...   \n",
       "1095  perfect location easy to get to central clean ...   \n",
       "\n",
       "                                        comments_string  str_length  \n",
       "0     Daniel is really cool. The place was nice and ...           0  \n",
       "1     Daniel is the most amazing host! His place is ...           0  \n",
       "2     We had such a great time in Amsterdam. Daniel ...           0  \n",
       "3     Very professional operation. Room is very clea...           0  \n",
       "4     Daniel is highly recommended.  He provided all...           0  \n",
       "...                                                 ...         ...  \n",
       "1091  Michele nos recebeu muito bem em sua casa, ten...           0  \n",
       "1092  Logement bien situé par rapport aux transports...           0  \n",
       "1093  Michele was an excellent host! He was availabl...           0  \n",
       "1094  Luogo raggiungibile facilmente con i mezzi di ...           0  \n",
       "1095  Perfect location, easy to get to central. Clea...           0  \n",
       "\n",
       "[1080 rows x 8 columns]"
      ]
     },
     "execution_count": 26,
     "metadata": {},
     "output_type": "execute_result"
    }
   ],
   "source": [
    "reviews_df6.head(1080)"
   ]
  },
  {
   "cell_type": "code",
   "execution_count": 27,
   "id": "57e348b5",
   "metadata": {},
   "outputs": [
    {
     "data": {
      "text/html": [
       "<div>\n",
       "<style scoped>\n",
       "    .dataframe tbody tr th:only-of-type {\n",
       "        vertical-align: middle;\n",
       "    }\n",
       "\n",
       "    .dataframe tbody tr th {\n",
       "        vertical-align: top;\n",
       "    }\n",
       "\n",
       "    .dataframe thead th {\n",
       "        text-align: right;\n",
       "    }\n",
       "</style>\n",
       "<table border=\"1\" class=\"dataframe\">\n",
       "  <thead>\n",
       "    <tr style=\"text-align: right;\">\n",
       "      <th></th>\n",
       "      <th>listing_id</th>\n",
       "      <th>id</th>\n",
       "      <th>date</th>\n",
       "      <th>reviewer_id</th>\n",
       "      <th>reviewer_name</th>\n",
       "      <th>comments</th>\n",
       "      <th>comments_string</th>\n",
       "      <th>str_length</th>\n",
       "    </tr>\n",
       "  </thead>\n",
       "  <tbody>\n",
       "    <tr>\n",
       "      <th>0</th>\n",
       "      <td>2818</td>\n",
       "      <td>1191</td>\n",
       "      <td>2009-03-30</td>\n",
       "      <td>10952</td>\n",
       "      <td>Lam</td>\n",
       "      <td>daniel is really cool the place was nice and c...</td>\n",
       "      <td>Daniel is really cool. The place was nice and ...</td>\n",
       "      <td>0</td>\n",
       "    </tr>\n",
       "    <tr>\n",
       "      <th>1</th>\n",
       "      <td>2818</td>\n",
       "      <td>1771</td>\n",
       "      <td>2009-04-24</td>\n",
       "      <td>12798</td>\n",
       "      <td>Alice</td>\n",
       "      <td>daniel is the most amazing host his place is e...</td>\n",
       "      <td>Daniel is the most amazing host! His place is ...</td>\n",
       "      <td>0</td>\n",
       "    </tr>\n",
       "    <tr>\n",
       "      <th>2</th>\n",
       "      <td>2818</td>\n",
       "      <td>1989</td>\n",
       "      <td>2009-05-03</td>\n",
       "      <td>11869</td>\n",
       "      <td>Natalja</td>\n",
       "      <td>we had such a great time in amsterdam daniel i...</td>\n",
       "      <td>We had such a great time in Amsterdam. Daniel ...</td>\n",
       "      <td>0</td>\n",
       "    </tr>\n",
       "    <tr>\n",
       "      <th>3</th>\n",
       "      <td>2818</td>\n",
       "      <td>2797</td>\n",
       "      <td>2009-05-18</td>\n",
       "      <td>14064</td>\n",
       "      <td>Enrique</td>\n",
       "      <td>very professional operation room is very clean...</td>\n",
       "      <td>Very professional operation. Room is very clea...</td>\n",
       "      <td>0</td>\n",
       "    </tr>\n",
       "    <tr>\n",
       "      <th>4</th>\n",
       "      <td>2818</td>\n",
       "      <td>3151</td>\n",
       "      <td>2009-05-25</td>\n",
       "      <td>17977</td>\n",
       "      <td>Sherwin</td>\n",
       "      <td>daniel is highly recommended he provided all n...</td>\n",
       "      <td>Daniel is highly recommended.  He provided all...</td>\n",
       "      <td>0</td>\n",
       "    </tr>\n",
       "  </tbody>\n",
       "</table>\n",
       "</div>"
      ],
      "text/plain": [
       "   listing_id    id        date  reviewer_id reviewer_name  \\\n",
       "0        2818  1191  2009-03-30        10952           Lam   \n",
       "1        2818  1771  2009-04-24        12798         Alice   \n",
       "2        2818  1989  2009-05-03        11869       Natalja   \n",
       "3        2818  2797  2009-05-18        14064       Enrique   \n",
       "4        2818  3151  2009-05-25        17977       Sherwin   \n",
       "\n",
       "                                            comments  \\\n",
       "0  daniel is really cool the place was nice and c...   \n",
       "1  daniel is the most amazing host his place is e...   \n",
       "2  we had such a great time in amsterdam daniel i...   \n",
       "3  very professional operation room is very clean...   \n",
       "4  daniel is highly recommended he provided all n...   \n",
       "\n",
       "                                     comments_string  str_length  \n",
       "0  Daniel is really cool. The place was nice and ...           0  \n",
       "1  Daniel is the most amazing host! His place is ...           0  \n",
       "2  We had such a great time in Amsterdam. Daniel ...           0  \n",
       "3  Very professional operation. Room is very clea...           0  \n",
       "4  Daniel is highly recommended.  He provided all...           0  "
      ]
     },
     "execution_count": 27,
     "metadata": {},
     "output_type": "execute_result"
    }
   ],
   "source": [
    "reviews_df7=reviews_df6.reset_index(drop=True)\n",
    "reviews_df7.head()"
   ]
  },
  {
   "cell_type": "code",
   "execution_count": 28,
   "id": "34b207e0",
   "metadata": {},
   "outputs": [],
   "source": [
    "language=[]\n",
    "for i in range(len(reviews_df7)):\n",
    "        lang=detect(reviews_df7.comments[i])\n",
    "        language.append(lang)\n"
   ]
  },
  {
   "cell_type": "code",
   "execution_count": 29,
   "id": "94cf6be9",
   "metadata": {},
   "outputs": [
    {
     "name": "stdout",
     "output_type": "stream",
     "text": [
      "hij is klaar\n"
     ]
    }
   ],
   "source": [
    "print('hij is klaar')"
   ]
  },
  {
   "cell_type": "code",
   "execution_count": 30,
   "id": "fa602003",
   "metadata": {},
   "outputs": [],
   "source": [
    "reviews_df7['language']=language"
   ]
  },
  {
   "cell_type": "code",
   "execution_count": 31,
   "id": "0fd9bfd4",
   "metadata": {},
   "outputs": [
    {
     "data": {
      "text/html": [
       "<div>\n",
       "<style scoped>\n",
       "    .dataframe tbody tr th:only-of-type {\n",
       "        vertical-align: middle;\n",
       "    }\n",
       "\n",
       "    .dataframe tbody tr th {\n",
       "        vertical-align: top;\n",
       "    }\n",
       "\n",
       "    .dataframe thead th {\n",
       "        text-align: right;\n",
       "    }\n",
       "</style>\n",
       "<table border=\"1\" class=\"dataframe\">\n",
       "  <thead>\n",
       "    <tr style=\"text-align: right;\">\n",
       "      <th></th>\n",
       "      <th>listing_id</th>\n",
       "      <th>id</th>\n",
       "      <th>date</th>\n",
       "      <th>reviewer_id</th>\n",
       "      <th>reviewer_name</th>\n",
       "      <th>comments</th>\n",
       "      <th>comments_string</th>\n",
       "      <th>str_length</th>\n",
       "      <th>language</th>\n",
       "    </tr>\n",
       "  </thead>\n",
       "  <tbody>\n",
       "    <tr>\n",
       "      <th>0</th>\n",
       "      <td>2818</td>\n",
       "      <td>1191</td>\n",
       "      <td>2009-03-30</td>\n",
       "      <td>10952</td>\n",
       "      <td>Lam</td>\n",
       "      <td>daniel is really cool the place was nice and c...</td>\n",
       "      <td>Daniel is really cool. The place was nice and ...</td>\n",
       "      <td>0</td>\n",
       "      <td>en</td>\n",
       "    </tr>\n",
       "    <tr>\n",
       "      <th>1</th>\n",
       "      <td>2818</td>\n",
       "      <td>1771</td>\n",
       "      <td>2009-04-24</td>\n",
       "      <td>12798</td>\n",
       "      <td>Alice</td>\n",
       "      <td>daniel is the most amazing host his place is e...</td>\n",
       "      <td>Daniel is the most amazing host! His place is ...</td>\n",
       "      <td>0</td>\n",
       "      <td>en</td>\n",
       "    </tr>\n",
       "    <tr>\n",
       "      <th>2</th>\n",
       "      <td>2818</td>\n",
       "      <td>1989</td>\n",
       "      <td>2009-05-03</td>\n",
       "      <td>11869</td>\n",
       "      <td>Natalja</td>\n",
       "      <td>we had such a great time in amsterdam daniel i...</td>\n",
       "      <td>We had such a great time in Amsterdam. Daniel ...</td>\n",
       "      <td>0</td>\n",
       "      <td>en</td>\n",
       "    </tr>\n",
       "    <tr>\n",
       "      <th>3</th>\n",
       "      <td>2818</td>\n",
       "      <td>2797</td>\n",
       "      <td>2009-05-18</td>\n",
       "      <td>14064</td>\n",
       "      <td>Enrique</td>\n",
       "      <td>very professional operation room is very clean...</td>\n",
       "      <td>Very professional operation. Room is very clea...</td>\n",
       "      <td>0</td>\n",
       "      <td>en</td>\n",
       "    </tr>\n",
       "    <tr>\n",
       "      <th>4</th>\n",
       "      <td>2818</td>\n",
       "      <td>3151</td>\n",
       "      <td>2009-05-25</td>\n",
       "      <td>17977</td>\n",
       "      <td>Sherwin</td>\n",
       "      <td>daniel is highly recommended he provided all n...</td>\n",
       "      <td>Daniel is highly recommended.  He provided all...</td>\n",
       "      <td>0</td>\n",
       "      <td>en</td>\n",
       "    </tr>\n",
       "  </tbody>\n",
       "</table>\n",
       "</div>"
      ],
      "text/plain": [
       "   listing_id    id        date  reviewer_id reviewer_name  \\\n",
       "0        2818  1191  2009-03-30        10952           Lam   \n",
       "1        2818  1771  2009-04-24        12798         Alice   \n",
       "2        2818  1989  2009-05-03        11869       Natalja   \n",
       "3        2818  2797  2009-05-18        14064       Enrique   \n",
       "4        2818  3151  2009-05-25        17977       Sherwin   \n",
       "\n",
       "                                            comments  \\\n",
       "0  daniel is really cool the place was nice and c...   \n",
       "1  daniel is the most amazing host his place is e...   \n",
       "2  we had such a great time in amsterdam daniel i...   \n",
       "3  very professional operation room is very clean...   \n",
       "4  daniel is highly recommended he provided all n...   \n",
       "\n",
       "                                     comments_string  str_length language  \n",
       "0  Daniel is really cool. The place was nice and ...           0       en  \n",
       "1  Daniel is the most amazing host! His place is ...           0       en  \n",
       "2  We had such a great time in Amsterdam. Daniel ...           0       en  \n",
       "3  Very professional operation. Room is very clea...           0       en  \n",
       "4  Daniel is highly recommended.  He provided all...           0       en  "
      ]
     },
     "execution_count": 31,
     "metadata": {},
     "output_type": "execute_result"
    }
   ],
   "source": [
    "reviews_df7.head()"
   ]
  },
  {
   "cell_type": "code",
   "execution_count": 2,
   "id": "fd9715a8",
   "metadata": {},
   "outputs": [
    {
     "ename": "NameError",
     "evalue": "name 'reviews_df7' is not defined",
     "output_type": "error",
     "traceback": [
      "\u001b[1;31m---------------------------------------------------------------------------\u001b[0m",
      "\u001b[1;31mNameError\u001b[0m                                 Traceback (most recent call last)",
      "Cell \u001b[1;32mIn [2], line 2\u001b[0m\n\u001b[0;32m      1\u001b[0m \u001b[38;5;66;03m#SLA TUSSENTIJDS OP ZODAT IK DEZE GRAP NIET NOG EEN KEER HOEF TE DOEN!!!!\u001b[39;00m\n\u001b[1;32m----> 2\u001b[0m \u001b[43mreviews_df7\u001b[49m\u001b[38;5;241m.\u001b[39mto_csv(\u001b[38;5;124m'\u001b[39m\u001b[38;5;124mreviews+language.csv\u001b[39m\u001b[38;5;124m'\u001b[39m)\n",
      "\u001b[1;31mNameError\u001b[0m: name 'reviews_df7' is not defined"
     ]
    }
   ],
   "source": [
    "#SLA TUSSENTIJDS OP ZODAT IK DEZE GRAP NIET NOG EEN KEER HOEF TE DOEN!!!!\n",
    "reviews_df7.to_csv('reviews+language.csv')"
   ]
  },
  {
   "cell_type": "markdown",
   "id": "dc0bc8ea",
   "metadata": {},
   "source": [
    "importeer gegenereerde csv, zodat de language kolom niet nog een keer gemaakt hoeft te worden (duurt 45 minuten)"
   ]
  },
  {
   "cell_type": "code",
   "execution_count": 5,
   "id": "887473fd",
   "metadata": {},
   "outputs": [],
   "source": [
    "#read de language csv en maak er een df van\n",
    "langdf=pd.read_csv('reviews+language.csv')"
   ]
  },
  {
   "cell_type": "code",
   "execution_count": 6,
   "id": "ec32e97e",
   "metadata": {},
   "outputs": [
    {
     "data": {
      "text/plain": [
       "array(['en', 'fr', 'de', 'it', 'es', 'zh-cn', 'da', 'ko', 'nl', 'pt',\n",
       "       'el', 'no', 'tr', 'ru', 'cs', 'ja', 'af', 'sv', 'ca', 'ro', 'hu',\n",
       "       'pl', 'hr', 'fi', 'zh-tw', 'bg', 'he', 'vi', 'id', 'so', 'sl',\n",
       "       'cy', 'tl', 'sk', 'ar', 'uk', 'th', 'et', 'sw', 'lt', 'sq'],\n",
       "      dtype=object)"
      ]
     },
     "execution_count": 6,
     "metadata": {},
     "output_type": "execute_result"
    }
   ],
   "source": [
    "langdf.language.unique()"
   ]
  },
  {
   "cell_type": "code",
   "execution_count": 7,
   "id": "063d18ee",
   "metadata": {},
   "outputs": [
    {
     "data": {
      "text/plain": [
       "en       343670\n",
       "fr        30636\n",
       "de        16161\n",
       "es        11311\n",
       "nl         6420\n",
       "it         6199\n",
       "pt         2205\n",
       "ru         1666\n",
       "ko         1007\n",
       "zh-cn       844\n",
       "da          524\n",
       "no          422\n",
       "sv          417\n",
       "ca          256\n",
       "tr          240\n",
       "ro          224\n",
       "fi          222\n",
       "af          219\n",
       "ja          187\n",
       "cs          174\n",
       "pl          155\n",
       "hu          104\n",
       "el          104\n",
       "he           62\n",
       "hr           37\n",
       "zh-tw        34\n",
       "cy           16\n",
       "et           15\n",
       "tl           14\n",
       "sk           14\n",
       "id           11\n",
       "ar           11\n",
       "uk           11\n",
       "sl            9\n",
       "so            8\n",
       "th            8\n",
       "vi            7\n",
       "lt            6\n",
       "bg            5\n",
       "sw            5\n",
       "sq            2\n",
       "Name: language, dtype: int64"
      ]
     },
     "execution_count": 7,
     "metadata": {},
     "output_type": "execute_result"
    }
   ],
   "source": [
    "langdf.language.value_counts()"
   ]
  },
  {
   "cell_type": "code",
   "execution_count": 8,
   "id": "d8461f6d",
   "metadata": {},
   "outputs": [],
   "source": [
    "# maak de naam wat korter, werkt straks makkelijker tijdens het subsetten\n",
    "df=langdf"
   ]
  },
  {
   "cell_type": "code",
   "execution_count": 9,
   "id": "7530bb92",
   "metadata": {},
   "outputs": [
    {
     "data": {
      "text/plain": [
       "(423642, 10)"
      ]
     },
     "execution_count": 9,
     "metadata": {},
     "output_type": "execute_result"
    }
   ],
   "source": [
    "df.shape"
   ]
  },
  {
   "cell_type": "markdown",
   "id": "c4a4ea2a",
   "metadata": {},
   "source": [
    "subset dataframe zodat alleen de belangrijkste 5 talen (engels, frans, duits, spaans en nederlands) overblijven"
   ]
  },
  {
   "cell_type": "code",
   "execution_count": 10,
   "id": "0b7396e9",
   "metadata": {},
   "outputs": [],
   "source": [
    "#reviews_df8=df[((df['language']=='en') | (df['language']=='fr') | (df['language']=='de') | (df['language']=='es') | (df['language']=='nlp'))]\n",
    "reviews_df8=df[df['language']=='en']"
   ]
  },
  {
   "cell_type": "code",
   "execution_count": 11,
   "id": "d49fdf22",
   "metadata": {},
   "outputs": [
    {
     "data": {
      "text/plain": [
       "(343670, 10)"
      ]
     },
     "execution_count": 11,
     "metadata": {},
     "output_type": "execute_result"
    }
   ],
   "source": [
    "reviews_df8.shape"
   ]
  },
  {
   "cell_type": "code",
   "execution_count": 27,
   "id": "06cc79b9",
   "metadata": {
    "scrolled": false
   },
   "outputs": [
    {
     "data": {
      "text/html": [
       "<div>\n",
       "<style scoped>\n",
       "    .dataframe tbody tr th:only-of-type {\n",
       "        vertical-align: middle;\n",
       "    }\n",
       "\n",
       "    .dataframe tbody tr th {\n",
       "        vertical-align: top;\n",
       "    }\n",
       "\n",
       "    .dataframe thead th {\n",
       "        text-align: right;\n",
       "    }\n",
       "</style>\n",
       "<table border=\"1\" class=\"dataframe\">\n",
       "  <thead>\n",
       "    <tr style=\"text-align: right;\">\n",
       "      <th></th>\n",
       "      <th>Unnamed: 0</th>\n",
       "      <th>listing_id</th>\n",
       "      <th>id</th>\n",
       "      <th>date</th>\n",
       "      <th>reviewer_id</th>\n",
       "      <th>reviewer_name</th>\n",
       "      <th>comments</th>\n",
       "      <th>comments_string</th>\n",
       "      <th>str_length</th>\n",
       "      <th>language</th>\n",
       "    </tr>\n",
       "  </thead>\n",
       "  <tbody>\n",
       "    <tr>\n",
       "      <th>0</th>\n",
       "      <td>0</td>\n",
       "      <td>2818</td>\n",
       "      <td>1191</td>\n",
       "      <td>2009-03-30</td>\n",
       "      <td>10952</td>\n",
       "      <td>Lam</td>\n",
       "      <td>daniel is really cool the place was nice and c...</td>\n",
       "      <td>Daniel is really cool. The place was nice and ...</td>\n",
       "      <td>0</td>\n",
       "      <td>en</td>\n",
       "    </tr>\n",
       "    <tr>\n",
       "      <th>1</th>\n",
       "      <td>1</td>\n",
       "      <td>2818</td>\n",
       "      <td>1771</td>\n",
       "      <td>2009-04-24</td>\n",
       "      <td>12798</td>\n",
       "      <td>Alice</td>\n",
       "      <td>daniel is the most amazing host his place is e...</td>\n",
       "      <td>Daniel is the most amazing host! His place is ...</td>\n",
       "      <td>0</td>\n",
       "      <td>en</td>\n",
       "    </tr>\n",
       "    <tr>\n",
       "      <th>2</th>\n",
       "      <td>2</td>\n",
       "      <td>2818</td>\n",
       "      <td>1989</td>\n",
       "      <td>2009-05-03</td>\n",
       "      <td>11869</td>\n",
       "      <td>Natalja</td>\n",
       "      <td>we had such a great time in amsterdam daniel i...</td>\n",
       "      <td>We had such a great time in Amsterdam. Daniel ...</td>\n",
       "      <td>0</td>\n",
       "      <td>en</td>\n",
       "    </tr>\n",
       "    <tr>\n",
       "      <th>3</th>\n",
       "      <td>3</td>\n",
       "      <td>2818</td>\n",
       "      <td>2797</td>\n",
       "      <td>2009-05-18</td>\n",
       "      <td>14064</td>\n",
       "      <td>Enrique</td>\n",
       "      <td>very professional operation room is very clean...</td>\n",
       "      <td>Very professional operation. Room is very clea...</td>\n",
       "      <td>0</td>\n",
       "      <td>en</td>\n",
       "    </tr>\n",
       "    <tr>\n",
       "      <th>4</th>\n",
       "      <td>4</td>\n",
       "      <td>2818</td>\n",
       "      <td>3151</td>\n",
       "      <td>2009-05-25</td>\n",
       "      <td>17977</td>\n",
       "      <td>Sherwin</td>\n",
       "      <td>daniel is highly recommended he provided all n...</td>\n",
       "      <td>Daniel is highly recommended.  He provided all...</td>\n",
       "      <td>0</td>\n",
       "      <td>en</td>\n",
       "    </tr>\n",
       "    <tr>\n",
       "      <th>...</th>\n",
       "      <td>...</td>\n",
       "      <td>...</td>\n",
       "      <td>...</td>\n",
       "      <td>...</td>\n",
       "      <td>...</td>\n",
       "      <td>...</td>\n",
       "      <td>...</td>\n",
       "      <td>...</td>\n",
       "      <td>...</td>\n",
       "      <td>...</td>\n",
       "    </tr>\n",
       "    <tr>\n",
       "      <th>343665</th>\n",
       "      <td>423636</td>\n",
       "      <td>30433356</td>\n",
       "      <td>355152237</td>\n",
       "      <td>2018-12-03</td>\n",
       "      <td>185768463</td>\n",
       "      <td>Winnie</td>\n",
       "      <td>the host canceled this reservation days before...</td>\n",
       "      <td>The host canceled this reservation 28 days bef...</td>\n",
       "      <td>0</td>\n",
       "      <td>en</td>\n",
       "    </tr>\n",
       "    <tr>\n",
       "      <th>343666</th>\n",
       "      <td>423637</td>\n",
       "      <td>30435529</td>\n",
       "      <td>355474875</td>\n",
       "      <td>2018-12-04</td>\n",
       "      <td>131376847</td>\n",
       "      <td>Andy</td>\n",
       "      <td>the host canceled this reservation the day bef...</td>\n",
       "      <td>The host canceled this reservation the day bef...</td>\n",
       "      <td>0</td>\n",
       "      <td>en</td>\n",
       "    </tr>\n",
       "    <tr>\n",
       "      <th>343667</th>\n",
       "      <td>423638</td>\n",
       "      <td>30439111</td>\n",
       "      <td>355041813</td>\n",
       "      <td>2018-12-02</td>\n",
       "      <td>103201416</td>\n",
       "      <td>Mohammed</td>\n",
       "      <td>the host canceled this reservation days before...</td>\n",
       "      <td>The host canceled this reservation 20 days bef...</td>\n",
       "      <td>0</td>\n",
       "      <td>en</td>\n",
       "    </tr>\n",
       "    <tr>\n",
       "      <th>343668</th>\n",
       "      <td>423639</td>\n",
       "      <td>30518120</td>\n",
       "      <td>355519016</td>\n",
       "      <td>2018-12-04</td>\n",
       "      <td>228738702</td>\n",
       "      <td>Valeriya</td>\n",
       "      <td>the host canceled this reservation days before...</td>\n",
       "      <td>The host canceled this reservation 22 days bef...</td>\n",
       "      <td>0</td>\n",
       "      <td>en</td>\n",
       "    </tr>\n",
       "    <tr>\n",
       "      <th>343669</th>\n",
       "      <td>423640</td>\n",
       "      <td>30525429</td>\n",
       "      <td>355658538</td>\n",
       "      <td>2018-12-05</td>\n",
       "      <td>111439550</td>\n",
       "      <td>Lucas</td>\n",
       "      <td>i loved this house it is truly incredible and ...</td>\n",
       "      <td>I loved this house! It is truly incredible and...</td>\n",
       "      <td>0</td>\n",
       "      <td>en</td>\n",
       "    </tr>\n",
       "  </tbody>\n",
       "</table>\n",
       "<p>343670 rows × 10 columns</p>\n",
       "</div>"
      ],
      "text/plain": [
       "        Unnamed: 0  listing_id         id        date  reviewer_id  \\\n",
       "0                0        2818       1191  2009-03-30        10952   \n",
       "1                1        2818       1771  2009-04-24        12798   \n",
       "2                2        2818       1989  2009-05-03        11869   \n",
       "3                3        2818       2797  2009-05-18        14064   \n",
       "4                4        2818       3151  2009-05-25        17977   \n",
       "...            ...         ...        ...         ...          ...   \n",
       "343665      423636    30433356  355152237  2018-12-03    185768463   \n",
       "343666      423637    30435529  355474875  2018-12-04    131376847   \n",
       "343667      423638    30439111  355041813  2018-12-02    103201416   \n",
       "343668      423639    30518120  355519016  2018-12-04    228738702   \n",
       "343669      423640    30525429  355658538  2018-12-05    111439550   \n",
       "\n",
       "       reviewer_name                                           comments  \\\n",
       "0                Lam  daniel is really cool the place was nice and c...   \n",
       "1              Alice  daniel is the most amazing host his place is e...   \n",
       "2            Natalja  we had such a great time in amsterdam daniel i...   \n",
       "3            Enrique  very professional operation room is very clean...   \n",
       "4            Sherwin  daniel is highly recommended he provided all n...   \n",
       "...              ...                                                ...   \n",
       "343665        Winnie  the host canceled this reservation days before...   \n",
       "343666          Andy  the host canceled this reservation the day bef...   \n",
       "343667      Mohammed  the host canceled this reservation days before...   \n",
       "343668      Valeriya  the host canceled this reservation days before...   \n",
       "343669         Lucas  i loved this house it is truly incredible and ...   \n",
       "\n",
       "                                          comments_string  str_length language  \n",
       "0       Daniel is really cool. The place was nice and ...           0       en  \n",
       "1       Daniel is the most amazing host! His place is ...           0       en  \n",
       "2       We had such a great time in Amsterdam. Daniel ...           0       en  \n",
       "3       Very professional operation. Room is very clea...           0       en  \n",
       "4       Daniel is highly recommended.  He provided all...           0       en  \n",
       "...                                                   ...         ...      ...  \n",
       "343665  The host canceled this reservation 28 days bef...           0       en  \n",
       "343666  The host canceled this reservation the day bef...           0       en  \n",
       "343667  The host canceled this reservation 20 days bef...           0       en  \n",
       "343668  The host canceled this reservation 22 days bef...           0       en  \n",
       "343669  I loved this house! It is truly incredible and...           0       en  \n",
       "\n",
       "[343670 rows x 10 columns]"
      ]
     },
     "execution_count": 27,
     "metadata": {},
     "output_type": "execute_result"
    }
   ],
   "source": [
    "reviews_df8.head(343670)"
   ]
  },
  {
   "cell_type": "code",
   "execution_count": 13,
   "id": "7f1927c3",
   "metadata": {},
   "outputs": [],
   "source": [
    "reviews_df8=reviews_df8.reset_index(drop=True)"
   ]
  },
  {
   "cell_type": "code",
   "execution_count": 14,
   "id": "bfedd62c",
   "metadata": {},
   "outputs": [
    {
     "data": {
      "text/plain": [
       "0"
      ]
     },
     "execution_count": 14,
     "metadata": {},
     "output_type": "execute_result"
    }
   ],
   "source": [
    "reviews_df8.comments.isna().sum()"
   ]
  },
  {
   "cell_type": "code",
   "execution_count": 15,
   "id": "b58fa264",
   "metadata": {},
   "outputs": [
    {
     "data": {
      "text/plain": [
       "<spacytextblob.spacytextblob.SpacyTextBlob at 0x286a7189bb0>"
      ]
     },
     "execution_count": 15,
     "metadata": {},
     "output_type": "execute_result"
    }
   ],
   "source": [
    "#load the languages according to spacy\n",
    "#nl = spacy.load(\"nl_core_news_md\")\n",
    "#nl.add_pipe('spacytextblob')\n",
    "\n",
    "en = spacy.load(\"en_core_web_sm\")\n",
    "en.add_pipe('spacytextblob')\n",
    "\n",
    "#de = spacy.load(\"de_core_news_sm\")\n",
    "#de.add_pipe('spacytextblob')\n",
    "\n",
    "#es = spacy.load(\"es_core_news_sm\")\n",
    "#es.add_pipe('spacytextblob')\n",
    "\n",
    "#fr = spacy.load(\"fr_core_news_sm\")\n",
    "#fr.add_pipe('spacytextblob')"
   ]
  },
  {
   "cell_type": "code",
   "execution_count": 32,
   "id": "707546b4",
   "metadata": {},
   "outputs": [
    {
     "ename": "IndexError",
     "evalue": "list index out of range",
     "output_type": "error",
     "traceback": [
      "\u001b[1;31m---------------------------------------------------------------------------\u001b[0m",
      "\u001b[1;31mIndexError\u001b[0m                                Traceback (most recent call last)",
      "Cell \u001b[1;32mIn [32], line 10\u001b[0m\n\u001b[0;32m      8\u001b[0m \u001b[38;5;28;01mif\u001b[39;00m(reviews_df8\u001b[38;5;241m.\u001b[39mlanguage[\u001b[38;5;241m343669\u001b[39m]\u001b[38;5;241m==\u001b[39m\u001b[38;5;124m'\u001b[39m\u001b[38;5;124men\u001b[39m\u001b[38;5;124m'\u001b[39m):\n\u001b[0;32m      9\u001b[0m     doc\u001b[38;5;241m.\u001b[39mappend(en(reviews_df8\u001b[38;5;241m.\u001b[39mcomments[i]))\n\u001b[1;32m---> 10\u001b[0m     polarity\u001b[38;5;241m.\u001b[39mappend(\u001b[43mdoc\u001b[49m\u001b[43m[\u001b[49m\u001b[43mi\u001b[49m\u001b[38;5;241;43m-\u001b[39;49m\u001b[38;5;241;43m343700\u001b[39;49m\u001b[43m]\u001b[49m\u001b[38;5;241m.\u001b[39m_\u001b[38;5;241m.\u001b[39mpolarity)\n\u001b[0;32m     11\u001b[0m         \u001b[38;5;66;03m#subjectivity.append(doc[i]._.subjectivity)\u001b[39;00m\n\u001b[0;32m     12\u001b[0m         \u001b[38;5;66;03m#assessments[i]=doc[i]._.assessments\u001b[39;00m\n\u001b[0;32m     13\u001b[0m \n\u001b[1;32m   (...)\u001b[0m\n\u001b[0;32m     36\u001b[0m         \u001b[38;5;66;03m#assessments[i]=doc[i]._.assessments\u001b[39;00m\n\u001b[0;32m     37\u001b[0m \u001b[38;5;28;01melse\u001b[39;00m:\n\u001b[0;32m     38\u001b[0m     doc\u001b[38;5;241m.\u001b[39mappend(\u001b[38;5;124m'\u001b[39m\u001b[38;5;124mno\u001b[39m\u001b[38;5;124m'\u001b[39m)\n",
      "\u001b[1;31mIndexError\u001b[0m: list index out of range"
     ]
    }
   ],
   "source": [
    "# make empty cells\n",
    "doc=[]\n",
    "polarity=[]\n",
    "subjectivity=[]\n",
    "assessments=[]\n",
    "\n",
    "for i in range(300000, 300001):\n",
    "    if(reviews_df8.language[i-300000]=='en'):\n",
    "        doc.append(en(reviews_df8.comments[i]))\n",
    "        polarity.append(doc[i-300000]._.polarity)\n",
    "        #subjectivity.append(doc[i]._.subjectivity)\n",
    "        #assessments[i]=doc[i]._.assessments\n",
    "\n",
    "    #elif(reviews_df8.language[i]=='fr'):\n",
    "        #doc.append(fr(reviews_df8.comments[i]))\n",
    "        #polarity.append(doc[i]._.polarity)\n",
    "        #subjectivity.append(doc[i]._.subjectivity)\n",
    "        #assessments[i]=doc[i]._.assessments\n",
    "        \n",
    "    #elif(reviews_df8.language[i]=='de'):\n",
    "        #doc.append(de(reviews_df8.comments[i]))\n",
    "        #polarity.append(doc[i]._.polarity)\n",
    "        #subjectivity.append(doc[i]._.subjectivity)\n",
    "        #assessments[i]=doc[i]._.assessments\n",
    "        \n",
    "    #elif(reviews_df8.language[i]=='es'):\n",
    "        #doc.append(es(reviews_df8.comments[i]))\n",
    "        #polarity.append(doc[i]._.polarity)\n",
    "        #subjectivity.append(doc[i]._.subjectivity)\n",
    "        #assessments[i]=doc[i]._.assessments   \n",
    "        \n",
    "    #elif(reviews_df8.language[i]=='nl'):\n",
    "        #doc.append(nl(reviews_df8.comments[i]))\n",
    "        #polarity.append(doc[i]._.polarity)\n",
    "        #subjectivity.append(doc[i]._.subjectivity)\n",
    "        #assessments[i]=doc[i]._.assessments\n",
    "    else:\n",
    "        doc.append('no')\n",
    "        polarity.append('no')\n",
    "        subjectivity.append('no')\n",
    "\n",
    "nummer300k = pd.DataFrame(polarity)"
   ]
  },
  {
   "cell_type": "code",
   "execution_count": 18,
   "id": "2043e7a9",
   "metadata": {},
   "outputs": [
    {
     "data": {
      "text/html": [
       "<div>\n",
       "<style scoped>\n",
       "    .dataframe tbody tr th:only-of-type {\n",
       "        vertical-align: middle;\n",
       "    }\n",
       "\n",
       "    .dataframe tbody tr th {\n",
       "        vertical-align: top;\n",
       "    }\n",
       "\n",
       "    .dataframe thead th {\n",
       "        text-align: right;\n",
       "    }\n",
       "</style>\n",
       "<table border=\"1\" class=\"dataframe\">\n",
       "  <thead>\n",
       "    <tr style=\"text-align: right;\">\n",
       "      <th></th>\n",
       "      <th>0</th>\n",
       "    </tr>\n",
       "  </thead>\n",
       "  <tbody>\n",
       "    <tr>\n",
       "      <th>0</th>\n",
       "      <td>0.324667</td>\n",
       "    </tr>\n",
       "  </tbody>\n",
       "</table>\n",
       "</div>"
      ],
      "text/plain": [
       "          0\n",
       "0  0.324667"
      ]
     },
     "execution_count": 18,
     "metadata": {},
     "output_type": "execute_result"
    }
   ],
   "source": [
    "nummer100k.head()"
   ]
  },
  {
   "cell_type": "code",
   "execution_count": 20,
   "id": "d0dde520",
   "metadata": {},
   "outputs": [
    {
     "data": {
      "text/html": [
       "<div>\n",
       "<style scoped>\n",
       "    .dataframe tbody tr th:only-of-type {\n",
       "        vertical-align: middle;\n",
       "    }\n",
       "\n",
       "    .dataframe tbody tr th {\n",
       "        vertical-align: top;\n",
       "    }\n",
       "\n",
       "    .dataframe thead th {\n",
       "        text-align: right;\n",
       "    }\n",
       "</style>\n",
       "<table border=\"1\" class=\"dataframe\">\n",
       "  <thead>\n",
       "    <tr style=\"text-align: right;\">\n",
       "      <th></th>\n",
       "      <th>0</th>\n",
       "    </tr>\n",
       "  </thead>\n",
       "  <tbody>\n",
       "    <tr>\n",
       "      <th>0</th>\n",
       "      <td>0.356667</td>\n",
       "    </tr>\n",
       "  </tbody>\n",
       "</table>\n",
       "</div>"
      ],
      "text/plain": [
       "          0\n",
       "0  0.356667"
      ]
     },
     "execution_count": 20,
     "metadata": {},
     "output_type": "execute_result"
    }
   ],
   "source": [
    "nummer150k.head()"
   ]
  },
  {
   "cell_type": "code",
   "execution_count": 22,
   "id": "e42fccec",
   "metadata": {},
   "outputs": [
    {
     "data": {
      "text/html": [
       "<div>\n",
       "<style scoped>\n",
       "    .dataframe tbody tr th:only-of-type {\n",
       "        vertical-align: middle;\n",
       "    }\n",
       "\n",
       "    .dataframe tbody tr th {\n",
       "        vertical-align: top;\n",
       "    }\n",
       "\n",
       "    .dataframe thead th {\n",
       "        text-align: right;\n",
       "    }\n",
       "</style>\n",
       "<table border=\"1\" class=\"dataframe\">\n",
       "  <thead>\n",
       "    <tr style=\"text-align: right;\">\n",
       "      <th></th>\n",
       "      <th>0</th>\n",
       "    </tr>\n",
       "  </thead>\n",
       "  <tbody>\n",
       "    <tr>\n",
       "      <th>0</th>\n",
       "      <td>0.305952</td>\n",
       "    </tr>\n",
       "  </tbody>\n",
       "</table>\n",
       "</div>"
      ],
      "text/plain": [
       "          0\n",
       "0  0.305952"
      ]
     },
     "execution_count": 22,
     "metadata": {},
     "output_type": "execute_result"
    }
   ],
   "source": [
    "nummer200k.head()"
   ]
  },
  {
   "cell_type": "code",
   "execution_count": 24,
   "id": "d06bae73",
   "metadata": {},
   "outputs": [
    {
     "data": {
      "text/html": [
       "<div>\n",
       "<style scoped>\n",
       "    .dataframe tbody tr th:only-of-type {\n",
       "        vertical-align: middle;\n",
       "    }\n",
       "\n",
       "    .dataframe tbody tr th {\n",
       "        vertical-align: top;\n",
       "    }\n",
       "\n",
       "    .dataframe thead th {\n",
       "        text-align: right;\n",
       "    }\n",
       "</style>\n",
       "<table border=\"1\" class=\"dataframe\">\n",
       "  <thead>\n",
       "    <tr style=\"text-align: right;\">\n",
       "      <th></th>\n",
       "      <th>0</th>\n",
       "    </tr>\n",
       "  </thead>\n",
       "  <tbody>\n",
       "    <tr>\n",
       "      <th>0</th>\n",
       "      <td>0.499259</td>\n",
       "    </tr>\n",
       "  </tbody>\n",
       "</table>\n",
       "</div>"
      ],
      "text/plain": [
       "          0\n",
       "0  0.499259"
      ]
     },
     "execution_count": 24,
     "metadata": {},
     "output_type": "execute_result"
    }
   ],
   "source": [
    "nummer250k"
   ]
  },
  {
   "cell_type": "code",
   "execution_count": 33,
   "id": "255d78f7",
   "metadata": {},
   "outputs": [
    {
     "data": {
      "text/html": [
       "<div>\n",
       "<style scoped>\n",
       "    .dataframe tbody tr th:only-of-type {\n",
       "        vertical-align: middle;\n",
       "    }\n",
       "\n",
       "    .dataframe tbody tr th {\n",
       "        vertical-align: top;\n",
       "    }\n",
       "\n",
       "    .dataframe thead th {\n",
       "        text-align: right;\n",
       "    }\n",
       "</style>\n",
       "<table border=\"1\" class=\"dataframe\">\n",
       "  <thead>\n",
       "    <tr style=\"text-align: right;\">\n",
       "      <th></th>\n",
       "      <th>0</th>\n",
       "    </tr>\n",
       "  </thead>\n",
       "  <tbody>\n",
       "    <tr>\n",
       "      <th>0</th>\n",
       "      <td>0.31875</td>\n",
       "    </tr>\n",
       "  </tbody>\n",
       "</table>\n",
       "</div>"
      ],
      "text/plain": [
       "         0\n",
       "0  0.31875"
      ]
     },
     "execution_count": 33,
     "metadata": {},
     "output_type": "execute_result"
    }
   ],
   "source": [
    "nummer300k.head()"
   ]
  },
  {
   "cell_type": "code",
   "execution_count": 64,
   "id": "ba772ebe",
   "metadata": {},
   "outputs": [
    {
     "data": {
      "text/html": [
       "<div>\n",
       "<style scoped>\n",
       "    .dataframe tbody tr th:only-of-type {\n",
       "        vertical-align: middle;\n",
       "    }\n",
       "\n",
       "    .dataframe tbody tr th {\n",
       "        vertical-align: top;\n",
       "    }\n",
       "\n",
       "    .dataframe thead th {\n",
       "        text-align: right;\n",
       "    }\n",
       "</style>\n",
       "<table border=\"1\" class=\"dataframe\">\n",
       "  <thead>\n",
       "    <tr style=\"text-align: right;\">\n",
       "      <th></th>\n",
       "    </tr>\n",
       "  </thead>\n",
       "  <tbody>\n",
       "  </tbody>\n",
       "</table>\n",
       "</div>"
      ],
      "text/plain": [
       "Empty DataFrame\n",
       "Columns: []\n",
       "Index: []"
      ]
     },
     "execution_count": 64,
     "metadata": {},
     "output_type": "execute_result"
    }
   ],
   "source": [
    "nummer343k"
   ]
  },
  {
   "cell_type": "code",
   "execution_count": 54,
   "id": "063784c6",
   "metadata": {},
   "outputs": [],
   "source": [
    "polarity50k=pd.DataFrame(polarity)\n",
    "polarity50k.shape\n",
    "polarity50k.to_csv('50k')"
   ]
  },
  {
   "cell_type": "code",
   "execution_count": 55,
   "id": "abe8b198",
   "metadata": {},
   "outputs": [],
   "source": [
    "polarity100k.shape\n",
    "polarity100k.to_csv('100k')"
   ]
  },
  {
   "cell_type": "code",
   "execution_count": 56,
   "id": "542eaeee",
   "metadata": {},
   "outputs": [],
   "source": [
    "polarity150k.shape\n",
    "polarity150k.to_csv('150k')\n"
   ]
  },
  {
   "cell_type": "code",
   "execution_count": 57,
   "id": "eca4cff7",
   "metadata": {},
   "outputs": [],
   "source": [
    "polarity200k.shape\n",
    "polarity200k.to_csv('200k')"
   ]
  },
  {
   "cell_type": "code",
   "execution_count": 58,
   "id": "f17e4a4e",
   "metadata": {},
   "outputs": [],
   "source": [
    "polarity250k.shape\n",
    "polarity250k.to_csv('250k')"
   ]
  },
  {
   "cell_type": "code",
   "execution_count": 59,
   "id": "1d02b0ea",
   "metadata": {},
   "outputs": [],
   "source": [
    "polarity300k.head()\n",
    "polarity300k.to_csv('300k')"
   ]
  },
  {
   "cell_type": "code",
   "execution_count": 60,
   "id": "e5700757",
   "metadata": {},
   "outputs": [],
   "source": [
    "polarity343k.head()\n",
    "polarity343k.to_csv('343k')"
   ]
  },
  {
   "cell_type": "code",
   "execution_count": 34,
   "id": "d27e9025",
   "metadata": {},
   "outputs": [],
   "source": [
    "polarity50k = pd.read_csv('50k', index_col=False)\n",
    "polarity100k= pd.read_csv('100k', index_col=False)\n",
    "polarity150k= pd.read_csv('150k', index_col=False)\n",
    "polarity200k= pd.read_csv('200k', index_col=False)\n",
    "polarity250k= pd.read_csv('250k', index_col=False)\n",
    "polarity300k= pd.read_csv('300k', index_col=False)\n",
    "polarity343k= pd.read_csv('343k', index_col=False)"
   ]
  },
  {
   "cell_type": "code",
   "execution_count": 35,
   "id": "df1fbe2c",
   "metadata": {},
   "outputs": [],
   "source": [
    "polarity50k=polarity50k.drop('Unnamed: 0', axis = 1)\n",
    "polarity100k=polarity100k.drop('Unnamed: 0', axis = 1)\n",
    "polarity150k=polarity150k.drop('Unnamed: 0', axis = 1)\n",
    "polarity200k=polarity200k.drop('Unnamed: 0', axis = 1)\n",
    "polarity250k=polarity250k.drop('Unnamed: 0', axis = 1)\n",
    "polarity300k=polarity300k.drop('Unnamed: 0', axis = 1)\n",
    "polarity343k=polarity343k.drop('Unnamed: 0', axis = 1)"
   ]
  },
  {
   "cell_type": "code",
   "execution_count": 36,
   "id": "e6af6863",
   "metadata": {},
   "outputs": [],
   "source": [
    "vertical_stack=pd.concat([polarity50k, polarity100k, nummer100k, polarity150k, nummer150k, polarity200k, nummer200k, polarity250k, nummer250k, polarity300k, nummer300k, polarity343k], axis=0)"
   ]
  },
  {
   "cell_type": "code",
   "execution_count": 37,
   "id": "688e6c67",
   "metadata": {},
   "outputs": [
    {
     "data": {
      "text/plain": [
       "(343669, 2)"
      ]
     },
     "execution_count": 37,
     "metadata": {},
     "output_type": "execute_result"
    }
   ],
   "source": [
    "vertical_stack.shape"
   ]
  },
  {
   "cell_type": "code",
   "execution_count": 38,
   "id": "e17de040",
   "metadata": {},
   "outputs": [
    {
     "data": {
      "text/html": [
       "<div>\n",
       "<style scoped>\n",
       "    .dataframe tbody tr th:only-of-type {\n",
       "        vertical-align: middle;\n",
       "    }\n",
       "\n",
       "    .dataframe tbody tr th {\n",
       "        vertical-align: top;\n",
       "    }\n",
       "\n",
       "    .dataframe thead th {\n",
       "        text-align: right;\n",
       "    }\n",
       "</style>\n",
       "<table border=\"1\" class=\"dataframe\">\n",
       "  <thead>\n",
       "    <tr style=\"text-align: right;\">\n",
       "      <th></th>\n",
       "      <th>0</th>\n",
       "      <th>0</th>\n",
       "    </tr>\n",
       "  </thead>\n",
       "  <tbody>\n",
       "    <tr>\n",
       "      <th>0</th>\n",
       "      <td>0.135185</td>\n",
       "      <td>NaN</td>\n",
       "    </tr>\n",
       "    <tr>\n",
       "      <th>1</th>\n",
       "      <td>0.333611</td>\n",
       "      <td>NaN</td>\n",
       "    </tr>\n",
       "    <tr>\n",
       "      <th>2</th>\n",
       "      <td>0.313681</td>\n",
       "      <td>NaN</td>\n",
       "    </tr>\n",
       "    <tr>\n",
       "      <th>3</th>\n",
       "      <td>0.451111</td>\n",
       "      <td>NaN</td>\n",
       "    </tr>\n",
       "    <tr>\n",
       "      <th>4</th>\n",
       "      <td>0.222778</td>\n",
       "      <td>NaN</td>\n",
       "    </tr>\n",
       "  </tbody>\n",
       "</table>\n",
       "</div>"
      ],
      "text/plain": [
       "          0   0\n",
       "0  0.135185 NaN\n",
       "1  0.333611 NaN\n",
       "2  0.313681 NaN\n",
       "3  0.451111 NaN\n",
       "4  0.222778 NaN"
      ]
     },
     "execution_count": 38,
     "metadata": {},
     "output_type": "execute_result"
    }
   ],
   "source": [
    "vertical_stack.head()"
   ]
  },
  {
   "cell_type": "code",
   "execution_count": 39,
   "id": "e3e62a3f",
   "metadata": {},
   "outputs": [],
   "source": [
    "vertical_stack = vertical_stack.drop(vertical_stack.columns[1], axis=1)"
   ]
  },
  {
   "cell_type": "code",
   "execution_count": 40,
   "id": "17ce4ae7",
   "metadata": {
    "scrolled": false
   },
   "outputs": [
    {
     "data": {
      "text/plain": [
       "(343669, 1)"
      ]
     },
     "execution_count": 40,
     "metadata": {},
     "output_type": "execute_result"
    }
   ],
   "source": [
    "vertical_stack.shape"
   ]
  },
  {
   "cell_type": "code",
   "execution_count": 41,
   "id": "55cdf2ba",
   "metadata": {},
   "outputs": [
    {
     "data": {
      "text/plain": [
       "(343670, 10)"
      ]
     },
     "execution_count": 41,
     "metadata": {},
     "output_type": "execute_result"
    }
   ],
   "source": [
    "reviews_df8.shape"
   ]
  },
  {
   "cell_type": "code",
   "execution_count": 42,
   "id": "8feba912",
   "metadata": {},
   "outputs": [],
   "source": [
    "vertical_stack = vertical_stack.reset_index()\n",
    "reviews_df8 = reviews_df8.reset_index()"
   ]
  },
  {
   "cell_type": "code",
   "execution_count": 43,
   "id": "46fdc93f",
   "metadata": {},
   "outputs": [],
   "source": [
    "df_merged = pd.concat([reviews_df8, vertical_stack], axis=1)"
   ]
  },
  {
   "cell_type": "code",
   "execution_count": 44,
   "id": "d1e55b5c",
   "metadata": {
    "scrolled": false
   },
   "outputs": [
    {
     "data": {
      "text/html": [
       "<div>\n",
       "<style scoped>\n",
       "    .dataframe tbody tr th:only-of-type {\n",
       "        vertical-align: middle;\n",
       "    }\n",
       "\n",
       "    .dataframe tbody tr th {\n",
       "        vertical-align: top;\n",
       "    }\n",
       "\n",
       "    .dataframe thead th {\n",
       "        text-align: right;\n",
       "    }\n",
       "</style>\n",
       "<table border=\"1\" class=\"dataframe\">\n",
       "  <thead>\n",
       "    <tr style=\"text-align: right;\">\n",
       "      <th></th>\n",
       "      <th>index</th>\n",
       "      <th>Unnamed: 0</th>\n",
       "      <th>listing_id</th>\n",
       "      <th>id</th>\n",
       "      <th>date</th>\n",
       "      <th>reviewer_id</th>\n",
       "      <th>reviewer_name</th>\n",
       "      <th>comments</th>\n",
       "      <th>comments_string</th>\n",
       "      <th>str_length</th>\n",
       "      <th>language</th>\n",
       "      <th>index</th>\n",
       "      <th>0</th>\n",
       "    </tr>\n",
       "  </thead>\n",
       "  <tbody>\n",
       "    <tr>\n",
       "      <th>0</th>\n",
       "      <td>0</td>\n",
       "      <td>0</td>\n",
       "      <td>2818</td>\n",
       "      <td>1191</td>\n",
       "      <td>2009-03-30</td>\n",
       "      <td>10952</td>\n",
       "      <td>Lam</td>\n",
       "      <td>daniel is really cool the place was nice and c...</td>\n",
       "      <td>Daniel is really cool. The place was nice and ...</td>\n",
       "      <td>0</td>\n",
       "      <td>en</td>\n",
       "      <td>0.0</td>\n",
       "      <td>0.135185</td>\n",
       "    </tr>\n",
       "    <tr>\n",
       "      <th>1</th>\n",
       "      <td>1</td>\n",
       "      <td>1</td>\n",
       "      <td>2818</td>\n",
       "      <td>1771</td>\n",
       "      <td>2009-04-24</td>\n",
       "      <td>12798</td>\n",
       "      <td>Alice</td>\n",
       "      <td>daniel is the most amazing host his place is e...</td>\n",
       "      <td>Daniel is the most amazing host! His place is ...</td>\n",
       "      <td>0</td>\n",
       "      <td>en</td>\n",
       "      <td>1.0</td>\n",
       "      <td>0.333611</td>\n",
       "    </tr>\n",
       "    <tr>\n",
       "      <th>2</th>\n",
       "      <td>2</td>\n",
       "      <td>2</td>\n",
       "      <td>2818</td>\n",
       "      <td>1989</td>\n",
       "      <td>2009-05-03</td>\n",
       "      <td>11869</td>\n",
       "      <td>Natalja</td>\n",
       "      <td>we had such a great time in amsterdam daniel i...</td>\n",
       "      <td>We had such a great time in Amsterdam. Daniel ...</td>\n",
       "      <td>0</td>\n",
       "      <td>en</td>\n",
       "      <td>2.0</td>\n",
       "      <td>0.313681</td>\n",
       "    </tr>\n",
       "    <tr>\n",
       "      <th>3</th>\n",
       "      <td>3</td>\n",
       "      <td>3</td>\n",
       "      <td>2818</td>\n",
       "      <td>2797</td>\n",
       "      <td>2009-05-18</td>\n",
       "      <td>14064</td>\n",
       "      <td>Enrique</td>\n",
       "      <td>very professional operation room is very clean...</td>\n",
       "      <td>Very professional operation. Room is very clea...</td>\n",
       "      <td>0</td>\n",
       "      <td>en</td>\n",
       "      <td>3.0</td>\n",
       "      <td>0.451111</td>\n",
       "    </tr>\n",
       "    <tr>\n",
       "      <th>4</th>\n",
       "      <td>4</td>\n",
       "      <td>4</td>\n",
       "      <td>2818</td>\n",
       "      <td>3151</td>\n",
       "      <td>2009-05-25</td>\n",
       "      <td>17977</td>\n",
       "      <td>Sherwin</td>\n",
       "      <td>daniel is highly recommended he provided all n...</td>\n",
       "      <td>Daniel is highly recommended.  He provided all...</td>\n",
       "      <td>0</td>\n",
       "      <td>en</td>\n",
       "      <td>4.0</td>\n",
       "      <td>0.222778</td>\n",
       "    </tr>\n",
       "  </tbody>\n",
       "</table>\n",
       "</div>"
      ],
      "text/plain": [
       "   index  Unnamed: 0  listing_id    id        date  reviewer_id reviewer_name  \\\n",
       "0      0           0        2818  1191  2009-03-30        10952           Lam   \n",
       "1      1           1        2818  1771  2009-04-24        12798         Alice   \n",
       "2      2           2        2818  1989  2009-05-03        11869       Natalja   \n",
       "3      3           3        2818  2797  2009-05-18        14064       Enrique   \n",
       "4      4           4        2818  3151  2009-05-25        17977       Sherwin   \n",
       "\n",
       "                                            comments  \\\n",
       "0  daniel is really cool the place was nice and c...   \n",
       "1  daniel is the most amazing host his place is e...   \n",
       "2  we had such a great time in amsterdam daniel i...   \n",
       "3  very professional operation room is very clean...   \n",
       "4  daniel is highly recommended he provided all n...   \n",
       "\n",
       "                                     comments_string  str_length language  \\\n",
       "0  Daniel is really cool. The place was nice and ...           0       en   \n",
       "1  Daniel is the most amazing host! His place is ...           0       en   \n",
       "2  We had such a great time in Amsterdam. Daniel ...           0       en   \n",
       "3  Very professional operation. Room is very clea...           0       en   \n",
       "4  Daniel is highly recommended.  He provided all...           0       en   \n",
       "\n",
       "   index         0  \n",
       "0    0.0  0.135185  \n",
       "1    1.0  0.333611  \n",
       "2    2.0  0.313681  \n",
       "3    3.0  0.451111  \n",
       "4    4.0  0.222778  "
      ]
     },
     "execution_count": 44,
     "metadata": {},
     "output_type": "execute_result"
    }
   ],
   "source": [
    "df_merged.head()"
   ]
  },
  {
   "cell_type": "code",
   "execution_count": 45,
   "id": "9c7b85fe",
   "metadata": {},
   "outputs": [
    {
     "data": {
      "text/html": [
       "<div>\n",
       "<style scoped>\n",
       "    .dataframe tbody tr th:only-of-type {\n",
       "        vertical-align: middle;\n",
       "    }\n",
       "\n",
       "    .dataframe tbody tr th {\n",
       "        vertical-align: top;\n",
       "    }\n",
       "\n",
       "    .dataframe thead th {\n",
       "        text-align: right;\n",
       "    }\n",
       "</style>\n",
       "<table border=\"1\" class=\"dataframe\">\n",
       "  <thead>\n",
       "    <tr style=\"text-align: right;\">\n",
       "      <th></th>\n",
       "      <th>listing_id</th>\n",
       "      <th>id</th>\n",
       "      <th>date</th>\n",
       "      <th>reviewer_id</th>\n",
       "      <th>reviewer_name</th>\n",
       "      <th>comments</th>\n",
       "      <th>comments_string</th>\n",
       "      <th>language</th>\n",
       "      <th>0</th>\n",
       "    </tr>\n",
       "  </thead>\n",
       "  <tbody>\n",
       "    <tr>\n",
       "      <th>0</th>\n",
       "      <td>2818</td>\n",
       "      <td>1191</td>\n",
       "      <td>2009-03-30</td>\n",
       "      <td>10952</td>\n",
       "      <td>Lam</td>\n",
       "      <td>daniel is really cool the place was nice and c...</td>\n",
       "      <td>Daniel is really cool. The place was nice and ...</td>\n",
       "      <td>en</td>\n",
       "      <td>0.135185</td>\n",
       "    </tr>\n",
       "    <tr>\n",
       "      <th>1</th>\n",
       "      <td>2818</td>\n",
       "      <td>1771</td>\n",
       "      <td>2009-04-24</td>\n",
       "      <td>12798</td>\n",
       "      <td>Alice</td>\n",
       "      <td>daniel is the most amazing host his place is e...</td>\n",
       "      <td>Daniel is the most amazing host! His place is ...</td>\n",
       "      <td>en</td>\n",
       "      <td>0.333611</td>\n",
       "    </tr>\n",
       "    <tr>\n",
       "      <th>2</th>\n",
       "      <td>2818</td>\n",
       "      <td>1989</td>\n",
       "      <td>2009-05-03</td>\n",
       "      <td>11869</td>\n",
       "      <td>Natalja</td>\n",
       "      <td>we had such a great time in amsterdam daniel i...</td>\n",
       "      <td>We had such a great time in Amsterdam. Daniel ...</td>\n",
       "      <td>en</td>\n",
       "      <td>0.313681</td>\n",
       "    </tr>\n",
       "    <tr>\n",
       "      <th>3</th>\n",
       "      <td>2818</td>\n",
       "      <td>2797</td>\n",
       "      <td>2009-05-18</td>\n",
       "      <td>14064</td>\n",
       "      <td>Enrique</td>\n",
       "      <td>very professional operation room is very clean...</td>\n",
       "      <td>Very professional operation. Room is very clea...</td>\n",
       "      <td>en</td>\n",
       "      <td>0.451111</td>\n",
       "    </tr>\n",
       "    <tr>\n",
       "      <th>4</th>\n",
       "      <td>2818</td>\n",
       "      <td>3151</td>\n",
       "      <td>2009-05-25</td>\n",
       "      <td>17977</td>\n",
       "      <td>Sherwin</td>\n",
       "      <td>daniel is highly recommended he provided all n...</td>\n",
       "      <td>Daniel is highly recommended.  He provided all...</td>\n",
       "      <td>en</td>\n",
       "      <td>0.222778</td>\n",
       "    </tr>\n",
       "  </tbody>\n",
       "</table>\n",
       "</div>"
      ],
      "text/plain": [
       "   listing_id    id        date  reviewer_id reviewer_name  \\\n",
       "0        2818  1191  2009-03-30        10952           Lam   \n",
       "1        2818  1771  2009-04-24        12798         Alice   \n",
       "2        2818  1989  2009-05-03        11869       Natalja   \n",
       "3        2818  2797  2009-05-18        14064       Enrique   \n",
       "4        2818  3151  2009-05-25        17977       Sherwin   \n",
       "\n",
       "                                            comments  \\\n",
       "0  daniel is really cool the place was nice and c...   \n",
       "1  daniel is the most amazing host his place is e...   \n",
       "2  we had such a great time in amsterdam daniel i...   \n",
       "3  very professional operation room is very clean...   \n",
       "4  daniel is highly recommended he provided all n...   \n",
       "\n",
       "                                     comments_string language         0  \n",
       "0  Daniel is really cool. The place was nice and ...       en  0.135185  \n",
       "1  Daniel is the most amazing host! His place is ...       en  0.333611  \n",
       "2  We had such a great time in Amsterdam. Daniel ...       en  0.313681  \n",
       "3  Very professional operation. Room is very clea...       en  0.451111  \n",
       "4  Daniel is highly recommended.  He provided all...       en  0.222778  "
      ]
     },
     "execution_count": 45,
     "metadata": {},
     "output_type": "execute_result"
    }
   ],
   "source": [
    "#df_merged = df_merged.drop('Unnamed: 0', axis = 1)\n",
    "#df_merged = df_merged.drop('index', axis = 1)\n",
    "#df_merged = df_merged.drop('str_length', axis = 1)\n",
    "df_merged.head()"
   ]
  },
  {
   "cell_type": "code",
   "execution_count": 46,
   "id": "3c59c4c7",
   "metadata": {},
   "outputs": [
    {
     "data": {
      "text/plain": [
       "(array([2.0000e+00, 1.0000e+00, 0.0000e+00, 0.0000e+00, 0.0000e+00,\n",
       "        0.0000e+00, 0.0000e+00, 0.0000e+00, 0.0000e+00, 0.0000e+00,\n",
       "        1.0000e+00, 2.0000e+00, 6.0000e+00, 1.0000e+00, 0.0000e+00,\n",
       "        1.0000e+00, 1.0000e+00, 5.0000e+00, 1.0000e+00, 3.0000e+00,\n",
       "        7.0000e+00, 0.0000e+00, 3.0000e+00, 2.0000e+00, 2.0000e+00,\n",
       "        2.2000e+01, 3.0000e+00, 5.0000e+00, 7.0000e+00, 3.0000e+00,\n",
       "        1.9000e+01, 8.0000e+00, 1.3000e+01, 1.6000e+01, 3.0000e+01,\n",
       "        2.4000e+01, 2.1000e+01, 6.1000e+01, 4.2000e+01, 5.0000e+01,\n",
       "        7.4000e+01, 8.6000e+01, 9.9000e+01, 1.1300e+02, 1.8500e+02,\n",
       "        1.7400e+02, 2.4100e+02, 2.7300e+02, 3.7300e+02, 3.9700e+02,\n",
       "        9.6100e+03, 7.7700e+02, 1.0600e+03, 1.3750e+03, 2.1720e+03,\n",
       "        2.2390e+03, 3.2710e+03, 4.1280e+03, 5.5080e+03, 6.9480e+03,\n",
       "        9.1060e+03, 1.0088e+04, 1.2284e+04, 1.3970e+04, 1.6463e+04,\n",
       "        1.5729e+04, 1.7804e+04, 1.8312e+04, 1.7915e+04, 1.9649e+04,\n",
       "        1.5159e+04, 1.5559e+04, 1.4868e+04, 1.3022e+04, 1.1639e+04,\n",
       "        1.2452e+04, 9.4460e+03, 8.1600e+03, 6.8940e+03, 8.0030e+03,\n",
       "        4.7700e+03, 4.1510e+03, 4.4700e+03, 2.8130e+03, 2.1070e+03,\n",
       "        3.4760e+03, 1.8390e+03, 1.8180e+03, 1.0660e+03, 1.5270e+03,\n",
       "        4.1760e+03, 6.4200e+02, 7.1300e+02, 4.0700e+02, 1.3470e+03,\n",
       "        2.2900e+02, 2.7600e+02, 1.5800e+02, 3.0000e+01, 1.6620e+03]),\n",
       " array([-1.  , -0.98, -0.96, -0.94, -0.92, -0.9 , -0.88, -0.86, -0.84,\n",
       "        -0.82, -0.8 , -0.78, -0.76, -0.74, -0.72, -0.7 , -0.68, -0.66,\n",
       "        -0.64, -0.62, -0.6 , -0.58, -0.56, -0.54, -0.52, -0.5 , -0.48,\n",
       "        -0.46, -0.44, -0.42, -0.4 , -0.38, -0.36, -0.34, -0.32, -0.3 ,\n",
       "        -0.28, -0.26, -0.24, -0.22, -0.2 , -0.18, -0.16, -0.14, -0.12,\n",
       "        -0.1 , -0.08, -0.06, -0.04, -0.02,  0.  ,  0.02,  0.04,  0.06,\n",
       "         0.08,  0.1 ,  0.12,  0.14,  0.16,  0.18,  0.2 ,  0.22,  0.24,\n",
       "         0.26,  0.28,  0.3 ,  0.32,  0.34,  0.36,  0.38,  0.4 ,  0.42,\n",
       "         0.44,  0.46,  0.48,  0.5 ,  0.52,  0.54,  0.56,  0.58,  0.6 ,\n",
       "         0.62,  0.64,  0.66,  0.68,  0.7 ,  0.72,  0.74,  0.76,  0.78,\n",
       "         0.8 ,  0.82,  0.84,  0.86,  0.88,  0.9 ,  0.92,  0.94,  0.96,\n",
       "         0.98,  1.  ]),\n",
       " <BarContainer object of 100 artists>)"
      ]
     },
     "execution_count": 46,
     "metadata": {},
     "output_type": "execute_result"
    },
    {
     "data": {
      "image/png": "[encoded data removed]",
      "text/plain": [
       "<Figure size 640x480 with 1 Axes>"
      ]
     },
     "metadata": {},
     "output_type": "display_data"
    }
   ],
   "source": [
    "plt.hist(df_merged['0'], bins=100)"
   ]
  },
  {
   "cell_type": "code",
   "execution_count": 47,
   "id": "14ca84a4",
   "metadata": {},
   "outputs": [],
   "source": [
    "df_merged = df_merged.rename(columns = {'0': 'Polarity_Score'})"
   ]
  },
  {
   "cell_type": "code",
   "execution_count": 48,
   "id": "0e8d375a",
   "metadata": {},
   "outputs": [
    {
     "data": {
      "text/html": [
       "<div>\n",
       "<style scoped>\n",
       "    .dataframe tbody tr th:only-of-type {\n",
       "        vertical-align: middle;\n",
       "    }\n",
       "\n",
       "    .dataframe tbody tr th {\n",
       "        vertical-align: top;\n",
       "    }\n",
       "\n",
       "    .dataframe thead th {\n",
       "        text-align: right;\n",
       "    }\n",
       "</style>\n",
       "<table border=\"1\" class=\"dataframe\">\n",
       "  <thead>\n",
       "    <tr style=\"text-align: right;\">\n",
       "      <th></th>\n",
       "      <th>listing_id</th>\n",
       "      <th>id</th>\n",
       "      <th>date</th>\n",
       "      <th>reviewer_id</th>\n",
       "      <th>reviewer_name</th>\n",
       "      <th>comments</th>\n",
       "      <th>comments_string</th>\n",
       "      <th>language</th>\n",
       "      <th>Polarity_Score</th>\n",
       "    </tr>\n",
       "  </thead>\n",
       "  <tbody>\n",
       "    <tr>\n",
       "      <th>0</th>\n",
       "      <td>2818</td>\n",
       "      <td>1191</td>\n",
       "      <td>2009-03-30</td>\n",
       "      <td>10952</td>\n",
       "      <td>Lam</td>\n",
       "      <td>daniel is really cool the place was nice and c...</td>\n",
       "      <td>Daniel is really cool. The place was nice and ...</td>\n",
       "      <td>en</td>\n",
       "      <td>0.135185</td>\n",
       "    </tr>\n",
       "    <tr>\n",
       "      <th>1</th>\n",
       "      <td>2818</td>\n",
       "      <td>1771</td>\n",
       "      <td>2009-04-24</td>\n",
       "      <td>12798</td>\n",
       "      <td>Alice</td>\n",
       "      <td>daniel is the most amazing host his place is e...</td>\n",
       "      <td>Daniel is the most amazing host! His place is ...</td>\n",
       "      <td>en</td>\n",
       "      <td>0.333611</td>\n",
       "    </tr>\n",
       "    <tr>\n",
       "      <th>2</th>\n",
       "      <td>2818</td>\n",
       "      <td>1989</td>\n",
       "      <td>2009-05-03</td>\n",
       "      <td>11869</td>\n",
       "      <td>Natalja</td>\n",
       "      <td>we had such a great time in amsterdam daniel i...</td>\n",
       "      <td>We had such a great time in Amsterdam. Daniel ...</td>\n",
       "      <td>en</td>\n",
       "      <td>0.313681</td>\n",
       "    </tr>\n",
       "    <tr>\n",
       "      <th>3</th>\n",
       "      <td>2818</td>\n",
       "      <td>2797</td>\n",
       "      <td>2009-05-18</td>\n",
       "      <td>14064</td>\n",
       "      <td>Enrique</td>\n",
       "      <td>very professional operation room is very clean...</td>\n",
       "      <td>Very professional operation. Room is very clea...</td>\n",
       "      <td>en</td>\n",
       "      <td>0.451111</td>\n",
       "    </tr>\n",
       "    <tr>\n",
       "      <th>4</th>\n",
       "      <td>2818</td>\n",
       "      <td>3151</td>\n",
       "      <td>2009-05-25</td>\n",
       "      <td>17977</td>\n",
       "      <td>Sherwin</td>\n",
       "      <td>daniel is highly recommended he provided all n...</td>\n",
       "      <td>Daniel is highly recommended.  He provided all...</td>\n",
       "      <td>en</td>\n",
       "      <td>0.222778</td>\n",
       "    </tr>\n",
       "  </tbody>\n",
       "</table>\n",
       "</div>"
      ],
      "text/plain": [
       "   listing_id    id        date  reviewer_id reviewer_name  \\\n",
       "0        2818  1191  2009-03-30        10952           Lam   \n",
       "1        2818  1771  2009-04-24        12798         Alice   \n",
       "2        2818  1989  2009-05-03        11869       Natalja   \n",
       "3        2818  2797  2009-05-18        14064       Enrique   \n",
       "4        2818  3151  2009-05-25        17977       Sherwin   \n",
       "\n",
       "                                            comments  \\\n",
       "0  daniel is really cool the place was nice and c...   \n",
       "1  daniel is the most amazing host his place is e...   \n",
       "2  we had such a great time in amsterdam daniel i...   \n",
       "3  very professional operation room is very clean...   \n",
       "4  daniel is highly recommended he provided all n...   \n",
       "\n",
       "                                     comments_string language  Polarity_Score  \n",
       "0  Daniel is really cool. The place was nice and ...       en        0.135185  \n",
       "1  Daniel is the most amazing host! His place is ...       en        0.333611  \n",
       "2  We had such a great time in Amsterdam. Daniel ...       en        0.313681  \n",
       "3  Very professional operation. Room is very clea...       en        0.451111  \n",
       "4  Daniel is highly recommended.  He provided all...       en        0.222778  "
      ]
     },
     "execution_count": 48,
     "metadata": {},
     "output_type": "execute_result"
    }
   ],
   "source": [
    "df_merged.head()"
   ]
  },
  {
   "cell_type": "code",
   "execution_count": 221,
   "id": "224ddb35",
   "metadata": {},
   "outputs": [
    {
     "data": {
      "text/plain": [
       "(343669, 10)"
      ]
     },
     "execution_count": 221,
     "metadata": {},
     "output_type": "execute_result"
    }
   ],
   "source": [
    "df_merged.shape"
   ]
  },
  {
   "cell_type": "code",
   "execution_count": 49,
   "id": "a26e6ef6",
   "metadata": {},
   "outputs": [],
   "source": [
    "#Polarity score naar positief/negatief\n",
    "positive = []\n",
    "\n",
    "for i in range(0, len(df_merged)):\n",
    "    if(df_merged['Polarity_Score'][i]>0):\n",
    "        positive.append(1)\n",
    "    else:\n",
    "        positive.append(0)\n",
    "\n",
    "df_merged['positive']=positive"
   ]
  },
  {
   "cell_type": "code",
   "execution_count": 50,
   "id": "72dafc88",
   "metadata": {},
   "outputs": [
    {
     "data": {
      "text/html": [
       "<div>\n",
       "<style scoped>\n",
       "    .dataframe tbody tr th:only-of-type {\n",
       "        vertical-align: middle;\n",
       "    }\n",
       "\n",
       "    .dataframe tbody tr th {\n",
       "        vertical-align: top;\n",
       "    }\n",
       "\n",
       "    .dataframe thead th {\n",
       "        text-align: right;\n",
       "    }\n",
       "</style>\n",
       "<table border=\"1\" class=\"dataframe\">\n",
       "  <thead>\n",
       "    <tr style=\"text-align: right;\">\n",
       "      <th></th>\n",
       "      <th>listing_id</th>\n",
       "      <th>id</th>\n",
       "      <th>date</th>\n",
       "      <th>reviewer_id</th>\n",
       "      <th>reviewer_name</th>\n",
       "      <th>comments</th>\n",
       "      <th>comments_string</th>\n",
       "      <th>language</th>\n",
       "      <th>Polarity_Score</th>\n",
       "      <th>positive</th>\n",
       "    </tr>\n",
       "  </thead>\n",
       "  <tbody>\n",
       "    <tr>\n",
       "      <th>0</th>\n",
       "      <td>2818</td>\n",
       "      <td>1191</td>\n",
       "      <td>2009-03-30</td>\n",
       "      <td>10952</td>\n",
       "      <td>Lam</td>\n",
       "      <td>daniel is really cool the place was nice and c...</td>\n",
       "      <td>Daniel is really cool. The place was nice and ...</td>\n",
       "      <td>en</td>\n",
       "      <td>0.135185</td>\n",
       "      <td>1</td>\n",
       "    </tr>\n",
       "    <tr>\n",
       "      <th>1</th>\n",
       "      <td>2818</td>\n",
       "      <td>1771</td>\n",
       "      <td>2009-04-24</td>\n",
       "      <td>12798</td>\n",
       "      <td>Alice</td>\n",
       "      <td>daniel is the most amazing host his place is e...</td>\n",
       "      <td>Daniel is the most amazing host! His place is ...</td>\n",
       "      <td>en</td>\n",
       "      <td>0.333611</td>\n",
       "      <td>1</td>\n",
       "    </tr>\n",
       "    <tr>\n",
       "      <th>2</th>\n",
       "      <td>2818</td>\n",
       "      <td>1989</td>\n",
       "      <td>2009-05-03</td>\n",
       "      <td>11869</td>\n",
       "      <td>Natalja</td>\n",
       "      <td>we had such a great time in amsterdam daniel i...</td>\n",
       "      <td>We had such a great time in Amsterdam. Daniel ...</td>\n",
       "      <td>en</td>\n",
       "      <td>0.313681</td>\n",
       "      <td>1</td>\n",
       "    </tr>\n",
       "    <tr>\n",
       "      <th>3</th>\n",
       "      <td>2818</td>\n",
       "      <td>2797</td>\n",
       "      <td>2009-05-18</td>\n",
       "      <td>14064</td>\n",
       "      <td>Enrique</td>\n",
       "      <td>very professional operation room is very clean...</td>\n",
       "      <td>Very professional operation. Room is very clea...</td>\n",
       "      <td>en</td>\n",
       "      <td>0.451111</td>\n",
       "      <td>1</td>\n",
       "    </tr>\n",
       "    <tr>\n",
       "      <th>4</th>\n",
       "      <td>2818</td>\n",
       "      <td>3151</td>\n",
       "      <td>2009-05-25</td>\n",
       "      <td>17977</td>\n",
       "      <td>Sherwin</td>\n",
       "      <td>daniel is highly recommended he provided all n...</td>\n",
       "      <td>Daniel is highly recommended.  He provided all...</td>\n",
       "      <td>en</td>\n",
       "      <td>0.222778</td>\n",
       "      <td>1</td>\n",
       "    </tr>\n",
       "  </tbody>\n",
       "</table>\n",
       "</div>"
      ],
      "text/plain": [
       "   listing_id    id        date  reviewer_id reviewer_name  \\\n",
       "0        2818  1191  2009-03-30        10952           Lam   \n",
       "1        2818  1771  2009-04-24        12798         Alice   \n",
       "2        2818  1989  2009-05-03        11869       Natalja   \n",
       "3        2818  2797  2009-05-18        14064       Enrique   \n",
       "4        2818  3151  2009-05-25        17977       Sherwin   \n",
       "\n",
       "                                            comments  \\\n",
       "0  daniel is really cool the place was nice and c...   \n",
       "1  daniel is the most amazing host his place is e...   \n",
       "2  we had such a great time in amsterdam daniel i...   \n",
       "3  very professional operation room is very clean...   \n",
       "4  daniel is highly recommended he provided all n...   \n",
       "\n",
       "                                     comments_string language  Polarity_Score  \\\n",
       "0  Daniel is really cool. The place was nice and ...       en        0.135185   \n",
       "1  Daniel is the most amazing host! His place is ...       en        0.333611   \n",
       "2  We had such a great time in Amsterdam. Daniel ...       en        0.313681   \n",
       "3  Very professional operation. Room is very clea...       en        0.451111   \n",
       "4  Daniel is highly recommended.  He provided all...       en        0.222778   \n",
       "\n",
       "   positive  \n",
       "0         1  \n",
       "1         1  \n",
       "2         1  \n",
       "3         1  \n",
       "4         1  "
      ]
     },
     "execution_count": 50,
     "metadata": {},
     "output_type": "execute_result"
    }
   ],
   "source": [
    "df_merged.head()"
   ]
  },
  {
   "cell_type": "code",
   "execution_count": 51,
   "id": "a0b5a47e",
   "metadata": {},
   "outputs": [],
   "source": [
    "listingscore = df_merged.groupby(df_merged['listing_id'])['positive'].mean()\n",
    "listingscore_df = pd.DataFrame(listingscore)"
   ]
  },
  {
   "cell_type": "code",
   "execution_count": 52,
   "id": "f39a06c1",
   "metadata": {},
   "outputs": [],
   "source": [
    "listingspolarity = df_merged.groupby(df_merged['listing_id'])['Polarity_Score'].mean()\n",
    "listingspolarity_df = pd.DataFrame(listingspolarity)"
   ]
  },
  {
   "cell_type": "code",
   "execution_count": 53,
   "id": "63ca9b51",
   "metadata": {},
   "outputs": [
    {
     "data": {
      "text/html": [
       "<div>\n",
       "<style scoped>\n",
       "    .dataframe tbody tr th:only-of-type {\n",
       "        vertical-align: middle;\n",
       "    }\n",
       "\n",
       "    .dataframe tbody tr th {\n",
       "        vertical-align: top;\n",
       "    }\n",
       "\n",
       "    .dataframe thead th {\n",
       "        text-align: right;\n",
       "    }\n",
       "</style>\n",
       "<table border=\"1\" class=\"dataframe\">\n",
       "  <thead>\n",
       "    <tr style=\"text-align: right;\">\n",
       "      <th></th>\n",
       "      <th>Polarity_Score</th>\n",
       "    </tr>\n",
       "    <tr>\n",
       "      <th>listing_id</th>\n",
       "      <th></th>\n",
       "    </tr>\n",
       "  </thead>\n",
       "  <tbody>\n",
       "    <tr>\n",
       "      <th>2818</th>\n",
       "      <td>0.370505</td>\n",
       "    </tr>\n",
       "    <tr>\n",
       "      <th>3209</th>\n",
       "      <td>0.396585</td>\n",
       "    </tr>\n",
       "    <tr>\n",
       "      <th>20168</th>\n",
       "      <td>0.321653</td>\n",
       "    </tr>\n",
       "    <tr>\n",
       "      <th>25428</th>\n",
       "      <td>0.506875</td>\n",
       "    </tr>\n",
       "    <tr>\n",
       "      <th>27886</th>\n",
       "      <td>0.435719</td>\n",
       "    </tr>\n",
       "  </tbody>\n",
       "</table>\n",
       "</div>"
      ],
      "text/plain": [
       "            Polarity_Score\n",
       "listing_id                \n",
       "2818              0.370505\n",
       "3209              0.396585\n",
       "20168             0.321653\n",
       "25428             0.506875\n",
       "27886             0.435719"
      ]
     },
     "execution_count": 53,
     "metadata": {},
     "output_type": "execute_result"
    }
   ],
   "source": [
    "listingspolarity_df.head()"
   ]
  },
  {
   "cell_type": "code",
   "execution_count": 54,
   "id": "eb9fe98e",
   "metadata": {},
   "outputs": [],
   "source": [
    "listingspolarity_df['Polarity_Score']=(listingspolarity_df['Polarity_Score']+1)*50"
   ]
  },
  {
   "cell_type": "code",
   "execution_count": 55,
   "id": "73c716fd",
   "metadata": {},
   "outputs": [
    {
     "data": {
      "text/plain": [
       "(17310, 1)"
      ]
     },
     "execution_count": 55,
     "metadata": {},
     "output_type": "execute_result"
    }
   ],
   "source": [
    "listingspolarity_df.shape"
   ]
  },
  {
   "cell_type": "code",
   "execution_count": 58,
   "id": "cb93f091",
   "metadata": {},
   "outputs": [
    {
     "data": {
      "text/html": [
       "<div>\n",
       "<style scoped>\n",
       "    .dataframe tbody tr th:only-of-type {\n",
       "        vertical-align: middle;\n",
       "    }\n",
       "\n",
       "    .dataframe tbody tr th {\n",
       "        vertical-align: top;\n",
       "    }\n",
       "\n",
       "    .dataframe thead th {\n",
       "        text-align: right;\n",
       "    }\n",
       "</style>\n",
       "<table border=\"1\" class=\"dataframe\">\n",
       "  <thead>\n",
       "    <tr style=\"text-align: right;\">\n",
       "      <th></th>\n",
       "      <th>Polarity_Score</th>\n",
       "    </tr>\n",
       "    <tr>\n",
       "      <th>listing_id</th>\n",
       "      <th></th>\n",
       "    </tr>\n",
       "  </thead>\n",
       "  <tbody>\n",
       "    <tr>\n",
       "      <th>2818</th>\n",
       "      <td>68.525265</td>\n",
       "    </tr>\n",
       "    <tr>\n",
       "      <th>3209</th>\n",
       "      <td>69.829261</td>\n",
       "    </tr>\n",
       "    <tr>\n",
       "      <th>20168</th>\n",
       "      <td>66.082649</td>\n",
       "    </tr>\n",
       "    <tr>\n",
       "      <th>25428</th>\n",
       "      <td>75.343750</td>\n",
       "    </tr>\n",
       "    <tr>\n",
       "      <th>27886</th>\n",
       "      <td>71.785949</td>\n",
       "    </tr>\n",
       "  </tbody>\n",
       "</table>\n",
       "</div>"
      ],
      "text/plain": [
       "            Polarity_Score\n",
       "listing_id                \n",
       "2818             68.525265\n",
       "3209             69.829261\n",
       "20168            66.082649\n",
       "25428            75.343750\n",
       "27886            71.785949"
      ]
     },
     "execution_count": 58,
     "metadata": {},
     "output_type": "execute_result"
    }
   ],
   "source": [
    "listingspolarity_df.head()"
   ]
  },
  {
   "cell_type": "code",
   "execution_count": 59,
   "id": "a67fe396",
   "metadata": {},
   "outputs": [
    {
     "data": {
      "text/html": [
       "<div>\n",
       "<style scoped>\n",
       "    .dataframe tbody tr th:only-of-type {\n",
       "        vertical-align: middle;\n",
       "    }\n",
       "\n",
       "    .dataframe tbody tr th {\n",
       "        vertical-align: top;\n",
       "    }\n",
       "\n",
       "    .dataframe thead th {\n",
       "        text-align: right;\n",
       "    }\n",
       "</style>\n",
       "<table border=\"1\" class=\"dataframe\">\n",
       "  <thead>\n",
       "    <tr style=\"text-align: right;\">\n",
       "      <th></th>\n",
       "      <th>positive</th>\n",
       "    </tr>\n",
       "    <tr>\n",
       "      <th>listing_id</th>\n",
       "      <th></th>\n",
       "    </tr>\n",
       "  </thead>\n",
       "  <tbody>\n",
       "    <tr>\n",
       "      <th>2818</th>\n",
       "      <td>0.985366</td>\n",
       "    </tr>\n",
       "    <tr>\n",
       "      <th>3209</th>\n",
       "      <td>0.933333</td>\n",
       "    </tr>\n",
       "    <tr>\n",
       "      <th>20168</th>\n",
       "      <td>0.954082</td>\n",
       "    </tr>\n",
       "    <tr>\n",
       "      <th>25428</th>\n",
       "      <td>1.000000</td>\n",
       "    </tr>\n",
       "    <tr>\n",
       "      <th>27886</th>\n",
       "      <td>0.992958</td>\n",
       "    </tr>\n",
       "    <tr>\n",
       "      <th>...</th>\n",
       "      <td>...</td>\n",
       "    </tr>\n",
       "    <tr>\n",
       "      <th>30423566</th>\n",
       "      <td>1.000000</td>\n",
       "    </tr>\n",
       "    <tr>\n",
       "      <th>30433356</th>\n",
       "      <td>0.000000</td>\n",
       "    </tr>\n",
       "    <tr>\n",
       "      <th>30435529</th>\n",
       "      <td>0.000000</td>\n",
       "    </tr>\n",
       "    <tr>\n",
       "      <th>30439111</th>\n",
       "      <td>0.000000</td>\n",
       "    </tr>\n",
       "    <tr>\n",
       "      <th>30518120</th>\n",
       "      <td>0.000000</td>\n",
       "    </tr>\n",
       "  </tbody>\n",
       "</table>\n",
       "<p>17309 rows × 1 columns</p>\n",
       "</div>"
      ],
      "text/plain": [
       "            positive\n",
       "listing_id          \n",
       "2818        0.985366\n",
       "3209        0.933333\n",
       "20168       0.954082\n",
       "25428       1.000000\n",
       "27886       0.992958\n",
       "...              ...\n",
       "30423566    1.000000\n",
       "30433356    0.000000\n",
       "30435529    0.000000\n",
       "30439111    0.000000\n",
       "30518120    0.000000\n",
       "\n",
       "[17309 rows x 1 columns]"
      ]
     },
     "execution_count": 59,
     "metadata": {},
     "output_type": "execute_result"
    }
   ],
   "source": [
    "listingscore_df.head(17309)"
   ]
  },
  {
   "cell_type": "code",
   "execution_count": 57,
   "id": "ac2a66aa",
   "metadata": {
    "scrolled": false
   },
   "outputs": [
    {
     "data": {
      "text/plain": [
       "(array([3.1100e+02, 0.0000e+00, 0.0000e+00, 0.0000e+00, 0.0000e+00,\n",
       "        0.0000e+00, 0.0000e+00, 0.0000e+00, 0.0000e+00, 0.0000e+00,\n",
       "        0.0000e+00, 1.0000e+00, 0.0000e+00, 1.0000e+00, 1.0000e+00,\n",
       "        0.0000e+00, 0.0000e+00, 0.0000e+00, 0.0000e+00, 0.0000e+00,\n",
       "        7.0000e+00, 0.0000e+00, 1.0000e+00, 0.0000e+00, 0.0000e+00,\n",
       "        6.0000e+00, 0.0000e+00, 0.0000e+00, 1.0000e+00, 0.0000e+00,\n",
       "        0.0000e+00, 0.0000e+00, 0.0000e+00, 3.9000e+01, 0.0000e+00,\n",
       "        0.0000e+00, 1.0000e+00, 2.0000e+00, 0.0000e+00, 0.0000e+00,\n",
       "        1.8000e+01, 0.0000e+00, 2.0000e+00, 0.0000e+00, 1.0000e+00,\n",
       "        0.0000e+00, 2.0000e+00, 0.0000e+00, 0.0000e+00, 0.0000e+00,\n",
       "        3.1100e+02, 0.0000e+00, 1.0000e+00, 2.0000e+00, 2.0000e+00,\n",
       "        4.0000e+00, 0.0000e+00, 1.6000e+01, 2.0000e+00, 0.0000e+00,\n",
       "        2.9000e+01, 1.0000e+00, 1.4000e+01, 6.0000e+00, 3.0000e+00,\n",
       "        0.0000e+00, 3.0700e+02, 1.0000e+00, 5.0000e+00, 2.7000e+01,\n",
       "        8.0000e+00, 3.9000e+01, 1.0000e+01, 1.1000e+01, 2.0000e+00,\n",
       "        2.6900e+02, 1.2000e+01, 4.3000e+01, 2.4000e+01, 1.0000e+00,\n",
       "        2.5400e+02, 6.9000e+01, 2.6000e+01, 2.4800e+02, 6.0000e+01,\n",
       "        2.1500e+02, 6.9000e+01, 2.1200e+02, 2.6000e+02, 6.3000e+01,\n",
       "        3.7900e+02, 2.1200e+02, 3.5000e+02, 3.0400e+02, 4.6200e+02,\n",
       "        3.4400e+02, 4.5000e+02, 4.2200e+02, 3.7600e+02, 1.0991e+04]),\n",
       " array([0.  , 0.01, 0.02, 0.03, 0.04, 0.05, 0.06, 0.07, 0.08, 0.09, 0.1 ,\n",
       "        0.11, 0.12, 0.13, 0.14, 0.15, 0.16, 0.17, 0.18, 0.19, 0.2 , 0.21,\n",
       "        0.22, 0.23, 0.24, 0.25, 0.26, 0.27, 0.28, 0.29, 0.3 , 0.31, 0.32,\n",
       "        0.33, 0.34, 0.35, 0.36, 0.37, 0.38, 0.39, 0.4 , 0.41, 0.42, 0.43,\n",
       "        0.44, 0.45, 0.46, 0.47, 0.48, 0.49, 0.5 , 0.51, 0.52, 0.53, 0.54,\n",
       "        0.55, 0.56, 0.57, 0.58, 0.59, 0.6 , 0.61, 0.62, 0.63, 0.64, 0.65,\n",
       "        0.66, 0.67, 0.68, 0.69, 0.7 , 0.71, 0.72, 0.73, 0.74, 0.75, 0.76,\n",
       "        0.77, 0.78, 0.79, 0.8 , 0.81, 0.82, 0.83, 0.84, 0.85, 0.86, 0.87,\n",
       "        0.88, 0.89, 0.9 , 0.91, 0.92, 0.93, 0.94, 0.95, 0.96, 0.97, 0.98,\n",
       "        0.99, 1.  ]),\n",
       " <BarContainer object of 100 artists>)"
      ]
     },
     "execution_count": 57,
     "metadata": {},
     "output_type": "execute_result"
    },
    {
     "data": {
      "image/png": "[encoded data removed]",
      "text/plain": [
       "<Figure size 640x480 with 1 Axes>"
      ]
     },
     "metadata": {},
     "output_type": "display_data"
    }
   ],
   "source": [
    "plt.hist(listingscore_df['positive'], bins = 100)"
   ]
  },
  {
   "cell_type": "markdown",
   "id": "455f2bb0",
   "metadata": {},
   "source": [
    "## VERGELIJKEN POLARITY MET ECHTE RATINGS"
   ]
  },
  {
   "cell_type": "code",
   "execution_count": 61,
   "id": "3ee1c4d2",
   "metadata": {},
   "outputs": [
    {
     "data": {
      "text/plain": [
       "Index(['id', 'listing_url', 'scrape_id', 'last_scraped', 'name', 'summary',\n",
       "       'space', 'description', 'experiences_offered', 'neighborhood_overview',\n",
       "       'notes', 'transit', 'access', 'interaction', 'house_rules',\n",
       "       'thumbnail_url', 'medium_url', 'picture_url', 'xl_picture_url',\n",
       "       'host_id', 'host_url', 'host_name', 'host_since', 'host_location',\n",
       "       'host_about', 'host_response_time', 'host_response_rate',\n",
       "       'host_acceptance_rate', 'host_is_superhost', 'host_thumbnail_url',\n",
       "       'host_picture_url', 'host_neighbourhood', 'host_listings_count',\n",
       "       'host_total_listings_count', 'host_verifications',\n",
       "       'host_has_profile_pic', 'host_identity_verified', 'street',\n",
       "       'neighbourhood', 'neighbourhood_cleansed',\n",
       "       'neighbourhood_group_cleansed', 'city', 'state', 'zipcode', 'market',\n",
       "       'smart_location', 'country_code', 'country', 'latitude', 'longitude',\n",
       "       'is_location_exact', 'property_type', 'room_type', 'accommodates',\n",
       "       'bathrooms', 'bedrooms', 'beds', 'bed_type', 'amenities', 'square_feet',\n",
       "       'price', 'weekly_price', 'monthly_price', 'security_deposit',\n",
       "       'cleaning_fee', 'guests_included', 'extra_people', 'minimum_nights',\n",
       "       'maximum_nights', 'calendar_updated', 'has_availability',\n",
       "       'availability_30', 'availability_60', 'availability_90',\n",
       "       'availability_365', 'calendar_last_scraped', 'number_of_reviews',\n",
       "       'first_review', 'last_review', 'review_scores_rating',\n",
       "       'review_scores_accuracy', 'review_scores_cleanliness',\n",
       "       'review_scores_checkin', 'review_scores_communication',\n",
       "       'review_scores_location', 'review_scores_value', 'requires_license',\n",
       "       'license', 'jurisdiction_names', 'instant_bookable',\n",
       "       'is_business_travel_ready', 'cancellation_policy',\n",
       "       'require_guest_profile_picture', 'require_guest_phone_verification',\n",
       "       'calculated_host_listings_count', 'reviews_per_month'],\n",
       "      dtype='object')"
      ]
     },
     "execution_count": 61,
     "metadata": {},
     "output_type": "execute_result"
    }
   ],
   "source": [
    "df3.columns"
   ]
  },
  {
   "cell_type": "code",
   "execution_count": 60,
   "id": "e34a404e",
   "metadata": {},
   "outputs": [
    {
     "name": "stdout",
     "output_type": "stream",
     "text": [
      "2639\n",
      "(20030,)\n"
     ]
    }
   ],
   "source": [
    "reviewscores_df = df3['review_scores_rating']\n",
    "print(reviewscores_df.isna().sum())\n",
    "print(reviewscores_df.shape)"
   ]
  },
  {
   "cell_type": "code",
   "execution_count": 62,
   "id": "22554822",
   "metadata": {},
   "outputs": [
    {
     "data": {
      "text/html": [
       "<div>\n",
       "<style scoped>\n",
       "    .dataframe tbody tr th:only-of-type {\n",
       "        vertical-align: middle;\n",
       "    }\n",
       "\n",
       "    .dataframe tbody tr th {\n",
       "        vertical-align: top;\n",
       "    }\n",
       "\n",
       "    .dataframe thead th {\n",
       "        text-align: right;\n",
       "    }\n",
       "</style>\n",
       "<table border=\"1\" class=\"dataframe\">\n",
       "  <thead>\n",
       "    <tr style=\"text-align: right;\">\n",
       "      <th></th>\n",
       "      <th>id</th>\n",
       "      <th>review_scores_rating</th>\n",
       "      <th>number_of_reviews</th>\n",
       "    </tr>\n",
       "  </thead>\n",
       "  <tbody>\n",
       "    <tr>\n",
       "      <th>0</th>\n",
       "      <td>2818</td>\n",
       "      <td>97.0</td>\n",
       "      <td>248</td>\n",
       "    </tr>\n",
       "    <tr>\n",
       "      <th>1</th>\n",
       "      <td>3209</td>\n",
       "      <td>96.0</td>\n",
       "      <td>42</td>\n",
       "    </tr>\n",
       "    <tr>\n",
       "      <th>2</th>\n",
       "      <td>20168</td>\n",
       "      <td>87.0</td>\n",
       "      <td>233</td>\n",
       "    </tr>\n",
       "    <tr>\n",
       "      <th>3</th>\n",
       "      <td>25428</td>\n",
       "      <td>100.0</td>\n",
       "      <td>1</td>\n",
       "    </tr>\n",
       "    <tr>\n",
       "      <th>4</th>\n",
       "      <td>27886</td>\n",
       "      <td>99.0</td>\n",
       "      <td>171</td>\n",
       "    </tr>\n",
       "  </tbody>\n",
       "</table>\n",
       "</div>"
      ],
      "text/plain": [
       "      id  review_scores_rating  number_of_reviews\n",
       "0   2818                  97.0                248\n",
       "1   3209                  96.0                 42\n",
       "2  20168                  87.0                233\n",
       "3  25428                 100.0                  1\n",
       "4  27886                  99.0                171"
      ]
     },
     "execution_count": 62,
     "metadata": {},
     "output_type": "execute_result"
    }
   ],
   "source": [
    "reviewscores_df = df3[['id', 'review_scores_rating', 'number_of_reviews']]\n",
    "reviewscores_df.head()"
   ]
  },
  {
   "cell_type": "code",
   "execution_count": 63,
   "id": "18f2418e",
   "metadata": {},
   "outputs": [],
   "source": [
    "reviewscores_df = reviewscores_df.dropna(axis='rows')"
   ]
  },
  {
   "cell_type": "code",
   "execution_count": 64,
   "id": "43bcc1cd",
   "metadata": {},
   "outputs": [],
   "source": [
    "listings_merged = listingscore_df.merge(reviewscores_df, left_on='listing_id', right_on='id')"
   ]
  },
  {
   "cell_type": "code",
   "execution_count": 65,
   "id": "af933907",
   "metadata": {},
   "outputs": [],
   "source": [
    "listings_merged = listings_merged.merge(listingspolarity_df, left_on='id', right_on = 'listing_id')"
   ]
  },
  {
   "cell_type": "code",
   "execution_count": 66,
   "id": "32056be9",
   "metadata": {},
   "outputs": [
    {
     "data": {
      "text/plain": [
       "(17077, 5)"
      ]
     },
     "execution_count": 66,
     "metadata": {},
     "output_type": "execute_result"
    }
   ],
   "source": [
    "listings_merged.shape"
   ]
  },
  {
   "cell_type": "code",
   "execution_count": 67,
   "id": "0720be83",
   "metadata": {},
   "outputs": [
    {
     "data": {
      "text/html": [
       "<div>\n",
       "<style scoped>\n",
       "    .dataframe tbody tr th:only-of-type {\n",
       "        vertical-align: middle;\n",
       "    }\n",
       "\n",
       "    .dataframe tbody tr th {\n",
       "        vertical-align: top;\n",
       "    }\n",
       "\n",
       "    .dataframe thead th {\n",
       "        text-align: right;\n",
       "    }\n",
       "</style>\n",
       "<table border=\"1\" class=\"dataframe\">\n",
       "  <thead>\n",
       "    <tr style=\"text-align: right;\">\n",
       "      <th></th>\n",
       "      <th>positive</th>\n",
       "      <th>id</th>\n",
       "      <th>review_scores_rating</th>\n",
       "      <th>number_of_reviews</th>\n",
       "      <th>Polarity_Score</th>\n",
       "    </tr>\n",
       "  </thead>\n",
       "  <tbody>\n",
       "    <tr>\n",
       "      <th>0</th>\n",
       "      <td>0.985366</td>\n",
       "      <td>2818</td>\n",
       "      <td>97.0</td>\n",
       "      <td>248</td>\n",
       "      <td>68.525265</td>\n",
       "    </tr>\n",
       "    <tr>\n",
       "      <th>1</th>\n",
       "      <td>0.933333</td>\n",
       "      <td>3209</td>\n",
       "      <td>96.0</td>\n",
       "      <td>42</td>\n",
       "      <td>69.829261</td>\n",
       "    </tr>\n",
       "    <tr>\n",
       "      <th>2</th>\n",
       "      <td>0.954082</td>\n",
       "      <td>20168</td>\n",
       "      <td>87.0</td>\n",
       "      <td>233</td>\n",
       "      <td>66.082649</td>\n",
       "    </tr>\n",
       "    <tr>\n",
       "      <th>3</th>\n",
       "      <td>1.000000</td>\n",
       "      <td>25428</td>\n",
       "      <td>100.0</td>\n",
       "      <td>1</td>\n",
       "      <td>75.343750</td>\n",
       "    </tr>\n",
       "    <tr>\n",
       "      <th>4</th>\n",
       "      <td>0.992958</td>\n",
       "      <td>27886</td>\n",
       "      <td>99.0</td>\n",
       "      <td>171</td>\n",
       "      <td>71.785949</td>\n",
       "    </tr>\n",
       "  </tbody>\n",
       "</table>\n",
       "</div>"
      ],
      "text/plain": [
       "   positive     id  review_scores_rating  number_of_reviews  Polarity_Score\n",
       "0  0.985366   2818                  97.0                248       68.525265\n",
       "1  0.933333   3209                  96.0                 42       69.829261\n",
       "2  0.954082  20168                  87.0                233       66.082649\n",
       "3  1.000000  25428                 100.0                  1       75.343750\n",
       "4  0.992958  27886                  99.0                171       71.785949"
      ]
     },
     "execution_count": 67,
     "metadata": {},
     "output_type": "execute_result"
    }
   ],
   "source": [
    "listings_merged.head()"
   ]
  },
  {
   "cell_type": "code",
   "execution_count": 68,
   "id": "3617feec",
   "metadata": {},
   "outputs": [],
   "source": [
    "listings_merged['positive'] = listings_merged['positive']*100"
   ]
  },
  {
   "cell_type": "code",
   "execution_count": 69,
   "id": "fc5ba5ed",
   "metadata": {},
   "outputs": [
    {
     "data": {
      "text/plain": [
       "2      1106\n",
       "3      1052\n",
       "1       965\n",
       "4       953\n",
       "5       853\n",
       "       ... \n",
       "576       1\n",
       "373       1\n",
       "227       1\n",
       "602       1\n",
       "240       1\n",
       "Name: number_of_reviews, Length: 353, dtype: int64"
      ]
     },
     "execution_count": 69,
     "metadata": {},
     "output_type": "execute_result"
    }
   ],
   "source": [
    "listings_merged['number_of_reviews'].value_counts()"
   ]
  },
  {
   "cell_type": "code",
   "execution_count": 70,
   "id": "332ac5b2",
   "metadata": {},
   "outputs": [],
   "source": [
    "listings_merged = listings_merged.drop(listings_merged[listings_merged['number_of_reviews']<5].index)"
   ]
  },
  {
   "cell_type": "code",
   "execution_count": 71,
   "id": "303671fa",
   "metadata": {},
   "outputs": [
    {
     "data": {
      "text/plain": [
       "5      853\n",
       "6      778\n",
       "7      725\n",
       "8      650\n",
       "9      586\n",
       "      ... \n",
       "370      1\n",
       "260      1\n",
       "499      1\n",
       "389      1\n",
       "240      1\n",
       "Name: number_of_reviews, Length: 349, dtype: int64"
      ]
     },
     "execution_count": 71,
     "metadata": {},
     "output_type": "execute_result"
    }
   ],
   "source": [
    "listings_merged['number_of_reviews'].value_counts()"
   ]
  },
  {
   "cell_type": "code",
   "execution_count": 72,
   "id": "504ffb6c",
   "metadata": {
    "scrolled": false
   },
   "outputs": [
    {
     "data": {
      "text/plain": [
       "<AxesSubplot:xlabel='Polarity_Score', ylabel='review_scores_rating'>"
      ]
     },
     "execution_count": 72,
     "metadata": {},
     "output_type": "execute_result"
    },
    {
     "data": {
      "image/png": "[encoded data removed]",
      "text/plain": [
       "<Figure size 640x480 with 1 Axes>"
      ]
     },
     "metadata": {},
     "output_type": "display_data"
    }
   ],
   "source": [
    "sns.regplot(data=listings_merged, x='Polarity_Score', y = 'review_scores_rating')"
   ]
  },
  {
   "cell_type": "code",
   "execution_count": 73,
   "id": "4319123f",
   "metadata": {},
   "outputs": [
    {
     "data": {
      "text/plain": [
       "<AxesSubplot:xlabel='positive'>"
      ]
     },
     "execution_count": 73,
     "metadata": {},
     "output_type": "execute_result"
    },
    {
     "data": {
      "image/png": "[encoded data removed]",
      "text/plain": [
       "<Figure size 640x480 with 1 Axes>"
      ]
     },
     "metadata": {},
     "output_type": "display_data"
    }
   ],
   "source": [
    "sns.boxplot(data=listings_merged, x='positive')\n",
    "#sns.boxplot(data=listings_merged, x='review_scores_rating')"
   ]
  },
  {
   "cell_type": "code",
   "execution_count": 74,
   "id": "e564bb33",
   "metadata": {},
   "outputs": [
    {
     "data": {
      "text/plain": [
       "<AxesSubplot:xlabel='review_scores_rating'>"
      ]
     },
     "execution_count": 74,
     "metadata": {},
     "output_type": "execute_result"
    },
    {
     "data": {
      "image/png": "[encoded data removed]",
      "text/plain": [
       "<Figure size 640x480 with 1 Axes>"
      ]
     },
     "metadata": {},
     "output_type": "display_data"
    }
   ],
   "source": [
    "sns.boxplot(data=listings_merged, x='review_scores_rating')"
   ]
  },
  {
   "cell_type": "code",
   "execution_count": 75,
   "id": "70cc2204",
   "metadata": {},
   "outputs": [],
   "source": [
    "listings_merged_melted = pd.melt(listings_merged[['positive','review_scores_rating']])"
   ]
  },
  {
   "cell_type": "code",
   "execution_count": 76,
   "id": "e042e7ab",
   "metadata": {},
   "outputs": [
    {
     "data": {
      "text/html": [
       "<div>\n",
       "<style scoped>\n",
       "    .dataframe tbody tr th:only-of-type {\n",
       "        vertical-align: middle;\n",
       "    }\n",
       "\n",
       "    .dataframe tbody tr th {\n",
       "        vertical-align: top;\n",
       "    }\n",
       "\n",
       "    .dataframe thead th {\n",
       "        text-align: right;\n",
       "    }\n",
       "</style>\n",
       "<table border=\"1\" class=\"dataframe\">\n",
       "  <thead>\n",
       "    <tr style=\"text-align: right;\">\n",
       "      <th></th>\n",
       "      <th>positive</th>\n",
       "      <th>id</th>\n",
       "      <th>review_scores_rating</th>\n",
       "      <th>number_of_reviews</th>\n",
       "      <th>Polarity_Score</th>\n",
       "    </tr>\n",
       "  </thead>\n",
       "  <tbody>\n",
       "    <tr>\n",
       "      <th>0</th>\n",
       "      <td>98.536585</td>\n",
       "      <td>2818</td>\n",
       "      <td>97.0</td>\n",
       "      <td>248</td>\n",
       "      <td>68.525265</td>\n",
       "    </tr>\n",
       "    <tr>\n",
       "      <th>1</th>\n",
       "      <td>93.333333</td>\n",
       "      <td>3209</td>\n",
       "      <td>96.0</td>\n",
       "      <td>42</td>\n",
       "      <td>69.829261</td>\n",
       "    </tr>\n",
       "    <tr>\n",
       "      <th>2</th>\n",
       "      <td>95.408163</td>\n",
       "      <td>20168</td>\n",
       "      <td>87.0</td>\n",
       "      <td>233</td>\n",
       "      <td>66.082649</td>\n",
       "    </tr>\n",
       "    <tr>\n",
       "      <th>4</th>\n",
       "      <td>99.295775</td>\n",
       "      <td>27886</td>\n",
       "      <td>99.0</td>\n",
       "      <td>171</td>\n",
       "      <td>71.785949</td>\n",
       "    </tr>\n",
       "    <tr>\n",
       "      <th>5</th>\n",
       "      <td>99.390244</td>\n",
       "      <td>28658</td>\n",
       "      <td>93.0</td>\n",
       "      <td>434</td>\n",
       "      <td>69.920556</td>\n",
       "    </tr>\n",
       "    <tr>\n",
       "      <th>...</th>\n",
       "      <td>...</td>\n",
       "      <td>...</td>\n",
       "      <td>...</td>\n",
       "      <td>...</td>\n",
       "      <td>...</td>\n",
       "    </tr>\n",
       "    <tr>\n",
       "      <th>16971</th>\n",
       "      <td>100.000000</td>\n",
       "      <td>29734820</td>\n",
       "      <td>93.0</td>\n",
       "      <td>6</td>\n",
       "      <td>64.070000</td>\n",
       "    </tr>\n",
       "    <tr>\n",
       "      <th>16988</th>\n",
       "      <td>100.000000</td>\n",
       "      <td>29799483</td>\n",
       "      <td>90.0</td>\n",
       "      <td>6</td>\n",
       "      <td>70.413360</td>\n",
       "    </tr>\n",
       "    <tr>\n",
       "      <th>16994</th>\n",
       "      <td>100.000000</td>\n",
       "      <td>29826403</td>\n",
       "      <td>100.0</td>\n",
       "      <td>5</td>\n",
       "      <td>72.136237</td>\n",
       "    </tr>\n",
       "    <tr>\n",
       "      <th>16999</th>\n",
       "      <td>80.000000</td>\n",
       "      <td>29848509</td>\n",
       "      <td>96.0</td>\n",
       "      <td>6</td>\n",
       "      <td>65.361742</td>\n",
       "    </tr>\n",
       "    <tr>\n",
       "      <th>17021</th>\n",
       "      <td>100.000000</td>\n",
       "      <td>29921920</td>\n",
       "      <td>100.0</td>\n",
       "      <td>5</td>\n",
       "      <td>68.930147</td>\n",
       "    </tr>\n",
       "  </tbody>\n",
       "</table>\n",
       "<p>13001 rows × 5 columns</p>\n",
       "</div>"
      ],
      "text/plain": [
       "         positive        id  review_scores_rating  number_of_reviews  \\\n",
       "0       98.536585      2818                  97.0                248   \n",
       "1       93.333333      3209                  96.0                 42   \n",
       "2       95.408163     20168                  87.0                233   \n",
       "4       99.295775     27886                  99.0                171   \n",
       "5       99.390244     28658                  93.0                434   \n",
       "...           ...       ...                   ...                ...   \n",
       "16971  100.000000  29734820                  93.0                  6   \n",
       "16988  100.000000  29799483                  90.0                  6   \n",
       "16994  100.000000  29826403                 100.0                  5   \n",
       "16999   80.000000  29848509                  96.0                  6   \n",
       "17021  100.000000  29921920                 100.0                  5   \n",
       "\n",
       "       Polarity_Score  \n",
       "0           68.525265  \n",
       "1           69.829261  \n",
       "2           66.082649  \n",
       "4           71.785949  \n",
       "5           69.920556  \n",
       "...               ...  \n",
       "16971       64.070000  \n",
       "16988       70.413360  \n",
       "16994       72.136237  \n",
       "16999       65.361742  \n",
       "17021       68.930147  \n",
       "\n",
       "[13001 rows x 5 columns]"
      ]
     },
     "execution_count": 76,
     "metadata": {},
     "output_type": "execute_result"
    }
   ],
   "source": [
    "listings_merged"
   ]
  },
  {
   "cell_type": "code",
   "execution_count": 77,
   "id": "a7d1b1dd",
   "metadata": {},
   "outputs": [
    {
     "data": {
      "text/html": [
       "<div>\n",
       "<style scoped>\n",
       "    .dataframe tbody tr th:only-of-type {\n",
       "        vertical-align: middle;\n",
       "    }\n",
       "\n",
       "    .dataframe tbody tr th {\n",
       "        vertical-align: top;\n",
       "    }\n",
       "\n",
       "    .dataframe thead th {\n",
       "        text-align: right;\n",
       "    }\n",
       "</style>\n",
       "<table border=\"1\" class=\"dataframe\">\n",
       "  <thead>\n",
       "    <tr style=\"text-align: right;\">\n",
       "      <th></th>\n",
       "      <th>variable</th>\n",
       "      <th>value</th>\n",
       "    </tr>\n",
       "  </thead>\n",
       "  <tbody>\n",
       "    <tr>\n",
       "      <th>0</th>\n",
       "      <td>positive</td>\n",
       "      <td>98.536585</td>\n",
       "    </tr>\n",
       "    <tr>\n",
       "      <th>1</th>\n",
       "      <td>positive</td>\n",
       "      <td>93.333333</td>\n",
       "    </tr>\n",
       "    <tr>\n",
       "      <th>2</th>\n",
       "      <td>positive</td>\n",
       "      <td>95.408163</td>\n",
       "    </tr>\n",
       "    <tr>\n",
       "      <th>3</th>\n",
       "      <td>positive</td>\n",
       "      <td>99.295775</td>\n",
       "    </tr>\n",
       "    <tr>\n",
       "      <th>4</th>\n",
       "      <td>positive</td>\n",
       "      <td>99.390244</td>\n",
       "    </tr>\n",
       "    <tr>\n",
       "      <th>...</th>\n",
       "      <td>...</td>\n",
       "      <td>...</td>\n",
       "    </tr>\n",
       "    <tr>\n",
       "      <th>25997</th>\n",
       "      <td>review_scores_rating</td>\n",
       "      <td>93.000000</td>\n",
       "    </tr>\n",
       "    <tr>\n",
       "      <th>25998</th>\n",
       "      <td>review_scores_rating</td>\n",
       "      <td>90.000000</td>\n",
       "    </tr>\n",
       "    <tr>\n",
       "      <th>25999</th>\n",
       "      <td>review_scores_rating</td>\n",
       "      <td>100.000000</td>\n",
       "    </tr>\n",
       "    <tr>\n",
       "      <th>26000</th>\n",
       "      <td>review_scores_rating</td>\n",
       "      <td>96.000000</td>\n",
       "    </tr>\n",
       "    <tr>\n",
       "      <th>26001</th>\n",
       "      <td>review_scores_rating</td>\n",
       "      <td>100.000000</td>\n",
       "    </tr>\n",
       "  </tbody>\n",
       "</table>\n",
       "<p>26002 rows × 2 columns</p>\n",
       "</div>"
      ],
      "text/plain": [
       "                   variable       value\n",
       "0                  positive   98.536585\n",
       "1                  positive   93.333333\n",
       "2                  positive   95.408163\n",
       "3                  positive   99.295775\n",
       "4                  positive   99.390244\n",
       "...                     ...         ...\n",
       "25997  review_scores_rating   93.000000\n",
       "25998  review_scores_rating   90.000000\n",
       "25999  review_scores_rating  100.000000\n",
       "26000  review_scores_rating   96.000000\n",
       "26001  review_scores_rating  100.000000\n",
       "\n",
       "[26002 rows x 2 columns]"
      ]
     },
     "execution_count": 77,
     "metadata": {},
     "output_type": "execute_result"
    }
   ],
   "source": [
    "listings_merged_melted"
   ]
  },
  {
   "cell_type": "code",
   "execution_count": 78,
   "id": "e46a67ff",
   "metadata": {},
   "outputs": [
    {
     "data": {
      "text/plain": [
       "<AxesSubplot:xlabel='value', ylabel='variable'>"
      ]
     },
     "execution_count": 78,
     "metadata": {},
     "output_type": "execute_result"
    },
    {
     "data": {
      "image/png": "[encoded data removed]",
      "text/plain": [
       "<Figure size 640x480 with 1 Axes>"
      ]
     },
     "metadata": {},
     "output_type": "display_data"
    }
   ],
   "source": [
    "sns.boxplot(y='variable',x='value',data=listings_merged_melted)"
   ]
  },
  {
   "cell_type": "code",
   "execution_count": 81,
   "id": "f91919da",
   "metadata": {},
   "outputs": [
    {
     "name": "stderr",
     "output_type": "stream",
     "text": [
      "C:\\Users\\nijo0\\AppData\\Local\\Temp\\ipykernel_14504\\2475433900.py:1: FutureWarning: Passing a negative integer is deprecated in version 1.0 and will not be supported in future version. Instead, use None to not limit the column width.\n",
      "  pd.set_option(\"display.max_colwidth\", -1)\n"
     ]
    }
   ],
   "source": [
    "pd.set_option(\"display.max_colwidth\", -1)"
   ]
  },
  {
   "cell_type": "code",
   "execution_count": 82,
   "id": "648ff0da",
   "metadata": {},
   "outputs": [
    {
     "data": {
      "text/html": [
       "<div>\n",
       "<style scoped>\n",
       "    .dataframe tbody tr th:only-of-type {\n",
       "        vertical-align: middle;\n",
       "    }\n",
       "\n",
       "    .dataframe tbody tr th {\n",
       "        vertical-align: top;\n",
       "    }\n",
       "\n",
       "    .dataframe thead th {\n",
       "        text-align: right;\n",
       "    }\n",
       "</style>\n",
       "<table border=\"1\" class=\"dataframe\">\n",
       "  <thead>\n",
       "    <tr style=\"text-align: right;\">\n",
       "      <th></th>\n",
       "      <th>positive</th>\n",
       "      <th>id</th>\n",
       "      <th>review_scores_rating</th>\n",
       "      <th>number_of_reviews</th>\n",
       "      <th>Polarity_Score</th>\n",
       "    </tr>\n",
       "  </thead>\n",
       "  <tbody>\n",
       "    <tr>\n",
       "      <th>0</th>\n",
       "      <td>98.536585</td>\n",
       "      <td>2818</td>\n",
       "      <td>97.0</td>\n",
       "      <td>248</td>\n",
       "      <td>68.525265</td>\n",
       "    </tr>\n",
       "    <tr>\n",
       "      <th>1</th>\n",
       "      <td>93.333333</td>\n",
       "      <td>3209</td>\n",
       "      <td>96.0</td>\n",
       "      <td>42</td>\n",
       "      <td>69.829261</td>\n",
       "    </tr>\n",
       "    <tr>\n",
       "      <th>2</th>\n",
       "      <td>95.408163</td>\n",
       "      <td>20168</td>\n",
       "      <td>87.0</td>\n",
       "      <td>233</td>\n",
       "      <td>66.082649</td>\n",
       "    </tr>\n",
       "    <tr>\n",
       "      <th>4</th>\n",
       "      <td>99.295775</td>\n",
       "      <td>27886</td>\n",
       "      <td>99.0</td>\n",
       "      <td>171</td>\n",
       "      <td>71.785949</td>\n",
       "    </tr>\n",
       "    <tr>\n",
       "      <th>5</th>\n",
       "      <td>99.390244</td>\n",
       "      <td>28658</td>\n",
       "      <td>93.0</td>\n",
       "      <td>434</td>\n",
       "      <td>69.920556</td>\n",
       "    </tr>\n",
       "  </tbody>\n",
       "</table>\n",
       "</div>"
      ],
      "text/plain": [
       "    positive     id  review_scores_rating  number_of_reviews  Polarity_Score\n",
       "0  98.536585  2818   97.0                  248                68.525265     \n",
       "1  93.333333  3209   96.0                  42                 69.829261     \n",
       "2  95.408163  20168  87.0                  233                66.082649     \n",
       "4  99.295775  27886  99.0                  171                71.785949     \n",
       "5  99.390244  28658  93.0                  434                69.920556     "
      ]
     },
     "execution_count": 82,
     "metadata": {},
     "output_type": "execute_result"
    }
   ],
   "source": [
    "listings_merged.head()"
   ]
  },
  {
   "cell_type": "code",
   "execution_count": 84,
   "id": "c1c8571a",
   "metadata": {},
   "outputs": [],
   "source": [
    "listings_merged = listings_merged[['id', 'number_of_reviews', 'review_scores_rating', 'Polarity_Score', 'positive']]"
   ]
  },
  {
   "cell_type": "code",
   "execution_count": 85,
   "id": "054608d7",
   "metadata": {},
   "outputs": [
    {
     "data": {
      "text/html": [
       "<div>\n",
       "<style scoped>\n",
       "    .dataframe tbody tr th:only-of-type {\n",
       "        vertical-align: middle;\n",
       "    }\n",
       "\n",
       "    .dataframe tbody tr th {\n",
       "        vertical-align: top;\n",
       "    }\n",
       "\n",
       "    .dataframe thead th {\n",
       "        text-align: right;\n",
       "    }\n",
       "</style>\n",
       "<table border=\"1\" class=\"dataframe\">\n",
       "  <thead>\n",
       "    <tr style=\"text-align: right;\">\n",
       "      <th></th>\n",
       "      <th>id</th>\n",
       "      <th>number_of_reviews</th>\n",
       "      <th>review_scores_rating</th>\n",
       "      <th>Polarity_Score</th>\n",
       "      <th>positive</th>\n",
       "    </tr>\n",
       "  </thead>\n",
       "  <tbody>\n",
       "    <tr>\n",
       "      <th>0</th>\n",
       "      <td>2818</td>\n",
       "      <td>248</td>\n",
       "      <td>97.0</td>\n",
       "      <td>68.525265</td>\n",
       "      <td>98.536585</td>\n",
       "    </tr>\n",
       "    <tr>\n",
       "      <th>1</th>\n",
       "      <td>3209</td>\n",
       "      <td>42</td>\n",
       "      <td>96.0</td>\n",
       "      <td>69.829261</td>\n",
       "      <td>93.333333</td>\n",
       "    </tr>\n",
       "    <tr>\n",
       "      <th>2</th>\n",
       "      <td>20168</td>\n",
       "      <td>233</td>\n",
       "      <td>87.0</td>\n",
       "      <td>66.082649</td>\n",
       "      <td>95.408163</td>\n",
       "    </tr>\n",
       "    <tr>\n",
       "      <th>4</th>\n",
       "      <td>27886</td>\n",
       "      <td>171</td>\n",
       "      <td>99.0</td>\n",
       "      <td>71.785949</td>\n",
       "      <td>99.295775</td>\n",
       "    </tr>\n",
       "    <tr>\n",
       "      <th>5</th>\n",
       "      <td>28658</td>\n",
       "      <td>434</td>\n",
       "      <td>93.0</td>\n",
       "      <td>69.920556</td>\n",
       "      <td>99.390244</td>\n",
       "    </tr>\n",
       "  </tbody>\n",
       "</table>\n",
       "</div>"
      ],
      "text/plain": [
       "      id  number_of_reviews  review_scores_rating  Polarity_Score   positive\n",
       "0  2818   248                97.0                  68.525265       98.536585\n",
       "1  3209   42                 96.0                  69.829261       93.333333\n",
       "2  20168  233                87.0                  66.082649       95.408163\n",
       "4  27886  171                99.0                  71.785949       99.295775\n",
       "5  28658  434                93.0                  69.920556       99.390244"
      ]
     },
     "execution_count": 85,
     "metadata": {},
     "output_type": "execute_result"
    }
   ],
   "source": [
    "listings_merged.head()"
   ]
  },
  {
   "cell_type": "code",
   "execution_count": 86,
   "id": "a95691da",
   "metadata": {},
   "outputs": [],
   "source": [
    "listings_merged.to_csv('airBNB_ratings+model.csv')"
   ]
  },
  {
   "cell_type": "code",
   "execution_count": 3,
   "id": "30657d60",
   "metadata": {},
   "outputs": [],
   "source": [
    "listings_merged = pd.read_csv('airBNB_ratings+model.csv')"
   ]
  },
  {
   "cell_type": "code",
   "execution_count": 4,
   "id": "7c05bbd3",
   "metadata": {},
   "outputs": [
    {
     "data": {
      "text/html": [
       "<div>\n",
       "<style scoped>\n",
       "    .dataframe tbody tr th:only-of-type {\n",
       "        vertical-align: middle;\n",
       "    }\n",
       "\n",
       "    .dataframe tbody tr th {\n",
       "        vertical-align: top;\n",
       "    }\n",
       "\n",
       "    .dataframe thead th {\n",
       "        text-align: right;\n",
       "    }\n",
       "</style>\n",
       "<table border=\"1\" class=\"dataframe\">\n",
       "  <thead>\n",
       "    <tr style=\"text-align: right;\">\n",
       "      <th></th>\n",
       "      <th>Unnamed: 0</th>\n",
       "      <th>id</th>\n",
       "      <th>number_of_reviews</th>\n",
       "      <th>review_scores_rating</th>\n",
       "      <th>Polarity_Score</th>\n",
       "      <th>positive</th>\n",
       "    </tr>\n",
       "  </thead>\n",
       "  <tbody>\n",
       "    <tr>\n",
       "      <th>0</th>\n",
       "      <td>0</td>\n",
       "      <td>2818</td>\n",
       "      <td>248</td>\n",
       "      <td>97.0</td>\n",
       "      <td>68.525265</td>\n",
       "      <td>98.536585</td>\n",
       "    </tr>\n",
       "    <tr>\n",
       "      <th>1</th>\n",
       "      <td>1</td>\n",
       "      <td>3209</td>\n",
       "      <td>42</td>\n",
       "      <td>96.0</td>\n",
       "      <td>69.829261</td>\n",
       "      <td>93.333333</td>\n",
       "    </tr>\n",
       "    <tr>\n",
       "      <th>2</th>\n",
       "      <td>2</td>\n",
       "      <td>20168</td>\n",
       "      <td>233</td>\n",
       "      <td>87.0</td>\n",
       "      <td>66.082649</td>\n",
       "      <td>95.408163</td>\n",
       "    </tr>\n",
       "    <tr>\n",
       "      <th>3</th>\n",
       "      <td>4</td>\n",
       "      <td>27886</td>\n",
       "      <td>171</td>\n",
       "      <td>99.0</td>\n",
       "      <td>71.785949</td>\n",
       "      <td>99.295775</td>\n",
       "    </tr>\n",
       "    <tr>\n",
       "      <th>4</th>\n",
       "      <td>5</td>\n",
       "      <td>28658</td>\n",
       "      <td>434</td>\n",
       "      <td>93.0</td>\n",
       "      <td>69.920556</td>\n",
       "      <td>99.390244</td>\n",
       "    </tr>\n",
       "  </tbody>\n",
       "</table>\n",
       "</div>"
      ],
      "text/plain": [
       "   Unnamed: 0     id  number_of_reviews  review_scores_rating  Polarity_Score  \\\n",
       "0           0   2818                248                  97.0       68.525265   \n",
       "1           1   3209                 42                  96.0       69.829261   \n",
       "2           2  20168                233                  87.0       66.082649   \n",
       "3           4  27886                171                  99.0       71.785949   \n",
       "4           5  28658                434                  93.0       69.920556   \n",
       "\n",
       "    positive  \n",
       "0  98.536585  \n",
       "1  93.333333  \n",
       "2  95.408163  \n",
       "3  99.295775  \n",
       "4  99.390244  "
      ]
     },
     "execution_count": 4,
     "metadata": {},
     "output_type": "execute_result"
    }
   ],
   "source": [
    "listings_merged.head()"
   ]
  },
  {
   "cell_type": "code",
   "execution_count": 6,
   "id": "2926915a",
   "metadata": {},
   "outputs": [],
   "source": [
    "listings_merged = listings_merged.drop('Unnamed: 0', axis = 1)"
   ]
  },
  {
   "cell_type": "code",
   "execution_count": 8,
   "id": "96cf5e2e",
   "metadata": {},
   "outputs": [
    {
     "data": {
      "text/html": [
       "<div>\n",
       "<style scoped>\n",
       "    .dataframe tbody tr th:only-of-type {\n",
       "        vertical-align: middle;\n",
       "    }\n",
       "\n",
       "    .dataframe tbody tr th {\n",
       "        vertical-align: top;\n",
       "    }\n",
       "\n",
       "    .dataframe thead th {\n",
       "        text-align: right;\n",
       "    }\n",
       "</style>\n",
       "<table border=\"1\" class=\"dataframe\">\n",
       "  <thead>\n",
       "    <tr style=\"text-align: right;\">\n",
       "      <th></th>\n",
       "      <th>id</th>\n",
       "      <th>number_of_reviews</th>\n",
       "      <th>review_scores_rating</th>\n",
       "      <th>Polarity_Score</th>\n",
       "      <th>positive</th>\n",
       "    </tr>\n",
       "  </thead>\n",
       "  <tbody>\n",
       "    <tr>\n",
       "      <th>0</th>\n",
       "      <td>2818</td>\n",
       "      <td>248</td>\n",
       "      <td>97.0</td>\n",
       "      <td>68.525265</td>\n",
       "      <td>98.536585</td>\n",
       "    </tr>\n",
       "    <tr>\n",
       "      <th>1</th>\n",
       "      <td>3209</td>\n",
       "      <td>42</td>\n",
       "      <td>96.0</td>\n",
       "      <td>69.829261</td>\n",
       "      <td>93.333333</td>\n",
       "    </tr>\n",
       "    <tr>\n",
       "      <th>2</th>\n",
       "      <td>20168</td>\n",
       "      <td>233</td>\n",
       "      <td>87.0</td>\n",
       "      <td>66.082649</td>\n",
       "      <td>95.408163</td>\n",
       "    </tr>\n",
       "    <tr>\n",
       "      <th>3</th>\n",
       "      <td>27886</td>\n",
       "      <td>171</td>\n",
       "      <td>99.0</td>\n",
       "      <td>71.785949</td>\n",
       "      <td>99.295775</td>\n",
       "    </tr>\n",
       "    <tr>\n",
       "      <th>4</th>\n",
       "      <td>28658</td>\n",
       "      <td>434</td>\n",
       "      <td>93.0</td>\n",
       "      <td>69.920556</td>\n",
       "      <td>99.390244</td>\n",
       "    </tr>\n",
       "  </tbody>\n",
       "</table>\n",
       "</div>"
      ],
      "text/plain": [
       "      id  number_of_reviews  review_scores_rating  Polarity_Score   positive\n",
       "0   2818                248                  97.0       68.525265  98.536585\n",
       "1   3209                 42                  96.0       69.829261  93.333333\n",
       "2  20168                233                  87.0       66.082649  95.408163\n",
       "3  27886                171                  99.0       71.785949  99.295775\n",
       "4  28658                434                  93.0       69.920556  99.390244"
      ]
     },
     "execution_count": 8,
     "metadata": {},
     "output_type": "execute_result"
    }
   ],
   "source": [
    "listings_merged.head()"
   ]
  },
  {
   "cell_type": "code",
   "execution_count": 10,
   "id": "7d053802",
   "metadata": {},
   "outputs": [],
   "source": [
    "RealScoring=[]\n",
    "\n",
    "for i in range(len(listings_merged)):\n",
    "    RealScoring.append((listings_merged['review_scores_rating'][i])-(listings_merged['positive'][i]))\n",
    "    \n",
    "listings_merged['accuracy']=RealScoring"
   ]
  },
  {
   "cell_type": "code",
   "execution_count": 11,
   "id": "b473270c",
   "metadata": {},
   "outputs": [
    {
     "data": {
      "text/html": [
       "<div>\n",
       "<style scoped>\n",
       "    .dataframe tbody tr th:only-of-type {\n",
       "        vertical-align: middle;\n",
       "    }\n",
       "\n",
       "    .dataframe tbody tr th {\n",
       "        vertical-align: top;\n",
       "    }\n",
       "\n",
       "    .dataframe thead th {\n",
       "        text-align: right;\n",
       "    }\n",
       "</style>\n",
       "<table border=\"1\" class=\"dataframe\">\n",
       "  <thead>\n",
       "    <tr style=\"text-align: right;\">\n",
       "      <th></th>\n",
       "      <th>id</th>\n",
       "      <th>number_of_reviews</th>\n",
       "      <th>review_scores_rating</th>\n",
       "      <th>Polarity_Score</th>\n",
       "      <th>positive</th>\n",
       "      <th>accuracy</th>\n",
       "    </tr>\n",
       "  </thead>\n",
       "  <tbody>\n",
       "    <tr>\n",
       "      <th>0</th>\n",
       "      <td>2818</td>\n",
       "      <td>248</td>\n",
       "      <td>97.0</td>\n",
       "      <td>68.525265</td>\n",
       "      <td>98.536585</td>\n",
       "      <td>-1.536585</td>\n",
       "    </tr>\n",
       "    <tr>\n",
       "      <th>1</th>\n",
       "      <td>3209</td>\n",
       "      <td>42</td>\n",
       "      <td>96.0</td>\n",
       "      <td>69.829261</td>\n",
       "      <td>93.333333</td>\n",
       "      <td>2.666667</td>\n",
       "    </tr>\n",
       "    <tr>\n",
       "      <th>2</th>\n",
       "      <td>20168</td>\n",
       "      <td>233</td>\n",
       "      <td>87.0</td>\n",
       "      <td>66.082649</td>\n",
       "      <td>95.408163</td>\n",
       "      <td>-8.408163</td>\n",
       "    </tr>\n",
       "    <tr>\n",
       "      <th>3</th>\n",
       "      <td>27886</td>\n",
       "      <td>171</td>\n",
       "      <td>99.0</td>\n",
       "      <td>71.785949</td>\n",
       "      <td>99.295775</td>\n",
       "      <td>-0.295775</td>\n",
       "    </tr>\n",
       "    <tr>\n",
       "      <th>4</th>\n",
       "      <td>28658</td>\n",
       "      <td>434</td>\n",
       "      <td>93.0</td>\n",
       "      <td>69.920556</td>\n",
       "      <td>99.390244</td>\n",
       "      <td>-6.390244</td>\n",
       "    </tr>\n",
       "  </tbody>\n",
       "</table>\n",
       "</div>"
      ],
      "text/plain": [
       "      id  number_of_reviews  review_scores_rating  Polarity_Score   positive  \\\n",
       "0   2818                248                  97.0       68.525265  98.536585   \n",
       "1   3209                 42                  96.0       69.829261  93.333333   \n",
       "2  20168                233                  87.0       66.082649  95.408163   \n",
       "3  27886                171                  99.0       71.785949  99.295775   \n",
       "4  28658                434                  93.0       69.920556  99.390244   \n",
       "\n",
       "   accuracy  \n",
       "0 -1.536585  \n",
       "1  2.666667  \n",
       "2 -8.408163  \n",
       "3 -0.295775  \n",
       "4 -6.390244  "
      ]
     },
     "execution_count": 11,
     "metadata": {},
     "output_type": "execute_result"
    }
   ],
   "source": [
    "listings_merged.head()"
   ]
  },
  {
   "cell_type": "code",
   "execution_count": 12,
   "id": "aca3720a",
   "metadata": {},
   "outputs": [
    {
     "data": {
      "text/plain": [
       "<AxesSubplot:>"
      ]
     },
     "execution_count": 12,
     "metadata": {},
     "output_type": "execute_result"
    },
    {
     "data": {
      "image/png": "[encoded data removed]",
      "text/plain": [
       "<Figure size 640x480 with 1 Axes>"
      ]
     },
     "metadata": {},
     "output_type": "display_data"
    }
   ],
   "source": [
    "sns.boxplot(data=listings_merged['accuracy'])"
   ]
  },
  {
   "cell_type": "code",
   "execution_count": 19,
   "id": "d22e89c6",
   "metadata": {},
   "outputs": [],
   "source": [
    "toobigsmalllist=[]\n",
    "for i in range(len(listings_merged)):\n",
    "    if(listings_merged.accuracy[i]>10 or listings_merged.accuracy[i]<-10):\n",
    "        toobigsmalllist.append(True)"
   ]
  },
  {
   "cell_type": "code",
   "execution_count": 22,
   "id": "f8301881",
   "metadata": {},
   "outputs": [
    {
     "data": {
      "text/plain": [
       "1891"
      ]
     },
     "execution_count": 22,
     "metadata": {},
     "output_type": "execute_result"
    }
   ],
   "source": [
    "len(toobigsmalllist)"
   ]
  },
  {
   "cell_type": "code",
   "execution_count": 24,
   "id": "2cf31073",
   "metadata": {},
   "outputs": [
    {
     "data": {
      "text/plain": [
       "(13001, 6)"
      ]
     },
     "execution_count": 24,
     "metadata": {},
     "output_type": "execute_result"
    }
   ],
   "source": [
    "listings_merged.shape"
   ]
  },
  {
   "cell_type": "code",
   "execution_count": 25,
   "id": "7b6a15a0",
   "metadata": {},
   "outputs": [],
   "source": [
    "listings_merged.to_csv('AccuracyDF.csv')"
   ]
  },
  {
   "cell_type": "code",
   "execution_count": 3,
   "id": "a0954d40",
   "metadata": {},
   "outputs": [],
   "source": [
    "accuracydf=pd.read_csv('AccuracyDF.csv')"
   ]
  },
  {
   "cell_type": "code",
   "execution_count": 4,
   "id": "432b6d8c",
   "metadata": {},
   "outputs": [
    {
     "data": {
      "text/html": [
       "<div>\n",
       "<style scoped>\n",
       "    .dataframe tbody tr th:only-of-type {\n",
       "        vertical-align: middle;\n",
       "    }\n",
       "\n",
       "    .dataframe tbody tr th {\n",
       "        vertical-align: top;\n",
       "    }\n",
       "\n",
       "    .dataframe thead th {\n",
       "        text-align: right;\n",
       "    }\n",
       "</style>\n",
       "<table border=\"1\" class=\"dataframe\">\n",
       "  <thead>\n",
       "    <tr style=\"text-align: right;\">\n",
       "      <th></th>\n",
       "      <th>Unnamed: 0</th>\n",
       "      <th>id</th>\n",
       "      <th>number_of_reviews</th>\n",
       "      <th>review_scores_rating</th>\n",
       "      <th>Polarity_Score</th>\n",
       "      <th>positive</th>\n",
       "      <th>accuracy</th>\n",
       "    </tr>\n",
       "  </thead>\n",
       "  <tbody>\n",
       "    <tr>\n",
       "      <th>0</th>\n",
       "      <td>0</td>\n",
       "      <td>2818</td>\n",
       "      <td>248</td>\n",
       "      <td>97.0</td>\n",
       "      <td>68.525265</td>\n",
       "      <td>98.536585</td>\n",
       "      <td>-1.536585</td>\n",
       "    </tr>\n",
       "    <tr>\n",
       "      <th>1</th>\n",
       "      <td>1</td>\n",
       "      <td>3209</td>\n",
       "      <td>42</td>\n",
       "      <td>96.0</td>\n",
       "      <td>69.829261</td>\n",
       "      <td>93.333333</td>\n",
       "      <td>2.666667</td>\n",
       "    </tr>\n",
       "    <tr>\n",
       "      <th>2</th>\n",
       "      <td>2</td>\n",
       "      <td>20168</td>\n",
       "      <td>233</td>\n",
       "      <td>87.0</td>\n",
       "      <td>66.082649</td>\n",
       "      <td>95.408163</td>\n",
       "      <td>-8.408163</td>\n",
       "    </tr>\n",
       "    <tr>\n",
       "      <th>3</th>\n",
       "      <td>3</td>\n",
       "      <td>27886</td>\n",
       "      <td>171</td>\n",
       "      <td>99.0</td>\n",
       "      <td>71.785949</td>\n",
       "      <td>99.295775</td>\n",
       "      <td>-0.295775</td>\n",
       "    </tr>\n",
       "    <tr>\n",
       "      <th>4</th>\n",
       "      <td>4</td>\n",
       "      <td>28658</td>\n",
       "      <td>434</td>\n",
       "      <td>93.0</td>\n",
       "      <td>69.920556</td>\n",
       "      <td>99.390244</td>\n",
       "      <td>-6.390244</td>\n",
       "    </tr>\n",
       "  </tbody>\n",
       "</table>\n",
       "</div>"
      ],
      "text/plain": [
       "   Unnamed: 0     id  number_of_reviews  review_scores_rating  Polarity_Score  \\\n",
       "0           0   2818                248                  97.0       68.525265   \n",
       "1           1   3209                 42                  96.0       69.829261   \n",
       "2           2  20168                233                  87.0       66.082649   \n",
       "3           3  27886                171                  99.0       71.785949   \n",
       "4           4  28658                434                  93.0       69.920556   \n",
       "\n",
       "    positive  accuracy  \n",
       "0  98.536585 -1.536585  \n",
       "1  93.333333  2.666667  \n",
       "2  95.408163 -8.408163  \n",
       "3  99.295775 -0.295775  \n",
       "4  99.390244 -6.390244  "
      ]
     },
     "execution_count": 4,
     "metadata": {},
     "output_type": "execute_result"
    }
   ],
   "source": [
    "accuracydf.head()"
   ]
  },
  {
   "cell_type": "code",
   "execution_count": 5,
   "id": "9dd38630",
   "metadata": {},
   "outputs": [
    {
     "data": {
      "text/plain": [
       "-16.0"
      ]
     },
     "execution_count": 5,
     "metadata": {},
     "output_type": "execute_result"
    }
   ],
   "source": [
    "r2_score([1,2,3],[4,5,7])"
   ]
  },
  {
   "cell_type": "code",
   "execution_count": 9,
   "id": "6bc1f245",
   "metadata": {},
   "outputs": [
    {
     "data": {
      "text/plain": [
       "0.5"
      ]
     },
     "execution_count": 9,
     "metadata": {},
     "output_type": "execute_result"
    }
   ],
   "source": [
    "r2_score([1,2,3],[1,2,4])"
   ]
  },
  {
   "cell_type": "code",
   "execution_count": null,
   "id": "4247814e",
   "metadata": {},
   "outputs": [],
   "source": []
  }
 ],
 "metadata": {
  "kernelspec": {
   "display_name": "Python 3 (ipykernel)",
   "language": "python",
   "name": "python3"
  },
  "language_info": {
   "codemirror_mode": {
    "name": "ipython",
    "version": 3
   },
   "file_extension": ".py",
   "mimetype": "text/x-python",
   "name": "python",
   "nbconvert_exporter": "python",
   "pygments_lexer": "ipython3",
   "version": "3.9.12"
  }
 },
 "nbformat": 4,
 "nbformat_minor": 5
}
