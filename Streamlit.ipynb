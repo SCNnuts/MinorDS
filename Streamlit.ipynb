{
 "cells": [
  {
   "cell_type": "code",
   "execution_count": 6,
   "id": "09741eec",
   "metadata": {},
   "outputs": [],
   "source": [
    "import pandas as pd\n",
    "import numpy as np\n",
    "import requests\n",
    "import json\n",
    "import math\n",
    "import geopandas as gpd\n",
    "import folium\n",
    "from folium import plugins\n",
    "import matplotlib.pyplot as plt\n",
    "import seaborn as sns\n",
    "import plotly.express as px\n",
    "from folium import Choropleth, Marker\n",
    "from folium.plugins import HeatMap, MarkerCluster, HeatMapWithTime\n",
    "import streamlit as st\n",
    "from streamlit_folium import st_folium\n"
   ]
  },
  {
   "cell_type": "markdown",
   "id": "79fd3242",
   "metadata": {},
   "source": [
    "## Importing the CSVs"
   ]
  },
  {
   "cell_type": "code",
   "execution_count": 44,
   "id": "80b56def",
   "metadata": {},
   "outputs": [],
   "source": [
    "listings_df = pd.read_csv('listings.csv')\n",
    "neighbourhoods_geoj = gpd.read_file('neighbourhoods.geojson')\n",
    "woz_df = pd.read_csv('woz.csv')\n",
    "personen_df = pd.read_csv('personen.csv')\n",
    "ratings_df = pd.read_csv('PriceRatingDF.csv')\n",
    "reviews_details_df = pd.read_csv('reviews_details.csv')\n",
    "listings_woz = pd.read_csv('listings_woz.csv')\n",
    "conclusie = pd.read_csv('conclusie.csv')"
   ]
  },
  {
   "cell_type": "code",
   "execution_count": 8,
   "id": "1890d32d",
   "metadata": {},
   "outputs": [],
   "source": [
    "ratings_df = ratings_df.rename(columns={'review_scores_rating':'Review score', 'positive':'Review score model', 'price':'Prijs'})"
   ]
  },
  {
   "cell_type": "markdown",
   "id": "42580f40",
   "metadata": {},
   "source": [
    "## Maps"
   ]
  },
  {
   "cell_type": "code",
   "execution_count": 10,
   "id": "ed0c7069",
   "metadata": {},
   "outputs": [
    {
     "data": {
      "text/plain": [
       "<folium.plugins.heat_map.HeatMap at 0x2d10a4bb310>"
      ]
     },
     "execution_count": 10,
     "metadata": {},
     "output_type": "execute_result"
    }
   ],
   "source": [
    "m1 = folium.Map(location=[52.37,4.89], tiles='cartodbpositron', zoom_start=12)\n",
    "\n",
    "HeatMap(data=listings_df[['latitude', 'longitude']], radius=15, min_opacity=0.3).add_to(m1)"
   ]
  },
  {
   "cell_type": "code",
   "execution_count": 11,
   "id": "9a0fdce2",
   "metadata": {},
   "outputs": [],
   "source": [
    "price = listings_df.groupby('neighbourhood').price.mean()\n",
    "#availability = listings_df.groupby('neighbourhood').availability_365.mean()\n",
    "gemwoz = listings_woz.groupby('neighbourhood')['gemiddelde WOZ-waarde'].mean()\n",
    "neighbourhoods_geoj.set_index('neighbourhood', inplace=True)\n",
    "\n",
    "m2 = folium.Map(location=[52.37,4.89], tiles='cartodbpositron', zoom_start=11)\n",
    "\n",
    "# Choropleth(geo_data = neighbourhoods_geoj['geometry'], \n",
    "#            data=price, \n",
    "#            key_on=\"feature.id\", \n",
    "#            fill_color='BrBG', \n",
    "#            legend_name='Gemiddelde prijs (€)'\n",
    "#           ).add_to(m2)"
   ]
  },
  {
   "cell_type": "markdown",
   "id": "fa0eb9cf",
   "metadata": {},
   "source": [
    "## Titels"
   ]
  },
  {
   "cell_type": "code",
   "execution_count": 12,
   "id": "5392459d",
   "metadata": {},
   "outputs": [],
   "source": [
    "st.set_page_config(\n",
    "    page_title=\"VA Eind\")"
   ]
  },
  {
   "cell_type": "code",
   "execution_count": 13,
   "id": "ffe3d2df",
   "metadata": {},
   "outputs": [
    {
     "name": "stderr",
     "output_type": "stream",
     "text": [
      "2022-11-10 12:26:21.916 \n",
      "  \u001b[33m\u001b[1mWarning:\u001b[0m to view this Streamlit app on a browser, run it with the following\n",
      "  command:\n",
      "\n",
      "    streamlit run C:\\Users\\Tim Rentenaar\\anaconda3\\envs\\geo_env\\lib\\site-packages\\ipykernel_launcher.py [ARGUMENTS]\n"
     ]
    },
    {
     "data": {
      "text/plain": [
       "DeltaGenerator(_root_container=0, _provided_cursor=None, _parent=None, _block_type=None, _form_data=None)"
      ]
     },
     "execution_count": 13,
     "metadata": {},
     "output_type": "execute_result"
    }
   ],
   "source": [
    "st.title('Welke factoren kunnen de Airbnb prijs in Amsterdam beïnvloeden?')"
   ]
  },
  {
   "cell_type": "code",
   "execution_count": 14,
   "id": "3a375d4e",
   "metadata": {},
   "outputs": [],
   "source": [
    "h1, h2, h3, h4, h5, h6 = st.tabs(['Inleiding','Gebruikte datasets','Locatie & Huisprijs','Reviews','Aantal Personen','Conclusie'])"
   ]
  },
  {
   "cell_type": "markdown",
   "id": "326eb03c",
   "metadata": {},
   "source": [
    "### H1 Inleiding"
   ]
  },
  {
   "cell_type": "code",
   "execution_count": 15,
   "id": "71b28595",
   "metadata": {},
   "outputs": [],
   "source": [
    "from PIL import Image"
   ]
  },
  {
   "cell_type": "code",
   "execution_count": 16,
   "id": "04ff74b6",
   "metadata": {},
   "outputs": [],
   "source": [
    "with h1:\n",
    "    st.header('Inleiding')\n",
    "    st.text('''Dit is een dashboard van het onderzoek naar de AIRBNB prijs in Amsterdam. Er wordt\n",
    "gekeken naar welke factoren de grootste invloed kunnen hebben op deze prijs. De data\n",
    "die gebruikt is tijdens het onderzoek komt van Kaggle en bevat data over de AIRBNB \n",
    "situatie op 6 december 2018.''')\n",
    "    \n",
    "    image = Image.open('Airbnb.jpg')\n",
    "    st.image(image, width=700)\n",
    "\n",
    "    st.text('''De verwachte uitkomst van het onderzoek is dat de Huisprijs, Reviews en Aantal \n",
    "Personen de grootste invloed hebben op de AIRBNB prijs. In de volgende slides zal \n",
    "hier meer over verteld worden, maar eerst zullen de datasets verduidelijkt worden.''')"
   ]
  },
  {
   "cell_type": "markdown",
   "id": "7fb7bfcd",
   "metadata": {},
   "source": [
    "### H2 Gebruikte datasets"
   ]
  },
  {
   "cell_type": "code",
   "execution_count": 17,
   "id": "5465b1d3",
   "metadata": {},
   "outputs": [],
   "source": [
    "with h2:\n",
    "    st.header('Gebruikte datasets')\n",
    "    st.text('''De datasets die gebruikt worden tijdens het onderzoek bevatten locaties, prijs en\n",
    "reviews van de AIRBNB's in Amsterdam. Hieronder zijn kleine delen van de gebruikte \n",
    "datasets te zien.''')\n",
    "    \n",
    "    ### DATAFRAMES ###\n",
    "    st.write('listings.csv, van kaggle.com binnengehaald met de Kaggle API [link](https://www.kaggle.com/datasets/erikbruin/airbnb-amsterdam?select=listings.csv)')\n",
    "    listings_df_head=listings_df.head()\n",
    "    st.dataframe(listings_df_head)\n",
    "    \n",
    "    reviews_details_drop = reviews_details_df.drop('Unnamed: 0', axis=1)\n",
    "    st.write('reviews_details.csv, van kaggle.com binnengehaald met de Kaggle API [link](https://www.kaggle.com/datasets/erikbruin/airbnb-amsterdam?select=listings.csv)')\n",
    "    st.dataframe(reviews_details_drop)\n",
    "    \n",
    "    st.write('woz.xlsx, van data.amsterdam.nl binnengehaald met API [link](https://data.amsterdam.nl/datasets/03G1QUEsOQ2Xkw/woningmarkt-amsterdam/)')\n",
    "    woz_df_head = woz_df[['gebied','gemiddelde WOZ-waarde','gemiddelde WOZ-waarde per m2']].head()\n",
    "    st.dataframe(woz_df_head)\n"
   ]
  },
  {
   "cell_type": "markdown",
   "id": "e3ae612f",
   "metadata": {},
   "source": [
    "### H3 Locatie + WOZ"
   ]
  },
  {
   "cell_type": "code",
   "execution_count": 18,
   "id": "3806ff5b",
   "metadata": {},
   "outputs": [
    {
     "data": {
      "image/png": "[encoded data removed]",
      "text/plain": [
       "<Figure size 1000x400 with 1 Axes>"
      ]
     },
     "metadata": {},
     "output_type": "display_data"
    }
   ],
   "source": [
    "with h3:\n",
    "    st.header('Locatie & Huisprijs')\n",
    "    st.text('''Om te bepalen in welke maten de locatie van de AIRBNB een correlatie heeft met de  \n",
    "prijs is de locatiedata van de AIRBNB's van groot belang. Met de LAT en LNG \n",
    "variabelen kan er in kaart gebracht worden waar in Amsterdam de AIRBNB's gevestigd \n",
    "zijn. Verder wordt hier gebruik gemaakt van de WOZ dataset, waarin de gemiddelde \n",
    "prijs van panden per buurt zijn beschreven. Hiermee kan bepaald worden wat de \n",
    "invloed is van de huisprijs op de prijs van de AIRBNB. ''')\n",
    "    \n",
    "    option = st.selectbox('Welke kaart?', ('Heatmap','Choropleth'))\n",
    "    \n",
    "    if option == 'Heatmap':\n",
    "        st_data = st_folium(m1, width=700)\n",
    "    elif option == 'Choropleth':\n",
    "        option2 = st.selectbox('Wat wil je zien?', ('Gemiddelde Airbnb prijs','Gemiddelde huisprijs'))\n",
    "        if option2 == 'Gemiddelde Airbnb prijs':\n",
    "            Choropleth(geo_data = neighbourhoods_geoj['geometry'], \n",
    "                       data=price, \n",
    "                       key_on=\"feature.id\", \n",
    "                       fill_color='YlOrRd', \n",
    "                       legend_name='Gemiddelde Airbnb prijs (€)'\n",
    "                      ).add_to(m2)\n",
    "        elif option2 == 'Gemiddelde huisprijs':\n",
    "            Choropleth(geo_data = neighbourhoods_geoj['geometry'], \n",
    "                       data=gemwoz, \n",
    "                       key_on=\"feature.id\", \n",
    "                       fill_color='YlOrRd', \n",
    "                       legend_name='Gemiddelde Huisprijs (€)'\n",
    "                      ).add_to(m2)\n",
    "        st_data = st_folium(m2, width=700)\n",
    "    \n",
    "    st.text('''Op de bovenstaande kaart staan alle AIRBNB's in Amsterdam, gesorteerd op AIRBNB \n",
    "prijs per nacht. Uit de kaart blijkt dat de AIRBNB prijs per nacht in het centrum\n",
    "van Amsterdam het hoogste is, en hoe verder de AIRBNB buiten het centrum zit hoe \n",
    "goedkoper het wordt.''')\n",
    "    \n",
    "    fig = plt.figure(figsize=(10,4))\n",
    "    sns.regplot(data=woz_df, x='gemiddelde WOZ-waarde', y='gemiddelde Airbnb prijs').set(title='Het verband tussen de huisprijs en Airbnb prijs', xlabel='Gemiddelde huisprijs (€)', ylabel='Gemiddelde Airbnb prijs (€)')\n",
    "    st.pyplot(fig)\n",
    "    \n",
    "    corr_matrix = np.corrcoef(woz_df['gemiddelde WOZ-waarde'], woz_df['gemiddelde Airbnb prijs'])\n",
    "    corr = corr_matrix[0,1]\n",
    "    R_sq = corr**2\n",
    "    \n",
    "    st.code('''corr_matrix = np.corrcoef(woz_df['gemiddelde WOZ-waarde'], woz_df['gemiddelde Airbnb prijs'])\n",
    "corr = corr_matrix2[0,1]\n",
    "R_sq = corr**2\n",
    "R_sq''')\n",
    "    \n",
    "    st.write(\"Coefficient of determination: \", R_sq)\n",
    "    \n",
    "    st.text('''In de bovenstaande regressieplot is de relatie tussen de huisprjis en AIRBNB prijs \n",
    "weergeggeven, en hieruit blijkt dat er een hele mooie lineaire regressielijn \n",
    "getekend kan worden tussen de puntenvan de scatterplot. De AIRBNB prijs hangt dus \n",
    "zeker af van de huisprijs. In de volgende slide wordt gekeken of de reviews een \n",
    "correlatie hebben met de AIRBNB prijs.''')"
   ]
  },
  {
   "cell_type": "markdown",
   "id": "6f8b1961",
   "metadata": {},
   "source": [
    "### H4 Reviews"
   ]
  },
  {
   "cell_type": "code",
   "execution_count": 19,
   "id": "8277cbbc",
   "metadata": {},
   "outputs": [],
   "source": [
    "with h4:\n",
    "    st.header('Reviews')\n",
    "    st.text('''Voor het onderzoek is er van uit gegaan dat de reviews een grote invloed hebben op  \n",
    "de AIRBNB prijs. Er is tijdens het onderzoek veel tijd besteed om de reviews goed   \n",
    "in kaart te brengen. Er zijn in totaal 430k reviews achtergelaten op AIRBNB's in\n",
    "Amsterdam, en hiervan is een grote dataset beschikbaar. Het probleem met deze\n",
    "dataset is dat er geen score van de review beschikbaar was, alleen een comment. Met\n",
    "de Spacy package was het mogelijk om deze comments om te zetten naar positieve/\n",
    "negatieve reviews om zo een score per review te bepalen. Uiteindelijk waren er wel\n",
    "gemiddelde scores per AIRBNB adres beschikbaar. Deze scores zijn verder gebruikt in\n",
    "het onderzoek om te kijken wat de correlatie is tussen de AIRBNB prijs en de reviews,\n",
    "maar eerst wordt er gekeken of de Spacy package de comments accuraat heeft omgezet\n",
    "naar positief/negatief.''')\n",
    "    \n",
    "    ### DATAFRAME ###\n",
    "    image1 = Image.open('image1.png')\n",
    "    st.image(image1, width=300)\n",
    "    \n",
    "    st.text('''Hierboven is het dataframe te zien waarin de Polarity score is berekend. Aangezien\n",
    "deze score per review is weergeven, moet dit dataframe gesorteerd worden per AIRBNB\n",
    "locatie. ''')\n",
    "    \n",
    "    ### DATAFRAME ###\n",
    "    image2 = Image.open('image2.png')\n",
    "    st.image(image2, width=300)\n",
    "    \n",
    "    st.text('''Nu de Polarity per adres bekend is, kan er gekeken worden of het Spacy package de\n",
    "comments accuraat omgezet heeft naar Polarity.''')\n",
    "    \n",
    "    ### DATAFRAME ###\n",
    "    image3 = Image.open('image3.png')\n",
    "    st.image(image3, width=300)\n",
    "    \n",
    "    st.text('''In dit dataframe zijn de berekende review score en werkelijke score per AIRBNB\n",
    "locatie weergeven. De spreiding van beide scores is hieronder weergegeven in een\n",
    "boxplot.''')\n",
    "    \n",
    "    ### BOXPLOT ###\n",
    "    ratings_model_melted = pd.melt(ratings_df[['Review score model','Review score']])\n",
    "    \n",
    "    fig4 = plt.figure(figsize=(10,4))\n",
    "    sns.boxplot(y='variable',x='value',data=ratings_model_melted).set(title='Verdeling van review scores uit het model en originele review scores', xlabel='Review waarde', ylabel='Review types')\n",
    "    st.pyplot(fig4)\n",
    "    \n",
    "    st.text('''Uit de boxplot blijkt ook dat de scores overeenkomen, aangezien beide boxen boven \n",
    "elkaar liggen. Dit is verder ook te zien in de volgende boxplot, waar de spreiding\n",
    "van de accuracy weergeven is.''')\n",
    "    \n",
    "    ### BOXPLOT ###\n",
    "    fig6 = plt.figure(figsize=(10,4))\n",
    "    sns.boxplot(data=ratings_df, x='accuracy').set(title='Spreiding van de accuracy van het model', xlabel='Accuracy', ylabel='Review scores model')\n",
    "    st.pyplot(fig6)\n",
    "    \n",
    "    st.text('''Ook in de accuracy boxplot is te zien dat de volledige boxplot binnen de +10 en -10\n",
    "valt, dus dat betekent dat de accuracy van de Spacy package heel hoog is (later\n",
    "uitgerekend: 93% van de gegenereerde getallenn liggen +10 of -10 bij de echte waarde\n",
    "vandaan).''')\n",
    "    \n",
    "    st.text('''Verder is er gekeken of er een relatie is tussen de AIRBNB review-score en de AIRBNB\n",
    "prijs. Deze is weergegeven in de Scatterplot.''')\n",
    "    \n",
    "    ### SCATTERPLOT ###\n",
    "    \n",
    "    fig5 = plt.figure(figsize=(10,4))\n",
    "    sns.scatterplot(data=ratings_df, x='Review score', y='Prijs').set(title='Het verband tussen de review scores en de Airbnb prijs', xlabel='Review score', ylabel='Prijs (€)')\n",
    "    st.pyplot(fig5)\n",
    "    \n",
    "    st.text('''Uit de scatterplot is geen duidelijke relatie te vinden tussen de review score en de \n",
    "prijs. Alle dots liggen verspreid door de plot en er is geen duidelijke trend te \n",
    "vinden.''')"
   ]
  },
  {
   "cell_type": "markdown",
   "id": "1522bddb",
   "metadata": {},
   "source": [
    "### H5 Aantal Personen"
   ]
  },
  {
   "cell_type": "code",
   "execution_count": 20,
   "id": "f6bc57c3",
   "metadata": {},
   "outputs": [],
   "source": [
    "with h5:\n",
    "    st.header('Aantal personen')\n",
    "    st.text('''De relatie tussen het aantal personen in een AIRBNB locatie en de AIRBNB prijs wordt\n",
    "in dit deel onder de loep genomen. Eerst wordt er gekeken naar de verdeling van het\n",
    "aantal personen per AIRBNB locatie.''')\n",
    "    \n",
    "    xrange = st.slider('X bereik',0,8,18)\n",
    "    \n",
    "    fig2 = plt.figure(figsize=(10,4))\n",
    "    plt.hist(personen_df['accommodates'], bins=10)\n",
    "    plt.title('Verdeling van aantal personen')\n",
    "    plt.xlabel('Aantal personen')\n",
    "    plt.ylabel('Aantal')\n",
    "    plt.xlim([0,xrange])\n",
    "    st.pyplot(fig2)\n",
    "    \n",
    "    st.text('''Uit de histogram blijkt dat de 2 persoons AIRBNB het meest voorkomt in Amsterdam. En \n",
    "hoe meer personen in de AIRBNB kunnen, hoe minder deze voorkomen. Nu wordt er een \n",
    "regressieplot gemaakt tussen het aantal personen en de prijs.''')\n",
    "    \n",
    "    fig3, ax3 = plt.subplots()\n",
    "    sns.regplot(data=personen_df, x='accommodates', y='price', scatter_kws={'alpha':0.25}, x_jitter=0.1).set(title='Verband tussen het aantal personen en de Airbnb prijs', xlabel='Aantal personen', ylabel='Prijs (€)')\n",
    "    ax3.set_xlim(0,xrange)\n",
    "    st.pyplot(fig3)\n",
    "    \n",
    "    st.text('''Uit de bovenstaande regressieplot blijkt dat er correlatie is tussen het aantal \n",
    "personen per AIRBNB en de prijs van de AIRBNB, want hoe meer personen er in de AIRBNB \n",
    "kunnen hoe hoger de prijs wordt.''')"
   ]
  },
  {
   "cell_type": "markdown",
   "id": "f85949a4",
   "metadata": {},
   "source": [
    "### H6 Conclusie"
   ]
  },
  {
   "cell_type": "code",
   "execution_count": 21,
   "id": "bc514bd6",
   "metadata": {},
   "outputs": [],
   "source": [
    "with h6:\n",
    "    st.header('Conclusie')\n",
    "    st.text('''- Er is een duidelijke relatie tussen het aantal personen per AIRBNB \n",
    "  en de AIRBNB prijs.\n",
    "- Er is geen duidelijke relatie tussen de review-score en de AIRBNB prijs.\n",
    "- Er is een sterke relatie tussen de gemiddelde huizenprijs \n",
    "  en de gemiddelde AIRBNB prijs per stadsdeel.\n",
    "- Het Spacy model werkte heel goed!''')\n",
    "    \n",
    "    conclusie = conclusie.drop('Unnamed: 0', axis=1)\n",
    "    \n",
    "    figconc = plt.figure(figsize=(10,4))\n",
    "    sns.heatmap(data=conclusie.corr(), cmap = \"YlGnBu\", annot=True, fmt=\".2f\").set(title='De correlatie tussen de Airbnb prijs en de factoren')\n",
    "    st.pyplot(figconc)"
   ]
  }
 ],
 "metadata": {
  "kernelspec": {
   "display_name": "Python 3 (ipykernel)",
   "language": "python",
   "name": "python3"
  },
  "language_info": {
   "codemirror_mode": {
    "name": "ipython",
    "version": 3
   },
   "file_extension": ".py",
   "mimetype": "text/x-python",
   "name": "python",
   "nbconvert_exporter": "python",
   "pygments_lexer": "ipython3",
   "version": "3.10.6"
  }
 },
 "nbformat": 4,
 "nbformat_minor": 5
}
